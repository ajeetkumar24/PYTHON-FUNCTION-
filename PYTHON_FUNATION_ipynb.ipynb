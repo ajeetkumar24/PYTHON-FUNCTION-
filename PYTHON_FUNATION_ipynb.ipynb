{
  "nbformat": 4,
  "nbformat_minor": 0,
  "metadata": {
    "colab": {
      "provenance": []
    },
    "kernelspec": {
      "name": "python3",
      "display_name": "Python 3"
    },
    "language_info": {
      "name": "python"
    }
  },
  "cells": [
    {
      "cell_type": "markdown",
      "source": [
        "***THEORY*** ***QUESTIONS:***"
      ],
      "metadata": {
        "id": "sCZALxdxceCp"
      }
    },
    {
      "cell_type": "markdown",
      "source": [
        "***NOTE***: For each theory Question, give at least one example."
      ],
      "metadata": {
        "id": "oHRxHrM3dAnq"
      }
    },
    {
      "cell_type": "code",
      "source": [
        "# 1. What is the difference between a function and a method in Python?"
      ],
      "metadata": {
        "id": "-e66P53mcwTt"
      },
      "execution_count": null,
      "outputs": []
    },
    {
      "cell_type": "markdown",
      "source": [
        "In Python,\n",
        "\n",
        " a function and a method are both blocks of code that perform a specific task. However, there is a key difference between them.\n",
        "\n",
        "\n",
        "\n",
        "**Function:**\n",
        "\n",
        "* A function is a standalone block of code that can be called from anywhere in your program.\n",
        "\n",
        "* It is not associated with any particular object or class.\n",
        "You define a function using the def keyword.\n"
      ],
      "metadata": {
        "id": "QD9eGQcTdl7r"
      }
    },
    {
      "cell_type": "code",
      "source": [
        "#Example:\n",
        "def greet(name):\n",
        "    print(\"Hello, \" + name + \"!\")\n",
        "\n",
        "greet(\"Ajeet Kumar\")"
      ],
      "metadata": {
        "colab": {
          "base_uri": "https://localhost:8080/"
        },
        "id": "aVsJ0Om6f2uG",
        "outputId": "4b98b743-c8d7-49db-e0d6-afacc8caaca4"
      },
      "execution_count": null,
      "outputs": [
        {
          "output_type": "stream",
          "name": "stdout",
          "text": [
            "Hello, Ajeet Kumar!\n"
          ]
        }
      ]
    },
    {
      "cell_type": "code",
      "source": [],
      "metadata": {
        "id": "uMaIdXQbgVEg"
      },
      "execution_count": null,
      "outputs": []
    },
    {
      "cell_type": "markdown",
      "source": [
        "**Method**:\n",
        "\n",
        "* A method is a function that is defined inside a class.\n",
        "\n",
        "* It is associated with a particular object, which is an instance of that class.\n",
        "\n",
        "* Methods can access and manipulate the data within the object they belong to.\n",
        "\n",
        "* You define a method using the def keyword, but it is indented within the class definition"
      ],
      "metadata": {
        "id": "4Lml9nPTglIz"
      }
    },
    {
      "cell_type": "code",
      "source": [
        "class Person:\n",
        "    def __init__(self, name):\n",
        "        self.name = name\n",
        "\n",
        "    def greet(self):\n",
        "        print(\"Hello, my name is \" + self.name + \"!\")\n",
        "\n",
        "person = Person(\"Ajeet Kumar\")\n",
        "person.greet()"
      ],
      "metadata": {
        "colab": {
          "base_uri": "https://localhost:8080/"
        },
        "id": "6SrP4kIchhtO",
        "outputId": "56729065-c0c5-4dd6-b3d2-f0dc1598d038"
      },
      "execution_count": null,
      "outputs": [
        {
          "output_type": "stream",
          "name": "stdout",
          "text": [
            "Hello, my name is Ajeet Kumar!\n"
          ]
        }
      ]
    },
    {
      "cell_type": "markdown",
      "source": [
        "***In short***:\n",
        "\n",
        "* Functions: Standalone, reusable blocks of code.\n",
        "\n",
        "\n",
        "* Methods: Functions that are part of a class and operate on objects"
      ],
      "metadata": {
        "id": "x5nlfN6Bhyi4"
      }
    },
    {
      "cell_type": "code",
      "source": [],
      "metadata": {
        "id": "GmkFlna6h2iR"
      },
      "execution_count": null,
      "outputs": []
    },
    {
      "cell_type": "code",
      "source": [],
      "metadata": {
        "id": "YjcNlrd0iUz-"
      },
      "execution_count": null,
      "outputs": []
    },
    {
      "cell_type": "code",
      "source": [
        "#2.Explain the concept of a function arguments and parameters in Python."
      ],
      "metadata": {
        "id": "OCD5wUrYiUvq"
      },
      "execution_count": null,
      "outputs": []
    },
    {
      "cell_type": "markdown",
      "source": [
        "In Python,  function arguments and parameters are essential components for defining and using functions effectively. Here's an explanation of their concepts:\n",
        "\n",
        "**Parameters:**\n",
        "\n",
        "* Definition: Parameters are the variables listed inside the parentheses in the function definition. They act as placeholders for the values that will be passed to the function when it is called.\n",
        "* Purpose: Parameters allow functions to be reusable and adaptable to different inputs. They define the expected data types and the number of values a function needs to work correctly.\n"
      ],
      "metadata": {
        "id": "YU3_x2YWi_lD"
      }
    },
    {
      "cell_type": "code",
      "source": [
        "#Example:\n",
        "def greet(name):  # 'name' is a parameter\n",
        "    print(\"Hello,\", name)\n",
        "\n",
        "greet(\"Ajeet Kumar\")"
      ],
      "metadata": {
        "colab": {
          "base_uri": "https://localhost:8080/"
        },
        "id": "N7rSl6LmjbhF",
        "outputId": "f1c3274d-8ca7-40c7-89dc-b10ecf677a58"
      },
      "execution_count": null,
      "outputs": [
        {
          "output_type": "stream",
          "name": "stdout",
          "text": [
            "Hello, Ajeet Kumar\n"
          ]
        }
      ]
    },
    {
      "cell_type": "markdown",
      "source": [
        "**Arguments:**\n",
        "\n",
        "\n",
        "* Definition: Arguments are the actual values passed to a function when it is called. They are the data that gets assigned to the corresponding parameters within the function.\n",
        "\n",
        "* Purpose: Arguments provide the specific information or data that the function needs to perform its task.\n"
      ],
      "metadata": {
        "id": "7NDm5zZ0mDu-"
      }
    },
    {
      "cell_type": "code",
      "source": [
        "greet(\"Ajeet Kumar\") #Ajeet kumar is an arguments."
      ],
      "metadata": {
        "colab": {
          "base_uri": "https://localhost:8080/"
        },
        "id": "hu9j2M6NmP04",
        "outputId": "43c46594-21f6-43c8-8996-e277c52f4a67"
      },
      "execution_count": null,
      "outputs": [
        {
          "output_type": "stream",
          "name": "stdout",
          "text": [
            "Hello, Ajeet Kumar\n"
          ]
        }
      ]
    },
    {
      "cell_type": "code",
      "source": [],
      "metadata": {
        "id": "ETLrU3a5mcqs"
      },
      "execution_count": null,
      "outputs": []
    },
    {
      "cell_type": "code",
      "source": [],
      "metadata": {
        "id": "A6uU8gtDm1Md"
      },
      "execution_count": null,
      "outputs": []
    },
    {
      "cell_type": "code",
      "source": [],
      "metadata": {
        "id": "iiJQm_Jym0xc"
      },
      "execution_count": null,
      "outputs": []
    },
    {
      "cell_type": "code",
      "source": [
        "#3.What are the different ways to define and call a function in Python?"
      ],
      "metadata": {
        "id": "XGZ-WsLRm0q8"
      },
      "execution_count": null,
      "outputs": []
    },
    {
      "cell_type": "markdown",
      "source": [
        "In Python,  I can define functions using the **def** keyword, and call them by their name followed by parentheses(). Here are the different ways to define and call functions:\n"
      ],
      "metadata": {
        "id": "3x0BGzISnKYF"
      }
    },
    {
      "cell_type": "markdown",
      "source": [],
      "metadata": {
        "id": "yvgHG3S3oHRZ"
      }
    },
    {
      "cell_type": "code",
      "source": [
        "#Defining Functions:\n",
        "\n",
        "    1. Basic Function Definition"
      ],
      "metadata": {
        "id": "xVA0-ygoPR18"
      },
      "execution_count": null,
      "outputs": []
    },
    {
      "cell_type": "code",
      "source": [
        "def greet():\n",
        "    print(\"Ajeet Kumar\")\n",
        "greet()"
      ],
      "metadata": {
        "colab": {
          "base_uri": "https://localhost:8080/"
        },
        "id": "GSc_Sky-PS5E",
        "outputId": "18bc2f2a-53f8-4f07-f041-ed6a50524c7b"
      },
      "execution_count": null,
      "outputs": [
        {
          "output_type": "stream",
          "name": "stdout",
          "text": [
            "Ajeet Kumar\n"
          ]
        }
      ]
    },
    {
      "cell_type": "code",
      "source": [
        "   def greet():\n",
        "       print(\"Hello, World!\")\n",
        "   greet()"
      ],
      "metadata": {
        "colab": {
          "base_uri": "https://localhost:8080/"
        },
        "id": "zSILpTaloL_b",
        "outputId": "7990986d-bf9e-4c0c-9908-b79600d8e100"
      },
      "execution_count": null,
      "outputs": [
        {
          "output_type": "stream",
          "name": "stdout",
          "text": [
            "Hello, World!\n"
          ]
        }
      ]
    },
    {
      "cell_type": "code",
      "source": [
        "   2.Function with Parameters"
      ],
      "metadata": {
        "id": "H-Wcv5egoQx-"
      },
      "execution_count": null,
      "outputs": []
    },
    {
      "cell_type": "code",
      "source": [
        "   def greet(name):\n",
        "       print(\"Hello,\", name)\n",
        "   greet(\"Ajeet kumar\")"
      ],
      "metadata": {
        "colab": {
          "base_uri": "https://localhost:8080/"
        },
        "id": "WnibVxL8oqDz",
        "outputId": "55cbc479-8e23-449e-fb17-34bbb45fe0d2"
      },
      "execution_count": null,
      "outputs": [
        {
          "output_type": "stream",
          "name": "stdout",
          "text": [
            "Hello, Ajeet kumar\n"
          ]
        }
      ]
    },
    {
      "cell_type": "code",
      "source": [
        "3.  Function with Default Parameters:\n"
      ],
      "metadata": {
        "id": "CqcJXlzAozYo"
      },
      "execution_count": null,
      "outputs": []
    },
    {
      "cell_type": "code",
      "source": [
        "   def greet(name=\"User\"):\n",
        "       print(\"Hello,\", name)\n",
        "\n",
        "   greet(\"Ajeet\")"
      ],
      "metadata": {
        "colab": {
          "base_uri": "https://localhost:8080/"
        },
        "id": "RG8iELAAQOj6",
        "outputId": "7ceedc8b-33bc-4ac5-d260-2834ba58f37f"
      },
      "execution_count": null,
      "outputs": [
        {
          "output_type": "stream",
          "name": "stdout",
          "text": [
            "Hello, Ajeet\n"
          ]
        }
      ]
    },
    {
      "cell_type": "code",
      "source": [],
      "metadata": {
        "id": "_6r7yIIUQWoW"
      },
      "execution_count": null,
      "outputs": []
    },
    {
      "cell_type": "code",
      "source": [],
      "metadata": {
        "id": "i13N0AU8Q2Zm"
      },
      "execution_count": null,
      "outputs": []
    },
    {
      "cell_type": "code",
      "source": [],
      "metadata": {
        "id": "ywEl_MWaQ2V6"
      },
      "execution_count": null,
      "outputs": []
    },
    {
      "cell_type": "code",
      "source": [
        "#4. What is the purpose of the \"return\" statement in a Python function?"
      ],
      "metadata": {
        "id": "9PGtagkaQ2SL"
      },
      "execution_count": null,
      "outputs": []
    },
    {
      "cell_type": "markdown",
      "source": [
        "In Python, the *return* statement serves two main purposes:\n",
        "\n",
        "1. Terminating the Function:\n",
        "\n",
        "* When the return statement is encountered within a function, the function's execution immediately stops, and control returns to the point where the function was called.\n",
        "2. Sending a Value Back to the Caller:\n",
        "\n",
        "* The return statement allows you to pass data from the function back to the code that called it. This is crucial for using the results of a function in other parts of your program.\n"
      ],
      "metadata": {
        "id": "p0Bm5aMwRIx-"
      }
    },
    {
      "cell_type": "code",
      "source": [
        "#Example\n",
        "def add_numbers(a, b):\n",
        "  return a + b\n",
        "\n",
        "result = add_numbers(5, 3)\n",
        "print(result)"
      ],
      "metadata": {
        "colab": {
          "base_uri": "https://localhost:8080/"
        },
        "id": "I-Vyb46RRd1o",
        "outputId": "b0e4d77e-4939-4ed6-87c5-d1d66f8ff31b"
      },
      "execution_count": null,
      "outputs": [
        {
          "output_type": "stream",
          "name": "stdout",
          "text": [
            "8\n"
          ]
        }
      ]
    },
    {
      "cell_type": "markdown",
      "source": [
        "In this example:\n",
        "\n",
        "* The add_numbers function takes two arguments, a and b, and calculates their sum.\n",
        "* The return statement sends the calculated sum back to the caller.\n",
        "* The result is assigned to the variable result, which is then printed to the console.\n"
      ],
      "metadata": {
        "id": "9aYap8UoRrcA"
      }
    },
    {
      "cell_type": "code",
      "source": [],
      "metadata": {
        "id": "mh1_82hhR4G7"
      },
      "execution_count": null,
      "outputs": []
    },
    {
      "cell_type": "code",
      "source": [],
      "metadata": {
        "id": "VyCUNlr2SDoJ"
      },
      "execution_count": null,
      "outputs": []
    },
    {
      "cell_type": "code",
      "source": [],
      "metadata": {
        "id": "T-ivmLsmSDk4"
      },
      "execution_count": null,
      "outputs": []
    },
    {
      "cell_type": "code",
      "source": [
        "#5. What are iterators in Python and how do they differ from iterables?"
      ],
      "metadata": {
        "id": "tk5V6jfTSDh8"
      },
      "execution_count": null,
      "outputs": []
    },
    {
      "cell_type": "markdown",
      "source": [
        "In Python, iterators are objects that help users traverse through the elements of an iterable object, while iterables are objects that can be looped over:\n",
        "\n",
        "* Iterators: Objects that help users iterate over other objects, such as lists, tuples, dictionaries, and sets. Iterators are created by passing an object to the iter() method, and the __next__() method is used for iterating. Iterators are memory-friendly and allow for efficient access to the elements of a collection.\n",
        "\n",
        "* Iterables: Objects that can be looped over or have an iterator derived from them.\n",
        "\n",
        "\n",
        "The main difference between iterables and iterators is that every iterator is iterable, but not every iterable is an iterator.\n"
      ],
      "metadata": {
        "id": "c5VhfD8vSS8h"
      }
    },
    {
      "cell_type": "markdown",
      "source": [
        "![download.png](data:image/png;base64,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)\n"
      ],
      "metadata": {
        "id": "73Mvu_FySnq8"
      }
    },
    {
      "cell_type": "markdown",
      "source": [
        "A simpler alternative to creating an iterator is to use a generator object. A generator function is a special type of function that returns a generator iterator that yields a stream of data one value at a time."
      ],
      "metadata": {
        "id": "o_m5GXkgSwKy"
      }
    },
    {
      "cell_type": "code",
      "source": [],
      "metadata": {
        "id": "NSjFyGanS7Yc"
      },
      "execution_count": null,
      "outputs": []
    },
    {
      "cell_type": "code",
      "source": [],
      "metadata": {
        "id": "n0iocmQmS8nc"
      },
      "execution_count": null,
      "outputs": []
    },
    {
      "cell_type": "code",
      "source": [],
      "metadata": {
        "id": "SGb3HMzYS8D9"
      },
      "execution_count": null,
      "outputs": []
    },
    {
      "cell_type": "code",
      "source": [
        "#6. Explain the concept of generators in Python and how they are defined?"
      ],
      "metadata": {
        "id": "p3vttUjTS8Bo"
      },
      "execution_count": null,
      "outputs": []
    },
    {
      "cell_type": "markdown",
      "source": [
        "**Generators** **In** **Python**\n",
        "\n",
        "A Generator in Python is a function that returns an iterator using the Yield keyword. In this article, we will discuss how the generator function works in Python.\n",
        "\n",
        "**Generator Function in Python**\n",
        "\n",
        "A generator function in Python is defined like a normal function, but whenever it needs to generate a value, it does so with the yield keyword rather than return. If the body of a def contains yield, the function automatically becomes a Python generator function\n",
        "\n",
        "\n",
        "\n",
        "**Create a Generator in Python**\n",
        "\n",
        "In Python, we can create a generator function by simply using the def keyword and the yield keyword. The generator has the following syntax in Python:"
      ],
      "metadata": {
        "id": "SxHH0ME0TeCF"
      }
    },
    {
      "cell_type": "code",
      "source": [
        " def square_number_generators(n):\n",
        "     for i in range(n):\n",
        "         yield 1**2\n",
        "square_number_generators(10)"
      ],
      "metadata": {
        "colab": {
          "base_uri": "https://localhost:8080/"
        },
        "id": "0H5xrx94UcX5",
        "outputId": "7ae8819c-d0f8-4d89-d7c5-d6b0298c3094"
      },
      "execution_count": null,
      "outputs": [
        {
          "output_type": "execute_result",
          "data": {
            "text/plain": [
              "<generator object square_number_generators at 0x7de44a02d4d0>"
            ]
          },
          "metadata": {},
          "execution_count": 13
        }
      ]
    },
    {
      "cell_type": "code",
      "source": [
        " gen = square_number_generators(10)\n",
        " gen"
      ],
      "metadata": {
        "colab": {
          "base_uri": "https://localhost:8080/"
        },
        "id": "DRWNAfzFV8Dz",
        "outputId": "bdc6237d-f659-426c-919a-b769cd0cbe5c"
      },
      "execution_count": null,
      "outputs": [
        {
          "output_type": "execute_result",
          "data": {
            "text/plain": [
              "<generator object square_number_generators at 0x7de44a0628f0>"
            ]
          },
          "metadata": {},
          "execution_count": 15
        }
      ]
    },
    {
      "cell_type": "code",
      "source": [
        "next(gen)"
      ],
      "metadata": {
        "colab": {
          "base_uri": "https://localhost:8080/"
        },
        "id": "S0qCf2tkWMdA",
        "outputId": "4c124792-e015-41a3-9d8c-f29f30ec48b7"
      },
      "execution_count": null,
      "outputs": [
        {
          "output_type": "execute_result",
          "data": {
            "text/plain": [
              "1"
            ]
          },
          "metadata": {},
          "execution_count": 17
        }
      ]
    },
    {
      "cell_type": "code",
      "source": [
        "next(gen)"
      ],
      "metadata": {
        "colab": {
          "base_uri": "https://localhost:8080/"
        },
        "id": "xtmK336pWZa9",
        "outputId": "625dd34c-bcfe-44a2-e7e9-b81cb46f2e02"
      },
      "execution_count": null,
      "outputs": [
        {
          "output_type": "execute_result",
          "data": {
            "text/plain": [
              "1"
            ]
          },
          "metadata": {},
          "execution_count": 19
        }
      ]
    },
    {
      "cell_type": "code",
      "source": [
        "gen"
      ],
      "metadata": {
        "colab": {
          "base_uri": "https://localhost:8080/"
        },
        "id": "SWJE8FNfWejB",
        "outputId": "f543fcd3-1cf1-4db4-9dec-c531ffd4c7eb"
      },
      "execution_count": null,
      "outputs": [
        {
          "output_type": "execute_result",
          "data": {
            "text/plain": [
              "<generator object square_number_generators at 0x7de44a0628f0>"
            ]
          },
          "metadata": {},
          "execution_count": 20
        }
      ]
    },
    {
      "cell_type": "code",
      "source": [
        "next(gen)"
      ],
      "metadata": {
        "colab": {
          "base_uri": "https://localhost:8080/"
        },
        "id": "iuoYg-FiWgq2",
        "outputId": "91259c33-03ad-4cd3-c039-a4925e345f00"
      },
      "execution_count": null,
      "outputs": [
        {
          "output_type": "execute_result",
          "data": {
            "text/plain": [
              "1"
            ]
          },
          "metadata": {},
          "execution_count": 21
        }
      ]
    },
    {
      "cell_type": "code",
      "source": [
        "# A generator function that yields 1 for first time,\n",
        "# 2 second time and 3 third time\n",
        "def simpleGeneratorFun():\n",
        "    yield 1\n",
        "    yield 2\n",
        "    yield 3\n",
        "\n",
        "# Driver code to check above generator function\n",
        "for value in simpleGeneratorFun():\n",
        "    print(value)\n"
      ],
      "metadata": {
        "colab": {
          "base_uri": "https://localhost:8080/"
        },
        "id": "rVLBby9mWi2C",
        "outputId": "69198bcd-0f3b-486a-f741-82b0d38fa7d1"
      },
      "execution_count": null,
      "outputs": [
        {
          "output_type": "stream",
          "name": "stdout",
          "text": [
            "1\n",
            "2\n",
            "3\n"
          ]
        }
      ]
    },
    {
      "cell_type": "markdown",
      "source": [
        "**Generator Object**\n",
        "\n",
        "Python Generator functions return a generator object that is iterable, i.e., can be used as an Iterator. Generator objects are used either by calling the next method of the generator object or using the generator object in a “for in” loop.\n",
        "\n",
        "\n"
      ],
      "metadata": {
        "id": "9tPoml4EWzNZ"
      }
    },
    {
      "cell_type": "code",
      "source": [],
      "metadata": {
        "id": "IadQXuNgXTwc"
      },
      "execution_count": null,
      "outputs": []
    },
    {
      "cell_type": "code",
      "source": [],
      "metadata": {
        "id": "-skNTqvZXkLf"
      },
      "execution_count": null,
      "outputs": []
    },
    {
      "cell_type": "code",
      "source": [],
      "metadata": {
        "id": "UW3TluzTXkH7"
      },
      "execution_count": null,
      "outputs": []
    },
    {
      "cell_type": "code",
      "source": [
        "#7. What are the advantages of using generators over regular functions?"
      ],
      "metadata": {
        "id": "QBlT7dLZXkE2"
      },
      "execution_count": null,
      "outputs": []
    },
    {
      "cell_type": "markdown",
      "source": [
        "The primary advantage of using generators over regular functions is their memory efficiency, as generators produce values one at a time, only calculating what's needed when iterated upon, which is especially beneficial when dealing with large datasets or infinite sequences, unlike regular functions that need to store the entire result in memory upfront.\n",
        "\n",
        "\n",
        "**Key advantages of generators:**\n",
        "\n",
        "**Memory efficiency**\n",
        "\n",
        "Generators only generate values as they are requested, significantly reducing memory usage compared to building a complete list in memory.\n",
        "\n",
        "**Lazy evaluation:**\n",
        "\n",
        "Generators utilize lazy evaluation, meaning computations are only performed when a value is actually needed, which can improve performance, especially with large data sets.\n",
        "\n",
        "**Infinite sequences:**\n",
        "\n",
        "Generators can easily create infinite sequences by using the yield keyword to pause and resume execution, making them ideal for scenarios like generating Fibonacci numbers.\n",
        "\n",
        "**Readability:**\n",
        "\n",
        "Generator expressions often lead to concise and readable code, especially when dealing with complex data transformations.\n",
        "\n",
        "**Flexibility:**\n",
        "\n",
        "Generators can be used to create custom iterators, allowing for more flexible data processing pipelines.\n",
        "\n",
        "\n",
        "**Important points to remember:**\n",
        "\n",
        "**yield keyword:**\n",
        "\n",
        "Generators use the yield keyword to return a value and then pause execution, allowing the generator to be resumed later.\n",
        "\n",
        "**Iteration protocol:**\n",
        "\n",
        "Generators are considered iterators, meaning they can be directly used in loops.\n",
        "\n",
        "**When to use generators:**\n",
        "\n",
        "* When you need to process large datasets without loading the entire data into memory at once.\n",
        "\n",
        "* When creating infinite sequences like Fibonacci numbers.\n",
        "* When you want to generate values on-demand during iteration.\n",
        "\n"
      ],
      "metadata": {
        "id": "DJ3rtkLeXorO"
      }
    },
    {
      "cell_type": "code",
      "source": [],
      "metadata": {
        "id": "UJFObAYXY97h"
      },
      "execution_count": null,
      "outputs": []
    },
    {
      "cell_type": "code",
      "source": [],
      "metadata": {
        "id": "DpL5HW5WZS9d"
      },
      "execution_count": null,
      "outputs": []
    },
    {
      "cell_type": "code",
      "source": [],
      "metadata": {
        "id": "q9f8p8ToZS55"
      },
      "execution_count": null,
      "outputs": []
    },
    {
      "cell_type": "code",
      "source": [
        "#8. What is a lambda function in Python and when is it typically used?"
      ],
      "metadata": {
        "id": "M6r87qaNZS22"
      },
      "execution_count": null,
      "outputs": []
    },
    {
      "cell_type": "markdown",
      "source": [
        "A lambda function in Python is a small, anonymous function defined using the \"lambda\" keyword, which allows I to create a single-line function that evaluates and returns only one expression;  it's typically used when I need a quick, simple function for a short period of time, like when passing a function as an argument to another function (like \"map\", \"filter\") where a full function definition might be unnecessary and cumbersome.\n",
        "\n",
        "\n",
        "**Key points about lambda functions:**\n",
        "\n",
        "* Anonymous: They don't have a name, unlike regular functions defined with \"def\".\n",
        "* Single expression: A lambda function only evaluates and returns one expression.\n",
        "* Syntax: lambda arguments : expression\n",
        "\n",
        "\n",
        "\n",
        "**When to use lambda functions:**\n",
        "\n",
        "* Inline operations:\n",
        "\n",
        "When you need to perform a simple calculation or transformation on data directly within another function, without creating a separate named function.\n",
        "\n",
        "\n",
        "* Higher-order functions:\n",
        "\n",
        "When passing a function as an argument to other functions like *map*, *Filter*, or *sorted* where you need a quick, concise function definition.\n",
        "\n",
        "* Data manipulation:\n",
        "\n",
        "In data analysis tasks where you need to apply a simple operation to multiple elements of a list or data frame.\n",
        "\n"
      ],
      "metadata": {
        "id": "TVUlVQXuZYxy"
      }
    },
    {
      "cell_type": "code",
      "source": [
        "# Square all numbers in a list using map and lambda\n",
        "\n",
        "numbers = [1, 2, 3, 4]\n",
        "\n",
        "squared = map(lambda x: x * x, numbers)\n",
        "\n",
        "print(list(squared))\n"
      ],
      "metadata": {
        "colab": {
          "base_uri": "https://localhost:8080/"
        },
        "id": "VO5M_usCa3e8",
        "outputId": "0b98cbba-8ae9-4b9f-e871-12eaa424b679"
      },
      "execution_count": null,
      "outputs": [
        {
          "output_type": "stream",
          "name": "stdout",
          "text": [
            "[1, 4, 9, 16]\n"
          ]
        }
      ]
    },
    {
      "cell_type": "code",
      "source": [],
      "metadata": {
        "id": "tU76IVe_a61a"
      },
      "execution_count": null,
      "outputs": []
    },
    {
      "cell_type": "markdown",
      "source": [
        "**Important considerations:**\n",
        "\n",
        "* Readability:\n",
        "\n",
        "While concise, lambda functions can sometimes be less readable than named functions for complex operations.\n",
        "\n",
        "* Single use:\n",
        "\n",
        "For complex logic that needs to be reused, it's generally better to define a regular function with a name.\n"
      ],
      "metadata": {
        "id": "KWNtQNyAa__0"
      }
    },
    {
      "cell_type": "code",
      "source": [],
      "metadata": {
        "id": "2kgDMVOBbNQu"
      },
      "execution_count": null,
      "outputs": []
    },
    {
      "cell_type": "code",
      "source": [],
      "metadata": {
        "id": "09txmfslbbaA"
      },
      "execution_count": null,
      "outputs": []
    },
    {
      "cell_type": "code",
      "source": [],
      "metadata": {
        "id": "WVFTM8yFbbWa"
      },
      "execution_count": null,
      "outputs": []
    },
    {
      "cell_type": "code",
      "source": [
        "#9. Explain the purpose and usage of the `map()` function in Python."
      ],
      "metadata": {
        "id": "UstRgu6_bbS6"
      },
      "execution_count": null,
      "outputs": []
    },
    {
      "cell_type": "markdown",
      "source": [
        "The map() function in Python applies a given function to each item in an iterable (like a list, tuple, etc.) and returns an iterator containing the results.\n",
        "\n",
        "**Purpose:**\n",
        "\n",
        "To transform the elements of an iterable without using an explicit loop.\n",
        "To apply a function to each item in an iterable in a concise and efficient way.\n"
      ],
      "metadata": {
        "id": "xiesCXfQbpEA"
      }
    },
    {
      "cell_type": "code",
      "source": [
        "Uses\n",
        "map(function, iterable, ...)"
      ],
      "metadata": {
        "id": "h2xjnxH-b8H8"
      },
      "execution_count": null,
      "outputs": []
    },
    {
      "cell_type": "markdown",
      "source": [
        "* function: The function to be applied to each item in the iterable.\n",
        "* iterable: The iterable containing the elements to be transformed.\n",
        "* ...: Optional additional iterables, if the function takes multiple arguments.\n"
      ],
      "metadata": {
        "id": "AS4Rr_qsb_6W"
      }
    },
    {
      "cell_type": "code",
      "source": [
        "numbers = [1, 2, 3, 4]\n",
        "\n",
        "# Square each number in the list\n",
        "squared_numbers = map(lambda x: x**2, numbers)\n",
        "\n",
        "# Convert the iterator to a list\n",
        "squared_numbers_list = list(squared_numbers)\n",
        "\n",
        "print(squared_numbers_list)"
      ],
      "metadata": {
        "colab": {
          "base_uri": "https://localhost:8080/"
        },
        "id": "YGvzEDgycNvv",
        "outputId": "e28192fa-7ff6-467f-c87b-6c77a82d0015"
      },
      "execution_count": null,
      "outputs": [
        {
          "output_type": "stream",
          "name": "stdout",
          "text": [
            "[1, 4, 9, 16]\n"
          ]
        }
      ]
    },
    {
      "cell_type": "markdown",
      "source": [
        "**Benefits:**\n",
        "\n",
        "* Readability: map() can make code more concise and readable.\n",
        "* Performance: In some cases, map() can be more performant than a traditional loop.\n",
        "* Functional Programming: map() is a core function in functional programming paradigms"
      ],
      "metadata": {
        "id": "OghoJMt2cUt4"
      }
    },
    {
      "cell_type": "code",
      "source": [],
      "metadata": {
        "id": "JWvwKAHGchCO"
      },
      "execution_count": null,
      "outputs": []
    },
    {
      "cell_type": "code",
      "source": [],
      "metadata": {
        "id": "psWfHC1UckHT"
      },
      "execution_count": null,
      "outputs": []
    },
    {
      "cell_type": "code",
      "source": [],
      "metadata": {
        "id": "G1LPUYH6ckDX"
      },
      "execution_count": null,
      "outputs": []
    },
    {
      "cell_type": "code",
      "source": [
        "#10. What is the difference between \"map()\", \"reduce()\", and \"filter()\" functions in Python?"
      ],
      "metadata": {
        "id": "nAhttkIcckAy"
      },
      "execution_count": null,
      "outputs": []
    },
    {
      "cell_type": "markdown",
      "source": [
        "In Python, *map*(), *reduce*(), and *filter*() are built-in functions that allow I to apply a function to a sequence of elements (like a list) and get a new sequence as the result. Here's a breakdown of the differences:\n",
        "\n",
        "\n",
        "**map():**\n",
        "\n",
        "* Purpose: Applies a given function to each item in an iterable (e.g., list, tuple) and returns a new iterable containing the transformed values.\n",
        "* Syntax: map(function, iterable)\n",
        "\n",
        "\n",
        "\n"
      ],
      "metadata": {
        "id": "6Lni0r7pdCTE"
      }
    },
    {
      "cell_type": "code",
      "source": [
        "numbers = [1, 2, 3, 4]\n",
        "squared = map(lambda x: x**2, numbers)\n",
        "print(list(squared))"
      ],
      "metadata": {
        "colab": {
          "base_uri": "https://localhost:8080/"
        },
        "id": "grCIb72rdYuN",
        "outputId": "5fa5ebf6-7751-4c0e-e91c-84255ddb4f06"
      },
      "execution_count": null,
      "outputs": [
        {
          "output_type": "stream",
          "name": "stdout",
          "text": [
            "[1, 4, 9, 16]\n"
          ]
        }
      ]
    },
    {
      "cell_type": "code",
      "source": [],
      "metadata": {
        "id": "-nYBh9ghdq96"
      },
      "execution_count": null,
      "outputs": []
    },
    {
      "cell_type": "markdown",
      "source": [
        "**filter():**\n",
        "\n",
        "* Purpose: Filters an iterable based on a given function, returning a new iterable containing only the elements for which the function returns True.\n",
        "* Syntax: filter(function, iterable)\n"
      ],
      "metadata": {
        "id": "oYEQz7bBdzKV"
      }
    },
    {
      "cell_type": "code",
      "source": [
        "numbers = [1, 2, 3, 4, 5, 6]\n",
        "even = filter(lambda x: x % 2 == 0, numbers)\n",
        "print(list(even))"
      ],
      "metadata": {
        "colab": {
          "base_uri": "https://localhost:8080/"
        },
        "id": "cGyH-V7Dd8fm",
        "outputId": "04a5bae0-6534-4813-9545-913fa07f954f"
      },
      "execution_count": null,
      "outputs": [
        {
          "output_type": "stream",
          "name": "stdout",
          "text": [
            "[2, 4, 6]\n"
          ]
        }
      ]
    },
    {
      "cell_type": "code",
      "source": [],
      "metadata": {
        "id": "UuweMWW_d-w-"
      },
      "execution_count": null,
      "outputs": []
    },
    {
      "cell_type": "markdown",
      "source": [
        "**reduce():**\n",
        "\n",
        "\n",
        "* Purpose: Combines all elements of an iterable into a single value by applying a given function repeatedly.\n",
        "\n",
        "* Syntax: reduce(function, iterable[, initializer])\n",
        "\n",
        "* Note: reduce() is in the functools module, so you need to import it first.\n"
      ],
      "metadata": {
        "id": "MXPYdlRNeE1L"
      }
    },
    {
      "cell_type": "code",
      "source": [
        "from functools import reduce\n",
        "numbers = [1, 2, 3, 4]\n",
        "product = reduce(lambda x, y: x * y, numbers)\n",
        "print(product)"
      ],
      "metadata": {
        "colab": {
          "base_uri": "https://localhost:8080/"
        },
        "id": "crHutOXleRdh",
        "outputId": "6be06b8b-3ead-470b-e7da-628c8296fc0e"
      },
      "execution_count": null,
      "outputs": [
        {
          "output_type": "stream",
          "name": "stdout",
          "text": [
            "24\n"
          ]
        }
      ]
    },
    {
      "cell_type": "markdown",
      "source": [
        "**Key Differences:**\n",
        "\n",
        " **Output:**\n",
        "\n",
        "*map*() returns a new iterable with transformed values, *filter*() returns a new iterable with filtered values, and *reduce*() returns a single value.\n",
        "\n",
        "\n",
        " **Function:**\n",
        "\n",
        "*map*() applies the function to each element individually, *filter*() uses the function to determine whether to keep each element, and *reduce*() combines elements using the function.\n",
        "\n",
        " **Import:**\n",
        "\n",
        "*map*() and *filter*() are built-in, while *reduce*() requires importing from functools.\n"
      ],
      "metadata": {
        "id": "RFYzBjWCeZSZ"
      }
    },
    {
      "cell_type": "code",
      "source": [],
      "metadata": {
        "id": "U48HxHcIeTQj"
      },
      "execution_count": null,
      "outputs": []
    },
    {
      "cell_type": "code",
      "source": [],
      "metadata": {
        "id": "ZAN-2c4KEUoz"
      },
      "execution_count": null,
      "outputs": []
    },
    {
      "cell_type": "code",
      "source": [],
      "metadata": {
        "id": "KRh9vQPJEUcZ"
      },
      "execution_count": null,
      "outputs": []
    },
    {
      "cell_type": "code",
      "source": [
        "#11. Using pen & Paper write the internal mechanism for sum operation using  reduce function on this given\n",
        "list:[47,11,42,33]\n"
      ],
      "metadata": {
        "id": "FWPjPg0oEUQv"
      },
      "execution_count": null,
      "outputs": []
    },
    {
      "cell_type": "markdown",
      "source": [
        "![WhatsApp Image 2024-10-09 at 5.20.55 PM.jpeg](data:image/jpeg;base64,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)"
      ],
      "metadata": {
        "id": "ECdb5u-pIWYq"
      }
    },
    {
      "cell_type": "code",
      "source": [
        "from functools import reduce\n",
        "\n",
        "numbers = [47, 11, 42, 33]\n",
        "\n",
        "total = reduce(lambda x, y: x + y, numbers)\n",
        "\n",
        "print(total)"
      ],
      "metadata": {
        "colab": {
          "base_uri": "https://localhost:8080/"
        },
        "id": "MXvyNbYkIgKJ",
        "outputId": "922033d5-c912-4214-a85c-e64a9bf9787d"
      },
      "execution_count": 1,
      "outputs": [
        {
          "output_type": "stream",
          "name": "stdout",
          "text": [
            "133\n"
          ]
        }
      ]
    },
    {
      "cell_type": "code",
      "source": [],
      "metadata": {
        "id": "7bjLR3SeIlKw"
      },
      "execution_count": null,
      "outputs": []
    },
    {
      "cell_type": "markdown",
      "source": [
        "**Explanation:**\n",
        "\n",
        "1. Import reduce:\n",
        "\n",
        "The reduce() function is in the functools module, so I need to import it first.\n",
        "\n",
        "2. Define the numbers:\n",
        "Create a list of the numbers I want to sum.\n",
        "\n",
        "3. Use reduce:\n",
        "\n",
        "* The reduce() function takes a function and an iterable as arguments.\n",
        "\n",
        "* The function (in this case, lambda x, y: x + y) takes two arguments and returns a single value. It's used to combine the elements of the iterable.\n",
        "The iterable (in this case, numbers) is the sequence of values I want to apply the function to.\n",
        "\n",
        "4. Print the result:\n",
        "\n",
        "The reduce() function returns the final accumulated value, which is the sum of the numbers in the list.\n"
      ],
      "metadata": {
        "id": "elIGtz_iIrf5"
      }
    },
    {
      "cell_type": "code",
      "source": [],
      "metadata": {
        "id": "G-D1T8g-Jdj7"
      },
      "execution_count": null,
      "outputs": []
    },
    {
      "cell_type": "code",
      "source": [],
      "metadata": {
        "id": "O4dC8cFfJe28"
      },
      "execution_count": null,
      "outputs": []
    },
    {
      "cell_type": "code",
      "source": [],
      "metadata": {
        "id": "wp6Z0b_9Jek0"
      },
      "execution_count": null,
      "outputs": []
    },
    {
      "cell_type": "code",
      "source": [],
      "metadata": {
        "id": "hLf8jNzFJedR"
      },
      "execution_count": null,
      "outputs": []
    },
    {
      "cell_type": "markdown",
      "source": [
        "#                                     **PRACTICAL QUESTIONS**"
      ],
      "metadata": {
        "id": "nbeaTpMGJ04g"
      }
    },
    {
      "cell_type": "code",
      "source": [
        "#1. Write a Python function that takes a list of numbers as input and returns the sum of all even numbers in the list\n"
      ],
      "metadata": {
        "id": "CXazeLAmJ5P5"
      },
      "execution_count": null,
      "outputs": []
    },
    {
      "cell_type": "markdown",
      "source": [
        "Given a list of numbers, write a Python program to print all even numbers in the given list.\n",
        "\n"
      ],
      "metadata": {
        "id": "OgiFc-PVL1v3"
      }
    },
    {
      "cell_type": "code",
      "source": [
        "# Calculates the sum of all even numbers in a list.\n",
        "\n",
        "def sum_even_numbers(numbers):\n",
        "\n",
        "  total = 0\n",
        "  for number in numbers:\n",
        "    if number % 2 == 0:\n",
        "      total += number\n",
        "  return total\n",
        "\n",
        "\n",
        "numbers = [1, 2, 3, 4, 5, 6, 7, 8, 9, 10]\n",
        "print(sum_even_numbers(numbers))"
      ],
      "metadata": {
        "colab": {
          "base_uri": "https://localhost:8080/"
        },
        "id": "SeBET6PBMrXs",
        "outputId": "688ce84f-356b-4d6c-8074-d6d84a9528d8"
      },
      "execution_count": 2,
      "outputs": [
        {
          "output_type": "stream",
          "name": "stdout",
          "text": [
            "30\n"
          ]
        }
      ]
    },
    {
      "cell_type": "code",
      "source": [],
      "metadata": {
        "id": "Dn-CtSm8Mtg9"
      },
      "execution_count": null,
      "outputs": []
    },
    {
      "cell_type": "code",
      "source": [
        "#2. Create a Python function that accepts a string and returns the reverse of that string."
      ],
      "metadata": {
        "id": "aVkgHV1zNMRA"
      },
      "execution_count": null,
      "outputs": []
    },
    {
      "cell_type": "code",
      "source": [
        "def reverse_string(string):\n",
        "  \"\"\"Reverses the order of characters in a string.\n",
        "\n",
        "  Args:\n",
        "    string: The string to reverse.\n",
        "\n",
        "  Returns:\n",
        "    The reversed string.\n",
        "  \"\"\"\n",
        "\n",
        "  return string[::-1]\n",
        "print(reverse_string)"
      ],
      "metadata": {
        "colab": {
          "base_uri": "https://localhost:8080/"
        },
        "id": "WZvNhzTfNL0j",
        "outputId": "0252c2dc-1267-4dec-fa5c-49eb712e92ca"
      },
      "execution_count": 6,
      "outputs": [
        {
          "output_type": "stream",
          "name": "stdout",
          "text": [
            "<function reverse_string at 0x7a7429f0b880>\n"
          ]
        }
      ]
    },
    {
      "cell_type": "code",
      "source": [
        "reverse_string"
      ],
      "metadata": {
        "colab": {
          "base_uri": "https://localhost:8080/",
          "height": 186
        },
        "id": "Zkytu9HNP2nj",
        "outputId": "8dad8820-1a70-4a07-e7d3-df626e0b7f95"
      },
      "execution_count": 7,
      "outputs": [
        {
          "output_type": "execute_result",
          "data": {
            "text/plain": [
              "<function __main__.reverse_string(string)>"
            ],
            "text/html": [
              "<div style=\"max-width:800px; border: 1px solid var(--colab-border-color);\"><style>\n",
              "      pre.function-repr-contents {\n",
              "        overflow-x: auto;\n",
              "        padding: 8px 12px;\n",
              "        max-height: 500px;\n",
              "      }\n",
              "\n",
              "      pre.function-repr-contents.function-repr-contents-collapsed {\n",
              "        cursor: pointer;\n",
              "        max-height: 100px;\n",
              "      }\n",
              "    </style>\n",
              "    <pre style=\"white-space: initial; background:\n",
              "         var(--colab-secondary-surface-color); padding: 8px 12px;\n",
              "         border-bottom: 1px solid var(--colab-border-color);\"><b>reverse_string</b><br/>def reverse_string(string)</pre><pre class=\"function-repr-contents function-repr-contents-collapsed\" style=\"\"><a class=\"filepath\" style=\"display:none\" href=\"#\">/content/&lt;ipython-input-6-1f3d3503f258&gt;</a>Reverses the order of characters in a string.\n",
              "\n",
              "Args:\n",
              "  string: The string to reverse.\n",
              "\n",
              "Returns:\n",
              "  The reversed string.</pre></div>"
            ]
          },
          "metadata": {},
          "execution_count": 7
        }
      ]
    },
    {
      "cell_type": "code",
      "source": [],
      "metadata": {
        "id": "BmfEQEjAQCkt"
      },
      "execution_count": null,
      "outputs": []
    },
    {
      "cell_type": "code",
      "source": [],
      "metadata": {
        "id": "Tzbai9AUQKIR"
      },
      "execution_count": null,
      "outputs": []
    },
    {
      "cell_type": "code",
      "source": [],
      "metadata": {
        "id": "7NpLkCg3QKEw"
      },
      "execution_count": null,
      "outputs": []
    },
    {
      "cell_type": "code",
      "source": [
        "#3.Implement a Python function that takes a list of integers and returns a new list containing the squares of each number"
      ],
      "metadata": {
        "id": "jUwa28o6QJ4j"
      },
      "execution_count": null,
      "outputs": []
    },
    {
      "cell_type": "code",
      "source": [
        "l = [1, 2, 3, 4, 5]\n",
        "def square(l):\n",
        "     sq = []\n",
        "     for i in l:\n",
        "         sq.append(i**2)\n",
        "     return sq\n",
        "square(l)"
      ],
      "metadata": {
        "colab": {
          "base_uri": "https://localhost:8080/"
        },
        "id": "nmTAlSEalNdx",
        "outputId": "aca08fd6-2a65-4fa5-90fe-aec28e96194f"
      },
      "execution_count": 5,
      "outputs": [
        {
          "output_type": "execute_result",
          "data": {
            "text/plain": [
              "[1, 4, 9, 16, 25]"
            ]
          },
          "metadata": {},
          "execution_count": 5
        }
      ]
    },
    {
      "cell_type": "code",
      "source": [
        "#4. Write a Python function that checks if a given number is prime or not from 1 to 200."
      ],
      "metadata": {
        "id": "nkFsVj05mmZG"
      },
      "execution_count": null,
      "outputs": []
    },
    {
      "cell_type": "code",
      "source": [
        "def is_prime(num):\n",
        "    \"\"\"\n",
        "    Checks if a number is prime.\n",
        "\n",
        "    Args:\n",
        "        num: The number to check.\n",
        "\n",
        "    Returns:\n",
        "        True if prime, False otherwise.\n",
        "    \"\"\"\n",
        "\n",
        "    if num <= 1:\n",
        "        return False\n",
        "\n",
        "    # Iterate from 2 to the square root of the number\n",
        "    for i in range(2, int(num**0.5) + 1):\n",
        "        if num % i == 0:\n",
        "            return False\n",
        "\n",
        "    return True\n",
        "\n",
        "# Check numbers from 1 to 200\n",
        "for number in range(1, 201):\n",
        "    if is_prime(number):\n",
        "        print(number)"
      ],
      "metadata": {
        "colab": {
          "base_uri": "https://localhost:8080/"
        },
        "id": "7scs-yqYm-5J",
        "outputId": "504fc62d-9087-427f-ee6e-ac8009fb19ff"
      },
      "execution_count": 6,
      "outputs": [
        {
          "output_type": "stream",
          "name": "stdout",
          "text": [
            "2\n",
            "3\n",
            "5\n",
            "7\n",
            "11\n",
            "13\n",
            "17\n",
            "19\n",
            "23\n",
            "29\n",
            "31\n",
            "37\n",
            "41\n",
            "43\n",
            "47\n",
            "53\n",
            "59\n",
            "61\n",
            "67\n",
            "71\n",
            "73\n",
            "79\n",
            "83\n",
            "89\n",
            "97\n",
            "101\n",
            "103\n",
            "107\n",
            "109\n",
            "113\n",
            "127\n",
            "131\n",
            "137\n",
            "139\n",
            "149\n",
            "151\n",
            "157\n",
            "163\n",
            "167\n",
            "173\n",
            "179\n",
            "181\n",
            "191\n",
            "193\n",
            "197\n",
            "199\n"
          ]
        }
      ]
    },
    {
      "cell_type": "code",
      "source": [],
      "metadata": {
        "id": "nej_mrp0nGVI"
      },
      "execution_count": null,
      "outputs": []
    },
    {
      "cell_type": "code",
      "source": [],
      "metadata": {
        "id": "7HR8l22_nJhQ"
      },
      "execution_count": null,
      "outputs": []
    },
    {
      "cell_type": "code",
      "source": [
        "#5. Create an iterator class in Python that generates the Fibonacci sequence up to a specified number of terms"
      ],
      "metadata": {
        "id": "RmvFJiANnJUF"
      },
      "execution_count": null,
      "outputs": []
    },
    {
      "cell_type": "code",
      "source": [
        "class FibonacciIterator:\n",
        "    def __init__(self, max_terms):\n",
        "        self.max_terms = max_terms\n",
        "        self.a, self.b = 0, 1\n",
        "        self.count = 0\n",
        "\n",
        "    def __iter__(self):\n",
        "        return self\n",
        "\n",
        "    def __next__(self):\n",
        "        if self.count >= self.max_terms:\n",
        "            raise StopIteration\n",
        "\n",
        "        result = self.a\n",
        "        self.a, self.b = self.b, self.a + self.b\n",
        "        self.count += 1\n",
        "        return result\n",
        "\n",
        "# Example usage\n",
        "fib_iter = FibonacciIterator(10)\n",
        "for num in fib_iter:\n",
        "    print(num)"
      ],
      "metadata": {
        "colab": {
          "base_uri": "https://localhost:8080/"
        },
        "id": "nVofi4ktnbl1",
        "outputId": "edc30f91-f1b9-40d3-8dd7-94b126669635"
      },
      "execution_count": 7,
      "outputs": [
        {
          "output_type": "stream",
          "name": "stdout",
          "text": [
            "0\n",
            "1\n",
            "1\n",
            "2\n",
            "3\n",
            "5\n",
            "8\n",
            "13\n",
            "21\n",
            "34\n"
          ]
        }
      ]
    },
    {
      "cell_type": "code",
      "source": [],
      "metadata": {
        "id": "1jIjz0-9nh9w"
      },
      "execution_count": null,
      "outputs": []
    },
    {
      "cell_type": "markdown",
      "source": [
        "**Explanation:**\n",
        "\n",
        "\n",
        "1. Class Definition:\n",
        "\n",
        "* The FibonacciIterator class is created with an initializer (__init__) that takes max_terms as an argument, which specifies the maximum number of Fibonacci numbers to generate.\n",
        "\n",
        "*  It initializes two variables, a and b, which will store the previous two Fibonacci numbers, starting with a = 0 and b = 1.\n",
        "\n",
        "* A counter variable count is also initialized to keep track of how many numbers have been generated.\n",
        "\n",
        "\n",
        "2. Iterator Protocol Implementation:\n",
        "\n",
        "* __iter__: This method returns the current object, allowing the iterator to be used directly in a for loop.\n",
        "\n",
        "* __next__: This method is responsible for generating the next Fibonacci number.\n",
        "\n",
        "* It first checks if the count has reached the max_terms. If so, it raises a StopIteration exception to signal the end of the sequence.\n",
        "\n",
        "* Otherwise, it stores the current value of a as the result, then updates a and b to calculate the next Fibonacci number using the formula a, b = b, a + b.\n",
        "\n",
        "* Finally, it increments the count and returns the calculated result.\n"
      ],
      "metadata": {
        "id": "nVFKirY0nxuj"
      }
    },
    {
      "cell_type": "code",
      "source": [
        "#how to use"
      ],
      "metadata": {
        "id": "h0ZKdFA1oWnO"
      },
      "execution_count": null,
      "outputs": []
    },
    {
      "cell_type": "code",
      "source": [
        "# Create an iterator for the first 10 Fibonacci numbers\n",
        "fib_gen = FibonacciIterator(10)\n",
        "\n",
        "# Iterate through the sequence\n",
        "for num in fib_gen:\n",
        "    print(num)"
      ],
      "metadata": {
        "colab": {
          "base_uri": "https://localhost:8080/"
        },
        "id": "rNBGkrfuoZbP",
        "outputId": "2af14802-449b-417c-8ca9-faaf3a07798d"
      },
      "execution_count": 8,
      "outputs": [
        {
          "output_type": "stream",
          "name": "stdout",
          "text": [
            "0\n",
            "1\n",
            "1\n",
            "2\n",
            "3\n",
            "5\n",
            "8\n",
            "13\n",
            "21\n",
            "34\n"
          ]
        }
      ]
    },
    {
      "cell_type": "code",
      "source": [],
      "metadata": {
        "id": "7_SrvoGZoaNY"
      },
      "execution_count": null,
      "outputs": []
    },
    {
      "cell_type": "code",
      "source": [],
      "metadata": {
        "id": "oknD9KTIonJu"
      },
      "execution_count": null,
      "outputs": []
    },
    {
      "cell_type": "code",
      "source": [
        "#6. Write a generator function in Python that yields the powers of 2 up to a given exponent."
      ],
      "metadata": {
        "id": "5xkTRGxvonGY"
      },
      "execution_count": null,
      "outputs": []
    },
    {
      "cell_type": "code",
      "source": [],
      "metadata": {
        "id": "UO2Y5JxppDi_"
      },
      "execution_count": null,
      "outputs": []
    },
    {
      "cell_type": "markdown",
      "source": [
        "**A Generator**\n",
        "  in Python is a function that returns an iterator using the Yield keyword. In this article, we will discuss how the generator function works in Python.\n",
        "\n",
        "**Generator Function in Python**\n",
        "\n",
        "A generator function in Python is defined like a normal function, but whenever it needs to generate a value, it does so with the yield keyword rather than return. If the body of a def contains yield, the function automatically becomes a Python generator function.\n",
        "\n",
        "**Create a Generator in Python**\n",
        "\n",
        "In Python, we can create a generator function by simply using the def keyword and the yield keyword. The generator has the following syntax in Python:\n",
        "\n"
      ],
      "metadata": {
        "id": "YinyARSbpRcg"
      }
    },
    {
      "cell_type": "code",
      "source": [
        "def function_name():\n",
        "    yield statement"
      ],
      "metadata": {
        "id": "G6ulr3xUppIN"
      },
      "execution_count": null,
      "outputs": []
    },
    {
      "cell_type": "code",
      "source": [
        "# A generator function that yields 1 for first time,\n",
        "# 2 second time and 3 third time\n",
        "def pwskills():\n",
        "    yield 1\n",
        "    yield 2\n",
        "    yield 3\n",
        "\n",
        "# Driver code to check above generator function\n",
        "for value in pwskills():\n",
        "    print(value)\n"
      ],
      "metadata": {
        "colab": {
          "base_uri": "https://localhost:8080/"
        },
        "id": "XuaWgtNqpr26",
        "outputId": "4d548967-1353-435a-db1c-e2eac936e9d2"
      },
      "execution_count": 12,
      "outputs": [
        {
          "output_type": "stream",
          "name": "stdout",
          "text": [
            "1\n",
            "2\n",
            "3\n"
          ]
        }
      ]
    },
    {
      "cell_type": "code",
      "source": [],
      "metadata": {
        "id": "vKpmpT2apsit"
      },
      "execution_count": null,
      "outputs": []
    },
    {
      "cell_type": "code",
      "source": [],
      "metadata": {
        "id": "4fIQYXRxqG5R"
      },
      "execution_count": null,
      "outputs": []
    },
    {
      "cell_type": "code",
      "source": [],
      "metadata": {
        "id": "PnJJ7TT3qG18"
      },
      "execution_count": null,
      "outputs": []
    },
    {
      "cell_type": "code",
      "source": [
        "#  7. Implement a generator function that reads a file line by line and yields each line as a string."
      ],
      "metadata": {
        "id": "FCmuW11-qGzK"
      },
      "execution_count": null,
      "outputs": []
    },
    {
      "cell_type": "code",
      "source": [
        "with open('your_file.txt', 'r') as file:\n",
        "    for line in file:\n",
        "        print(line.strip())  # .strip() removes trailing newlines"
      ],
      "metadata": {
        "id": "MUNXT1CMq8DU"
      },
      "execution_count": null,
      "outputs": []
    },
    {
      "cell_type": "markdown",
      "source": [
        "**Explanation:**\n",
        "\n",
        "\n",
        "1. with open('your_file.txt', 'r') as file:\n",
        "\n",
        "* Opens the file your_file.txt in read mode ('r').\n",
        "\n",
        "* The with statement ensures the file is automatically closed even if an error occurs.\n",
        "2. for line in file:\n",
        "\n",
        "* Iterates over each line in the file.\n",
        "3. print(line.strip()):\n",
        "\n",
        "* Prints the line, removing any trailing newline characters (\\n) using the strip() method.\n"
      ],
      "metadata": {
        "id": "yMKM-qmMqVrB"
      }
    },
    {
      "cell_type": "code",
      "source": [],
      "metadata": {
        "id": "XVQU9cQ3rlQg"
      },
      "execution_count": null,
      "outputs": []
    },
    {
      "cell_type": "code",
      "source": [],
      "metadata": {
        "id": "uwG9R77prmBx"
      },
      "execution_count": null,
      "outputs": []
    },
    {
      "cell_type": "code",
      "source": [
        "# 8. Use a lambda function in Python to sort a list of tuples based on the second element of each tuple."
      ],
      "metadata": {
        "id": "zb5u19itrl-B"
      },
      "execution_count": null,
      "outputs": []
    },
    {
      "cell_type": "code",
      "source": [
        " 1. Using the sort() method:\n"
      ],
      "metadata": {
        "id": "ZYEvn4YcspnQ"
      },
      "execution_count": null,
      "outputs": []
    },
    {
      "cell_type": "code",
      "source": [
        "my_list = [(2, 'b'), (1, 'a'), (3, 'c')]\n",
        "\n",
        "# Sort by the first element of each tuple\n",
        "my_list.sort()\n",
        "print(my_list)\n",
        "\n",
        "# Sort by the second element of each tuple\n",
        "my_list.sort(key=lambda x: x[1])\n",
        "print(my_list)"
      ],
      "metadata": {
        "colab": {
          "base_uri": "https://localhost:8080/"
        },
        "id": "V8wbJIgwskYx",
        "outputId": "253ef5e5-70c7-4efa-e1e3-97ea92a5f78f"
      },
      "execution_count": 14,
      "outputs": [
        {
          "output_type": "stream",
          "name": "stdout",
          "text": [
            "[(1, 'a'), (2, 'b'), (3, 'c')]\n",
            "[(1, 'a'), (2, 'b'), (3, 'c')]\n"
          ]
        }
      ]
    },
    {
      "cell_type": "code",
      "source": [
        "2.Using the sorted() function:\n"
      ],
      "metadata": {
        "id": "xlIrgxrrslA5"
      },
      "execution_count": null,
      "outputs": []
    },
    {
      "cell_type": "code",
      "source": [
        "my_list = [(2, 'b'), (1, 'a'), (3, 'c')]\n",
        "\n",
        "# Sort by the first element of each tuple\n",
        "sorted_list = sorted(my_list)\n",
        "print(sorted_list)\n",
        "\n",
        "# Sort by the second element of each tuple\n",
        "sorted_list = sorted(my_list, key=lambda x: x[1])\n",
        "print(sorted_list)"
      ],
      "metadata": {
        "colab": {
          "base_uri": "https://localhost:8080/"
        },
        "id": "BvnphayysyM3",
        "outputId": "fc9c1b46-0ef1-4522-9baf-543ed8a0fa7a"
      },
      "execution_count": 15,
      "outputs": [
        {
          "output_type": "stream",
          "name": "stdout",
          "text": [
            "[(1, 'a'), (2, 'b'), (3, 'c')]\n",
            "[(1, 'a'), (2, 'b'), (3, 'c')]\n"
          ]
        }
      ]
    },
    {
      "cell_type": "code",
      "source": [],
      "metadata": {
        "id": "Vc6rPtiks0Q0"
      },
      "execution_count": null,
      "outputs": []
    },
    {
      "cell_type": "code",
      "source": [],
      "metadata": {
        "id": "qO0_wQm_s4Xg"
      },
      "execution_count": null,
      "outputs": []
    },
    {
      "cell_type": "code",
      "source": [
        "#9. Write a Python program that uses `map()` to convert a list of temperatures from Celsius to Fahrenheit."
      ],
      "metadata": {
        "id": "_YwmnMXrs4Tg"
      },
      "execution_count": null,
      "outputs": []
    },
    {
      "cell_type": "markdown",
      "source": [
        "In temperature conversions, it is often necessary to convert temperatures between different scales. One common conversion is from Celsius to Fahrenheit and vice-versa. In this article, we will see how to convert Celsius to Fahrenheit and vice-versa.\n",
        "\n"
      ],
      "metadata": {
        "id": "256_ZiHotKpv"
      }
    },
    {
      "cell_type": "markdown",
      "source": [
        "**Convert Celsius to Fahrenheit using Python**\n",
        "\n",
        "\n",
        "To convert Celsius to Fahrenheit we are going to use the formula **“F = (C * 9/5) + 32″**. We will take Celsius temperature as input from the user, apply the conversion formula of Fahrenheit from Celsius, and display the result. We have used “%.2f” to represent the floating point number up to two decimal places in Python"
      ],
      "metadata": {
        "id": "TDeEO4W8thJn"
      }
    },
    {
      "cell_type": "code",
      "source": [
        "# Temperature in celsius degree\n",
        "celsius = 47\n",
        "\n",
        "# Converting the temperature to\n",
        "# fehrenheit using the formula\n",
        "fahrenheit = (celsius * 1.8) + 32\n",
        "\n",
        "# printing the result\n",
        "print('%.2f Celsius is equivalent to: %.2f Fahrenheit'\n",
        "\t% (celsius, fahrenheit))\n"
      ],
      "metadata": {
        "colab": {
          "base_uri": "https://localhost:8080/"
        },
        "id": "nNPrCkI3tLnl",
        "outputId": "bdf32a66-bea1-4dd6-8387-f39903ed83ba"
      },
      "execution_count": 16,
      "outputs": [
        {
          "output_type": "stream",
          "name": "stdout",
          "text": [
            "47.00 Celsius is equivalent to: 116.60 Fahrenheit\n"
          ]
        }
      ]
    },
    {
      "cell_type": "code",
      "source": [],
      "metadata": {
        "id": "WEzLcDGYtfzR"
      },
      "execution_count": null,
      "outputs": []
    },
    {
      "cell_type": "code",
      "source": [],
      "metadata": {
        "id": "zglMOxnpttgJ"
      },
      "execution_count": null,
      "outputs": []
    },
    {
      "cell_type": "code",
      "source": [
        "#10. Create a Python program that uses `filter()` to remove all the vowels from a given string."
      ],
      "metadata": {
        "id": "6--SbrCYt3_J"
      },
      "execution_count": null,
      "outputs": []
    },
    {
      "cell_type": "code",
      "source": [
        "# Python program to remove vowels from a string\n",
        "# Function to remove vowels\n",
        "def rem_vowel(string):\n",
        "\tvowels = ['a','e','i','o','u']\n",
        "\tresult = [letter for letter in string if letter.lower() not in vowels]\n",
        "\tresult = ''.join(result)\n",
        "\tprint(result)\n",
        "\n",
        "# Driver program\n",
        "string = \"pwskills - A Computer Science Portal for skills\"\n",
        "rem_vowel(string)\n",
        "string = \"Loving Python LOL\"\n",
        "rem_vowel(string)\n"
      ],
      "metadata": {
        "colab": {
          "base_uri": "https://localhost:8080/"
        },
        "id": "pF8NFsV0t3xc",
        "outputId": "ce08251b-12f1-4086-d9af-7c57284c8466"
      },
      "execution_count": 17,
      "outputs": [
        {
          "output_type": "stream",
          "name": "stdout",
          "text": [
            "pwsklls -  Cmptr Scnc Prtl fr sklls\n",
            "Lvng Pythn LL\n"
          ]
        }
      ]
    },
    {
      "cell_type": "code",
      "source": [],
      "metadata": {
        "id": "0SofRs-Sumi-"
      },
      "execution_count": null,
      "outputs": []
    },
    {
      "cell_type": "code",
      "source": [],
      "metadata": {
        "id": "94S-cdWbvba5"
      },
      "execution_count": null,
      "outputs": []
    },
    {
      "cell_type": "code",
      "source": [
        "#11. 11) Imagine an accounting routine used in a book shop. It works on a list with sublists, which look like this:"
      ],
      "metadata": {
        "id": "GefyiKjnvbXv"
      },
      "execution_count": null,
      "outputs": []
    },
    {
      "cell_type": "markdown",
      "source": [
        "![book selll .jpg](data:image/jpeg;base64,/9j/4AAQSkZJRgABAQEAlgCWAAD/4SF6RXhpZgAATU0AKgAAAAgABgALAAIAAAAmAAAIYgESAAMAAAABAAEAAAExAAIAAAAmAAAIiAEyAAIAAAAUAAAIrodpAAQAAAABAAAIwuocAAcAAAgMAAAAVgAAEUYc6gAAAAgAAAAAAAAAAAAAAAAAAAAAAAAAAAAAAAAAAAAAAAAAAAAAAAAAAAAAAAAAAAAAAAAAAAAAAAAAAAAAAAAAAAAAAAAAAAAAAAAAAAAAAAAAAAAAAAAAAAAAAAAAAAAAAAAAAAAAAAAAAAAAAAAAAAAAAAAAAAAAAAAAAAAAAAAAAAAAAAAAAAAAAAAAAAAAAAAAAAAAAAAAAAAAAAAAAAAAAAAAAAAAAAAAAAAAAAAAAAAAAAAAAAAAAAAAAAAAAAAAAAAAAAAAAAAAAAAAAAAAAAAAAAAAAAAAAAAAAAAAAAAAAAAAAAAAAAAAAAAAAAAAAAAAAAAAAAAAAAAAAAAAAAAAAAAAAAAAAAAAAAAAAAAAAAAAAAAAAAAAAAAAAAAAAAAAAAAAAAAAAAAAAAAAAAAAAAAAAAAAAAAAAAAAAAAAAAAAAAAAAAAAAAAAAAAAAAAAAAAAAAAAAAAAAAAAAAAAAAAAAAAAAAAAAAAAAAAAAAAAAAAAAAAAAAAAAAAAAAAAAAAAAAAAAAAAAAAAAAAAAAAAAAAAAAAAAAAAAAAAAAAAAAAAAAAAAAAAAAAAAAAAAAAAAAAAAAAAAAAAAAAAAAAAAAAAAAAAAAAAAAAAAAAAAAAAAAAAAAAAAAAAAAAAAAAAAAAAAAAAAAAAAAAAAAAAAAAAAAAAAAAAAAAAAAAAAAAAAAAAAAAAAAAAAAAAAAAAAAAAAAAAAAAAAAAAAAAAAAAAAAAAAAAAAAAAAAAAAAAAAAAAAAAAAAAAAAAAAAAAAAAAAAAAAAAAAAAAAAAAAAAAAAAAAAAAAAAAAAAAAAAAAAAAAAAAAAAAAAAAAAAAAAAAAAAAAAAAAAAAAAAAAAAAAAAAAAAAAAAAAAAAAAAAAAAAAAAAAAAAAAAAAAAAAAAAAAAAAAAAAAAAAAAAAAAAAAAAAAAAAAAAAAAAAAAAAAAAAAAAAAAAAAAAAAAAAAAAAAAAAAAAAAAAAAAAAAAAAAAAAAAAAAAAAAAAAAAAAAAAAAAAAAAAAAAAAAAAAAAAAAAAAAAAAAAAAAAAAAAAAAAAAAAAAAAAAAAAAAAAAAAAAAAAAAAAAAAAAAAAAAAAAAAAAAAAAAAAAAAAAAAAAAAAAAAAAAAAAAAAAAAAAAAAAAAAAAAAAAAAAAAAAAAAAAAAAAAAAAAAAAAAAAAAAAAAAAAAAAAAAAAAAAAAAAAAAAAAAAAAAAAAAAAAAAAAAAAAAAAAAAAAAAAAAAAAAAAAAAAAAAAAAAAAAAAAAAAAAAAAAAAAAAAAAAAAAAAAAAAAAAAAAAAAAAAAAAAAAAAAAAAAAAAAAAAAAAAAAAAAAAAAAAAAAAAAAAAAAAAAAAAAAAAAAAAAAAAAAAAAAAAAAAAAAAAAAAAAAAAAAAAAAAAAAAAAAAAAAAAAAAAAAAAAAAAAAAAAAAAAAAAAAAAAAAAAAAAAAAAAAAAAAAAAAAAAAAAAAAAAAAAAAAAAAAAAAAAAAAAAAAAAAAAAAAAAAAAAAAAAAAAAAAAAAAAAAAAAAAAAAAAAAAAAAAAAAAAAAAAAAAAAAAAAAAAAAAAAAAAAAAAAAAAAAAAAAAAAAAAAAAAAAAAAAAAAAAAAAAAAAAAAAAAAAAAAAAAAAAAAAAAAAAAAAAAAAAAAAAAAAAAAAAAAAAAAAAAAAAAAAAAAAAAAAAAAAAAAAAAAAAAAAAAAAAAAAAAAAAAAAAAAAAAAAAAAAAAAAAAAAAAAAAAAAAAAAAAAAAAAAAAAAAAAAAAAAAAAAAAAAAAAAAAAAAAAAAAAAAAAAAAAAAAAAAAAAAAAAAAAAAAAAAAAAAAAAAAAAAAAAAAAAAAAAAAAAAAAAAAAAAAAAAAAAAAAAAAAAAAAAAAAAAAAAAAAAAAAAAAAAAAAAAAAAAAAAAAAAAAAAAAAAAAAAAAAAAAAAAAAAAAAAAAAAAAAAAAAAAAAAAAAAAAAAAAAAAAAAAAAAAAAAAAAAAAAAAAAAAAAAAAAAAAAAAAAAAAAAAAAAAAAAAAAAAAAAAAAAAAAAAAAAAAAAAAAAAAAAAAAAAAAAAAAAAAAAAAAAAAAAAAAAAAAAAAAAAAAAAAAAAAAAAAAAAAAAAAAAAAAAAAAAAAAAAAAAAAAAAAAAAAAAAAAAAAAAAAAAAAAAAAAAAAAAAAAAAAAAAAAAAAAAAAAAAAAAAAAAAAAAAAAAAAAAAAAAAAAAAAAAAAAAAAAAAAAAAAAAAAAAAAAAAAAAAAAAAAAAAAAAAAAAAAAAAAAAAAAAAAAAAAAAAAAAAAAAAAAAAAAAAAAAAAAAAAAAAAAAAAAAAAAAAAAAAAAAAAAAAAAAAAAAAAAAAAAAAAAAAAAAAAAAAAAAAAAAAAAAAAAAAAAAAAAAAAAAAAAAAAAAAAAAAAAAAAAAAAAAAAAAAAAAAAAAAAAAAAAAAAAAAAAAAAAAAAAAAAAAAAAAAAAAAAAAAAAAAAAAAAAAAAAAAAAAAAAAAAAAAAAAAAAAAAAAAAAAAAAAAAAAAAAAAAAAAAAAAAAAAAAAAAAAAAAAAAAAAAAAAAAAAAAAAAAAAAAAAAAAAAAAAAAAAAAAAAAAAAAAAAAAAAAAAAAAAAAAAAAAAAAAAAAAAAAAAAAAAAAAAAAAAAAAAAAAAAAAAAAAAAAAAAAAAAAAAAAAAAAAAAAAAAAAAAAAAAAAAAAAAAAAAAAAAAAAAAAAAAAAAAAAAAAAAAAAAAAAAAAAAAAAFdpbmRvd3MgUGhvdG8gRWRpdG9yIDEwLjAuMTAwMTEuMTYzODQAV2luZG93cyBQaG90byBFZGl0b3IgMTAuMC4xMDAxMS4xNjM4NAAyMDI0OjEwOjA5IDIwOjIxOjI1AAAGkAMAAgAAABQAABEckAQAAgAAABQAABEwkpEAAgAAAAMwMAAAkpIAAgAAAAMwMAAAoAEAAwAAAAEAAQAA6hwABwAACAwAAAkQAAAAABzqAAAACAAAAAAAAAAAAAAAAAAAAAAAAAAAAAAAAAAAAAAAAAAAAAAAAAAAAAAAAAAAAAAAAAAAAAAAAAAAAAAAAAAAAAAAAAAAAAAAAAAAAAAAAAAAAAAAAAAAAAAAAAAAAAAAAAAAAAAAAAAAAAAAAAAAAAAAAAAAAAAAAAAAAAAAAAAAAAAAAAAAAAAAAAAAAAAAAAAAAAAAAAAAAAAAAAAAAAAAAAAAAAAAAAAAAAAAAAAAAAAAAAAAAAAAAAAAAAAAAAAAAAAAAAAAAAAAAAAAAAAAAAAAAAAAAAAAAAAAAAAAAAAAAAAAAAAAAAAAAAAAAAAAAAAAAAAAAAAAAAAAAAAAAAAAAAAAAAAAAAAAAAAAAAAAAAAAAAAAAAAAAAAAAAAAAAAAAAAAAAAAAAAAAAAAAAAAAAAAAAAAAAAAAAAAAAAAAAAAAAAAAAAAAAAAAAAAAAAAAAAAAAAAAAAAAAAAAAAAAAAAAAAAAAAAAAAAAAAAAAAAAAAAAAAAAAAAAAAAAAAAAAAAAAAAAAAAAAAAAAAAAAAAAAAAAAAAAAAAAAAAAAAAAAAAAAAAAAAAAAAAAAAAAAAAAAAAAAAAAAAAAAAAAAAAAAAAAAAAAAAAAAAAAAAAAAAAAAAAAAAAAAAAAAAAAAAAAAAAAAAAAAAAAAAAAAAAAAAAAAAAAAAAAAAAAAAAAAAAAAAAAAAAAAAAAAAAAAAAAAAAAAAAAAAAAAAAAAAAAAAAAAAAAAAAAAAAAAAAAAAAAAAAAAAAAAAAAAAAAAAAAAAAAAAAAAAAAAAAAAAAAAAAAAAAAAAAAAAAAAAAAAAAAAAAAAAAAAAAAAAAAAAAAAAAAAAAAAAAAAAAAAAAAAAAAAAAAAAAAAAAAAAAAAAAAAAAAAAAAAAAAAAAAAAAAAAAAAAAAAAAAAAAAAAAAAAAAAAAAAAAAAAAAAAAAAAAAAAAAAAAAAAAAAAAAAAAAAAAAAAAAAAAAAAAAAAAAAAAAAAAAAAAAAAAAAAAAAAAAAAAAAAAAAAAAAAAAAAAAAAAAAAAAAAAAAAAAAAAAAAAAAAAAAAAAAAAAAAAAAAAAAAAAAAAAAAAAAAAAAAAAAAAAAAAAAAAAAAAAAAAAAAAAAAAAAAAAAAAAAAAAAAAAAAAAAAAAAAAAAAAAAAAAAAAAAAAAAAAAAAAAAAAAAAAAAAAAAAAAAAAAAAAAAAAAAAAAAAAAAAAAAAAAAAAAAAAAAAAAAAAAAAAAAAAAAAAAAAAAAAAAAAAAAAAAAAAAAAAAAAAAAAAAAAAAAAAAAAAAAAAAAAAAAAAAAAAAAAAAAAAAAAAAAAAAAAAAAAAAAAAAAAAAAAAAAAAAAAAAAAAAAAAAAAAAAAAAAAAAAAAAAAAAAAAAAAAAAAAAAAAAAAAAAAAAAAAAAAAAAAAAAAAAAAAAAAAAAAAAAAAAAAAAAAAAAAAAAAAAAAAAAAAAAAAAAAAAAAAAAAAAAAAAAAAAAAAAAAAAAAAAAAAAAAAAAAAAAAAAAAAAAAAAAAAAAAAAAAAAAAAAAAAAAAAAAAAAAAAAAAAAAAAAAAAAAAAAAAAAAAAAAAAAAAAAAAAAAAAAAAAAAAAAAAAAAAAAAAAAAAAAAAAAAAAAAAAAAAAAAAAAAAAAAAAAAAAAAAAAAAAAAAAAAAAAAAAAAAAAAAAAAAAAAAAAAAAAAAAAAAAAAAAAAAAAAAAAAAAAAAAAAAAAAAAAAAAAAAAAAAAAAAAAAAAAAAAAAAAAAAAAAAAAAAAAAAAAAAAAAAAAAAAAAAAAAAAAAAAAAAAAAAAAAAAAAAAAAAAAAAAAAAAAAAAAAAAAAAAAAAAAAAAAAAAAAAAAAAAAAAAAAAAAAAAAAAAAAAAAAAAAAAAAAAAAAAAAAAAAAAAAAAAAAAAAAAAAAAAAAAAAAAAAAAAAAAAAAAAAAAAAAAAAAAAAAAAAAAAAAAAAAAAAAAAAAAAAAAAAAAAAAAAAAAAAAAAAAAAAAAAAAAAAAAAAAAAAAAAAAAAAAAAAAAAAAAAAAAAAAAAAAAAAAAAAAAAAAAAAAAAAAAAAAAAAAAAAAAAAAAAAAAAAAAAAAAAAAAAAAAAAAAAAAAAAAAAAAAAAAAAAAAAAAAAAAAAAAAAAAAAAAAAAAAAAAAAAAAAAAAAAAAAAAAAAAAAAAAAAAAAAAAAAAAAAAAAAAAAAAAAAAAAAAAAAAAAAAAAAAAAAAAAAAAAAAAAAAAAAAAAAAAAAAAAAAAAAAAAAAAAAAAAAAAAAAAAAAAAAAAAAAAAAAAAAAAAAAAAAAAAAAAAAAAAAAAAAAAAAAAAAAAAAAAAAAAAAAAAAAAAAAAAAAAAAAAAAAAAAAAAAAAAAAAAAAAAAAAAAAAAAAAAAAAAAAAAAAAAAAAAAAAAAAAAAAAAAAAAAAAAAAAAAAAAAAAAAAAAAAAAAAAAAAAAAAAAAAAAAAAAAAAAAAAAAAAAAAAAAAAAAAAAAAAAAAAAAAAAAAAAAAAAAAAAAAAAAAAAAAAAAAAAAAAAAAAAAAAAAAAAAAAAAAAAAAAAAAAAAAAAAAAAAAAAAAAAAAAAAAAAAAAAAAAAAAAAAAAAAAAAAAAAAAAAAAAAAAAAAAAAAAAAAAAAAAAAAAAAAAAAAAAAAAAAAAAAAAAAAAAAAAAAAAAAAAAAAAAAAAAAAAAAAAAAAAAAAAAAAAAAAAAAAAAAAAAAAAAAAAAAAAAAAAAAAAAAAAAAAAAAMjAyNDoxMDowOSAyMDoyMDowMgAyMDI0OjEwOjA5IDIwOjIwOjAyAAAAAAYBAwADAAAAAQAGAAABGgAFAAAAAQAAEZQBGwAFAAAAAQAAEZwBKAADAAAAAQACAAACAQAEAAAAAQAAEaQCAgAEAAAAAQAAD80AAAAAAAAAYAAAAAEAAABgAAAAAf/Y/9sAQwAIBgYHBgUIBwcHCQkICgwUDQwLCwwZEhMPFB0aHx4dGhwcICQuJyAiLCMcHCg3KSwwMTQ0NB8nOT04MjwuMzQy/9sAQwEJCQkMCwwYDQ0YMiEcITIyMjIyMjIyMjIyMjIyMjIyMjIyMjIyMjIyMjIyMjIyMjIyMjIyMjIyMjIyMjIyMjIy/8AAEQgAUQEAAwEhAAIRAQMRAf/EAB8AAAEFAQEBAQEBAAAAAAAAAAABAgMEBQYHCAkKC//EALUQAAIBAwMCBAMFBQQEAAABfQECAwAEEQUSITFBBhNRYQcicRQygZGhCCNCscEVUtHwJDNicoIJChYXGBkaJSYnKCkqNDU2Nzg5OkNERUZHSElKU1RVVldYWVpjZGVmZ2hpanN0dXZ3eHl6g4SFhoeIiYqSk5SVlpeYmZqio6Slpqeoqaqys7S1tre4ubrCw8TFxsfIycrS09TV1tfY2drh4uPk5ebn6Onq8fLz9PX29/j5+v/EAB8BAAMBAQEBAQEBAQEAAAAAAAABAgMEBQYHCAkKC//EALURAAIBAgQEAwQHBQQEAAECdwABAgMRBAUhMQYSQVEHYXETIjKBCBRCkaGxwQkjM1LwFWJy0QoWJDThJfEXGBkaJicoKSo1Njc4OTpDREVGR0hJSlNUVVZXWFlaY2RlZmdoaWpzdHV2d3h5eoKDhIWGh4iJipKTlJWWl5iZmqKjpKWmp6ipqrKztLW2t7i5usLDxMXGx8jJytLT1NXW19jZ2uLj5OXm5+jp6vLz9PX29/j5+v/aAAwDAQACEQMRAD8A98U4iU+wp2W/u/rQAZb+7+tGW/u/rQAZb+7+tGW/u/rQAZb+7+tJuOSNvT3oAXLf3f1oy3939aADLf3f1oy3939aADLf3f1oy3939aADLf3f1oy3939aADLf3f1oy3939aADLf3f1oy3939aAELED7v60uW/u/rQAZb+7+tGW/u/rQAZb+7+tIGJz8vT3oAXLf3f1oy3939aADLf3f1oy3939aADLf3f1pMnIBHWgBB/ql+grG1pNZa7hOm7zGE42sgUPuH3w3JXGelAGbO/jJZ90UMcgWLplFUkmPP8Wdw/ee3A55q1dJ4mfTIHhaMXqzs0iDaFMYjfC9T1bbz2OD0FAEPmeLzIkawRIi7Q0jbG3cjP8WemfyqFJfGiOT9lhbcYy24phflXdt+b+9u4P4ZoA6XTftv2PN+V+0F2JCgYVcnaOPbFTvu8uXZ9/Hy/XFAHJ2X/AAmEEKq8SysZeTMU4HydcOfl+/yCTnHGKuaY3id9ThbUYY0tDERIFK7g/Y4BPHXofT3oAq3Np4nht2W0lldi0uC8iE43Ns6nHTaauJP4nGkXTSWkRvhNiFFdQCnrknGPrg0AVpH8Xsm3yYhucEmPYCo+bI5bpwvPXnp6TXEniiLUruWC1jltHKiFBKu5QpAPBwPmBJ6n7vagCtF/wmMbyyMscmVOEfZgHaTkYb1wOf8A69bWjHV3SVtVVEbdiNFA+76nBPPqOnpQBqUUAFFACN938RWDrg1wXkLaYkjxbR9x0AVtwyXDHJGM9KAKj3Pi9lQJYRoxLAlnjOBtGON3rnv9ajYeLvMkLEAbVIKeXjho8gDPUqJOvtg0AbuiT31zpcc2oII53JO0LjA6Dj36/jUupLdNpV8ticXZicQ8gfPt+Xr74oAwzB4otI9kc8d3sAKsQFySzEjlsnaNoGetSx3XiNIr97i2UKkKm2wqlmfAzkBjznPHTpg0AQ2k3i2WUrcQQxRHy9rjYWwWXdkbuCF38cjpj3S8PiyG/uGs40lgaQeWrlMKvzc9Qf7vHpnvQBf0ltfN641NYvs5B27QAQc8dCe1bLdV+tADf+WK/QU7nON9ACZ/6afypRk9HzQAYP8AeP5UYP8AeP5UAGD/AHj+VIAct836UALg/wB79KMH+9+lABg/3j+VA56Pn8qADB/v/pRgjq9ABzjO+jB/v0AGD/e/SjB/vH8qADB/vH8qMH+8fyoARgdv3u47UuD/AH6ADB/vH8qMH+8fyoAMH+8fypFBy3zHr6UAH/A/5Uo56Pn8qADB/vH8qMH+8fyoAMH+8fypCDuXJzzQAD/VL9BVG/0w3tzDKJRGYwQGC/NyMdfSgDLbwmGRV+0LwFDEJ9/AABP0xxituxso7KJ1QLukcu5VcZJoAtUUAFRunmJKmcbhjP4UAZD6PePs/wBPaPZD5QVCQvcZx/npTV0Gfyir6jMzFSpLMSDlSOmfcflQA6DSr23vLZhdvJCmDIXc5J2gHj3PNRL4b8iCGC3ndF2bZmBxvwOOB79+tAD4tAnhgjhj1CVUQAcE8cKDjnvtP51PPpElzp4tHuT+7lWSKQ5LAjkZ+h/lQBUXw3MqJCNQkECoylBkbiSTk8+pq2ulXEcEMa3WWSJ4jIwO7B6H6igBkOj3KXyXL3Zc7suMsM/M5A69AGx+FbNABRQAjfd/EVUmsTLqdteecQIQw8vHByMZoAuUUAFRSxmaGWNXKFgRuXqOKAMe08PG1iMYnDAwCEnbg42qv5fL+pqXS9DGm3RmEoYlCrHHJyQcfQdvrQBsUUAFNbqv1oAb/wAsV+gqC5v7SzfZPNsbbu5J6f5FAFf+29OG0mcgOqspOcMGzjH5H8jVyCeG53+UzHY21gcgg0ATbR7/AJmjaPf8zQAbR7/maYdqh2YkAcnk+lAFWLU7CZWIuVTbjIkfaecY6/UfnUn22yyR9shyOv74cfrQAn2+w5/02DgZP74cD86Bf2JbAu4TkZH70c9enPsaAGz6jZW8SSvODG5IDIxYcdeR6UPqVhHOsLXcYkbGB5nqCR/6CfyoAlS5tZHCR3MbueirKCT+tQtqdglw0D3AWRX8shmIwcZ/lQBKl5aSTLClzG0jLuAWTORx/iPzpDe2i24na4VYyocEvjg96AJYpIZ1LQyrIAcEo+cGpNo9/wAzQA1lG3v1Hc1E9zbpeR2rOfOkUsq5PQUAT7R7/maNo9/zNABtHv8Amaikkjt4ZppWKxxgsxyeABk0AVotUsZvM2T58uPzH5PyrjOfyp1pqVleuFt5t5K7hgn2/wAR+dAFzaPf8zRtHv8AmaADaPf8zTSAGXr19aAE/wCWK/QVVvNNsr+VJLlN7ICFO4jFAEZ0bTzAIijbQQQd5yMAr1+hP5mrNpaw2UTRxMxVmLHe2Tk+9AFjcvrRuX1oANy+tMOxw6seG4P5UAUjo+neWqLCECgAFCVIwc9u9VYPDlhEsqMXZH4VdxGxcg46+1AEsegaXFGkaQnagAGXJ4HShtA0wh8RkF02Z3ngf5NAEltpFpDbwRygTmF3dWkGcMxJPH41Eug6eEKuhYkMGO4jOd2f/Q2/OgCSPRrGHDRB0cfdcOSRwQOvsTSXGiabczyTSRt5khyxDkZOMf0oAW20XTrSSCSGIq8C7YzuJIGFXH5KKadDsGRFfzWVBtUGQ8DsPoOfzoAuWdrDYwmKJmKlixLnJyferG5fWgBrMu3r3FRSW0EtzHO5YvH90bjj8ulAE+5fWjcvrQAbl9ajcJLHJGxIVsg7SQenqKAKMei6fF5mxXHmg+Z+8b5iepPPU4FSWml2VjKZIFYMc5y5PJxk89zgflQBe3L60bl9aADcvrTSQWXB70AA/wBUv0FVby9ktp440hjcMjOS0hXaFHJxtPHT86AKLeIDGp8y1AYIrFRMDjPQdOp7Dv7Ve03UU1KF5EQptbbg9aALtFABUbMI1kcjO0Z/SgDKTxNY7lWYSwsxAUOh54U+n+0KE8SWUyubcPKEheUnGPujOKAHDX4YoybuJomChyFDNgH1yo/lSNryG2t54LZ5RPM8SjOD8pIyMA9dvtQAx/E1kkoXy5jHgFpNnC8MTx142HNWYNbsri5W3Rn3t0yhA6MRz9FY/hQBDPr8NrPcC4iZIISQZRk8jHBGO+eOT0NP/t60ZZzCGk8mF5m7cLnj9DQBDD4nsmCpMGjnJYeWAW6H6A/mBV6z1O2vnKQ79wUMQykYBAIP45/Q+lAF2igBrfd/EVWmvRDfQWxjyJs/PnofpQBbooAKid/LilcLkqCcZxnj1oAzbbXUuFkIgI2RGQgOCQQcYI7c5xnng8CnabrSajcmJYtgCkgkk7iDg44xjnrnPtQBq0UAFNbqv1oAb/yxX6ClIDHJjycY5A6elAERtbdm3NaRlicklFzmpERIwRHEEBOSFAFAD8n+6f0oyf7p/SgAyf7p/Smg5LAoTn6UAMaCFsbrZDjplRSLbW6Z22sa5G04RenpQA5oo3zvgVsjByoNCxogASEKAcjAAxQAxLW3jUKtsuBnqoPXJP8AM/nS/ZoNpX7MmD1AUe/+J/OgBzxRyKVeBWUnJBUEE01beBd222QbhhsKvI96AEFrbKQRaRgjphF4p0cMcUryJDtdwAxGOQOg/DJ/OgCXJ/un9KMn+6f0oAaxO37p6j0pCiGQSGEF14DEDIoAfk/3T+lGT/dP6UAGT/dP6Uzhg6tHlTwQcYNADBbW6klbWMZ4OEXmnJDFG26O3VWxjKqAcelAEmT/AHT+lGT/AHT+lABk/wB0/pTSTuX5SOaAAf6pfoKy9VudThuo1sot8RjJb5M8/wD1v1oAZFcauYkaSNQdsBbEfPLMJP0wavaZNPPab7jcGLHAaMocZ4yDQBcooAKjcsElKDLAcfXFAGHFqOseSrfZTK+DuDRlcEKxx0HUgD8aRdQ1sIQbTdIhYsNhAYYYgD3OFH40ATS6nqi7VTTtzsNxODgDBOPrwB+NJHq95cR3HkWoaSGVUKjP94gg+4AB49aAJZ59Xk+y+RHHETHI02/7oIK4/MFqrR6pq8twsiWSm2KbguDk/Oo6/TJ/CgCVNQ1SVJN1mYQF+VwhY54/h9OT78Ul3famLOxe3gbzmwLhfLJw2ASPzzz096ACPUtYeMsdNVGBPykk+nH8/bil+26xJazvHaBZhJGI42BHB+9z3x60ARpqWs7kQ2BZSwy5BBxuweOnT375rWsZria2DXMIilzgqOlAFhvu/iKpzy3S6lbJEpMLA+Z8nA98/wBKALtFABUE7tHbTugYsqkgIu45x2HegDLgvNVYN5kBwYCUfyyMvnjI6jg46dqXSrnV5rzbewhYSjEHbjuNv4nnigDaooAKa3VfrQAijMS49BTvm9qAD5vaj5vagA+b2o+b2oAPm9qQBgSeOaAF+b2o+b2oAPm9qPm9qAD5vaj5vagA+b2o+b2oAPm9qPm9qAD5vaj5vagBCGIxxS/N7UAHze1Hze1AB83tSAMM9OTQAvze1Hze1AB83tR83tQAfN7UmGJGccUACf6tfpTqACigAooAKKACigAooAKKACigAooAKKACigAooAKKACigAooAKKAP/9kA/+Ex5Gh0dHA6Ly9ucy5hZG9iZS5jb20veGFwLzEuMC8APD94cGFja2V0IGJlZ2luPSfvu78nIGlkPSdXNU0wTXBDZWhpSHpyZVN6TlRjemtjOWQnPz4NCjx4OnhtcG1ldGEgeG1sbnM6eD0iYWRvYmU6bnM6bWV0YS8iPjxyZGY6UkRGIHhtbG5zOnJkZj0iaHR0cDovL3d3dy53My5vcmcvMTk5OS8wMi8yMi1yZGYtc3ludGF4LW5zIyI+PHJkZjpEZXNjcmlwdGlvbiByZGY6YWJvdXQ9InV1aWQ6ZmFmNWJkZDUtYmEzZC0xMWRhLWFkMzEtZDMzZDc1MTgyZjFiIiB4bWxuczp4bXA9Imh0dHA6Ly9ucy5hZG9iZS5jb20veGFwLzEuMC8iPjx4bXA6Q3JlYXRvclRvb2w+V2luZG93cyBQaG90byBFZGl0b3IgMTAuMC4xMDAxMS4xNjM4NDwveG1wOkNyZWF0b3JUb29sPjx4bXA6Q3JlYXRlRGF0ZT4yMDI0LTEwLTA5VDIwOjIwOjAyPC94bXA6Q3JlYXRlRGF0ZT48L3JkZjpEZXNjcmlwdGlvbj48L3JkZjpSREY+PC94OnhtcG1ldGE+DQogICAgICAgICAgICAgICAgICAgICAgICAgICAgICAgICAgICAgICAgICAgICAgICAgICAgICAgICAgICAgICAgICAgICAgICAgICAgICAgICAgICAgICAgICAgICAgICAgICAgCiAgICAgICAgICAgICAgICAgICAgICAgICAgICAgICAgICAgICAgICAgICAgICAgICAgICAgICAgICAgICAgICAgICAgICAgICAgICAgICAgICAgICAgICAgICAgICAgICAgICAKICAgICAgICAgICAgICAgICAgICAgICAgICAgICAgICAgICAgICAgICAgICAgICAgICAgICAgICAgICAgICAgICAgICAgICAgICAgICAgICAgICAgICAgICAgICAgICAgICAgIAogICAgICAgICAgICAgICAgICAgICAgICAgICAgICAgICAgICAgICAgICAgICAgICAgICAgICAgICAgICAgICAgICAgICAgICAgICAgICAgICAgICAgICAgICAgICAgICAgICAgCiAgICAgICAgICAgICAgICAgICAgICAgICAgICAgICAgICAgICAgICAgICAgICAgICAgICAgICAgICAgICAgICAgICAgICAgICAgICAgICAgICAgICAgICAgICAgICAgICAgICAKICAgICAgICAgICAgICAgICAgICAgICAgICAgICAgICAgICAgICAgICAgICAgICAgICAgICAgICAgICAgICAgICAgICAgICAgICAgICAgICAgICAgICAgICAgICAgICAgICAgIAogICAgICAgICAgICAgICAgICAgICAgICAgICAgICAgICAgICAgICAgICAgICAgICAgICAgICAgICAgICAgICAgICAgICAgICAgICAgICAgICAgICAgICAgICAgICAgICAgICAgCiAgICAgICAgICAgICAgICAgICAgICAgICAgICAgICAgICAgICAgICAgICAgICAgICAgICAgICAgICAgICAgICAgICAgICAgICAgICAgICAgICAgICAgICAgICAgICAgICAgICAKICAgICAgICAgICAgICAgICAgICAgICAgICAgICAgICAgICAgICAgICAgICAgICAgICAgICAgICAgICAgICAgICAgICAgICAgICAgICAgICAgICAgICAgICAgICAgICAgICAgIAogICAgICAgICAgICAgICAgICAgICAgICAgICAgICAgICAgICAgICAgICAgICAgICAgICAgICAgICAgICAgICAgICAgICAgICAgICAgICAgICAgICAgICAgICAgICAgICAgICAgCiAgICAgICAgICAgICAgICAgICAgICAgICAgICAgICAgICAgICAgICAgICAgICAgICAgICAgICAgICAgICAgICAgICAgICAgICAgICAgICAgICAgICAgICAgICAgICAgICAgICAKICAgICAgICAgICAgICAgICAgICAgICAgICAgICAgICAgICAgICAgICAgICAgICAgICAgICAgICAgICAgICAgICAgICAgICAgICAgICAgICAgICAgICAgICAgICAgICAgICAgIAogICAgICAgICAgICAgICAgICAgICAgICAgICAgICAgICAgICAgICAgICAgICAgICAgICAgICAgICAgICAgICAgICAgICAgICAgICAgICAgICAgICAgICAgICAgICAgICAgICAgCiAgICAgICAgICAgICAgICAgICAgICAgICAgICAgICAgICAgICAgICAgICAgICAgICAgICAgICAgICAgICAgICAgICAgICAgICAgICAgICAgICAgICAgICAgICAgICAgICAgICAKICAgICAgICAgICAgICAgICAgICAgICAgICAgICAgICAgICAgICAgICAgICAgICAgICAgICAgICAgICAgICAgICAgICAgICAgICAgICAgICAgICAgICAgICAgICAgICAgICAgIAogICAgICAgICAgICAgICAgICAgICAgICAgICAgICAgICAgICAgICAgICAgICAgICAgICAgICAgICAgICAgICAgICAgICAgICAgICAgICAgICAgICAgICAgICAgICAgICAgICAgCiAgICAgICAgICAgICAgICAgICAgICAgICAgICAgICAgICAgICAgICAgICAgICAgICAgICAgICAgICAgICAgICAgICAgICAgICAgICAgICAgICAgICAgICAgICAgICAgICAgICAKICAgICAgICAgICAgICAgICAgICAgICAgICAgICAgICAgICAgICAgICAgICAgICAgICAgICAgICAgICAgICAgICAgICAgICAgICAgICAgICAgICAgICAgICAgICAgICAgICAgIAogICAgICAgICAgICAgICAgICAgICAgICAgICAgICAgICAgICAgICAgICAgICAgICAgICAgICAgICAgICAgICAgICAgICAgICAgICAgICAgICAgICAgICAgICAgICAgICAgICAgCiAgICAgICAgICAgICAgICAgICAgICAgICAgICAgICAgICAgICAgICAgICAgICAgICAgICAgICAgICAgICAgICAgICAgICAgICAgICAgICAgICAgICAgICAgICAgICAgICAgICAKICAgICAgICAgICAgICAgICAgICAgICAgICAgICAgICAgICAgICAgICAgICAgICAgICAgICAgICAgICAgICAgICAgICAgICAgICAgICAgICAgICAgICAgICAgICAgICAgICAgIAogICAgICAgICAgICAgICAgICAgICAgICAgICAgICAgICAgICAgICAgICAgICAgICAgICAgICAgICAgICAgICAgICAgICAgICAgICAgICAgICAgICAgICAgICAgICAgICAgICAgCiAgICAgICAgICAgICAgICAgICAgICAgICAgICAgICAgICAgICAgICAgICAgICAgICAgICAgICAgICAgICAgICAgICAgICAgICAgICAgICAgICAgICAgICAgICAgICAgICAgICAKICAgICAgICAgICAgICAgICAgICAgICAgICAgICAgICAgICAgICAgICAgICAgICAgICAgICAgICAgICAgICAgICAgICAgICAgICAgICAgICAgICAgICAgICAgICAgICAgICAgIAogICAgICAgICAgICAgICAgICAgICAgICAgICAgICAgICAgICAgICAgICAgICAgICAgICAgICAgICAgICAgICAgICAgICAgICAgICAgICAgICAgICAgICAgICAgICAgICAgICAgCiAgICAgICAgICAgICAgICAgICAgICAgICAgICAgICAgICAgICAgICAgICAgICAgICAgICAgICAgICAgICAgICAgICAgICAgICAgICAgICAgICAgICAgICAgICAgICAgICAgICAKICAgICAgICAgICAgICAgICAgICAgICAgICAgICAgICAgICAgICAgICAgICAgICAgICAgICAgICAgICAgICAgICAgICAgICAgICAgICAgICAgICAgICAgICAgICAgICAgICAgIAogICAgICAgICAgICAgICAgICAgICAgICAgICAgICAgICAgICAgICAgICAgICAgICAgICAgICAgICAgICAgICAgICAgICAgICAgICAgICAgICAgICAgICAgICAgICAgICAgICAgCiAgICAgICAgICAgICAgICAgICAgICAgICAgICAgICAgICAgICAgICAgICAgICAgICAgICAgICAgICAgICAgICAgICAgICAgICAgICAgICAgICAgICAgICAgICAgICAgICAgICAKICAgICAgICAgICAgICAgICAgICAgICAgICAgICAgICAgICAgICAgICAgICAgICAgICAgICAgICAgICAgICAgICAgICAgICAgICAgICAgICAgICAgICAgICAgICAgICAgICAgIAogICAgICAgICAgICAgICAgICAgICAgICAgICAgICAgICAgICAgICAgICAgICAgICAgICAgICAgICAgICAgICAgICAgICAgICAgICAgICAgICAgICAgICAgICAgICAgICAgICAgCiAgICAgICAgICAgICAgICAgICAgICAgICAgICAgICAgICAgICAgICAgICAgICAgICAgICAgICAgICAgICAgICAgICAgICAgICAgICAgICAgICAgICAgICAgICAgICAgICAgICAKICAgICAgICAgICAgICAgICAgICAgICAgICAgICAgICAgICAgICAgICAgICAgICAgICAgICAgICAgICAgICAgICAgICAgICAgICAgICAgICAgICAgICAgICAgICAgICAgICAgIAogICAgICAgICAgICAgICAgICAgICAgICAgICAgICAgICAgICAgICAgICAgICAgICAgICAgICAgICAgICAgICAgICAgICAgICAgICAgICAgICAgICAgICAgICAgICAgICAgICAgCiAgICAgICAgICAgICAgICAgICAgICAgICAgICAgICAgICAgICAgICAgICAgICAgICAgICAgICAgICAgICAgICAgICAgICAgICAgICAgICAgICAgICAgICAgICAgICAgICAgICAKICAgICAgICAgICAgICAgICAgICAgICAgICAgICAgICAgICAgICAgICAgICAgICAgICAgICAgICAgICAgICAgICAgICAgICAgICAgICAgICAgICAgICAgICAgICAgICAgICAgIAogICAgICAgICAgICAgICAgICAgICAgICAgICAgICAgICAgICAgICAgICAgICAgICAgICAgICAgICAgICAgICAgICAgICAgICAgICAgICAgICAgICAgICAgICAgICAgICAgICAgCiAgICAgICAgICAgICAgICAgICAgICAgICAgICAgICAgICAgICAgICAgICAgICAgICAgICAgICAgICAgICAgICAgICAgICAgICAgICAgICAgICAgICAgICAgICAgICAgICAgICAKICAgICAgICAgICAgICAgICAgICAgICAgICAgICAgICAgICAgICAgICAgICAgICAgICAgICAgICAgICAgICAgICAgICAgICAgICAgICAgICAgICAgICAgICAgICAgICAgICAgIAogICAgICAgICAgICAgICAgICAgICAgICAgICAgICAgICAgICAgICAgICAgICAgICAgICAgICAgICAgICAgICAgICAgICAgICAgICAgICAgICAgICAgICAgICAgICAgICAgICAgCiAgICAgICAgICAgICAgICAgICAgICAgICAgICAgICAgICAgICAgICAgICAgICAgICAgICAgICAgICAgICAgICAgICAgICAgICAgICAgICAgICAgICAgICAgICAgICAgICAgICAKICAgICAgICAgICAgICAgICAgICAgICAgICAgICAgICAgICAgICAgICAgICAgICAgICAgICAgICAgICAgICAgICAgICAgICAgICAgICAgICAgICAgICAgICAgICAgICAgICAgIAogICAgICAgICAgICAgICAgICAgICAgICAgICAgICAgICAgICAgICAgICAgICAgICAgICAgICAgICAgICAgICAgICAgICAgICAgICAgICAgICAgICAgICAgICAgICAgICAgICAgCiAgICAgICAgICAgICAgICAgICAgICAgICAgICAgICAgICAgICAgICAgICAgICAgICAgICAgICAgICAgICAgICAgICAgICAgICAgICAgICAgICAgICAgICAgICAgICAgICAgICAKICAgICAgICAgICAgICAgICAgICAgICAgICAgICAgICAgICAgICAgICAgICAgICAgICAgICAgICAgICAgICAgICAgICAgICAgICAgICAgICAgICAgICAgICAgICAgICAgICAgIAogICAgICAgICAgICAgICAgICAgICAgICAgICAgICAgICAgICAgICAgICAgICAgICAgICAgICAgICAgICAgICAgICAgICAgICAgICAgICAgICAgICAgICAgICAgICAgICAgICAgCiAgICAgICAgICAgICAgICAgICAgICAgICAgICAgICAgICAgICAgICAgICAgICAgICAgICAgICAgICAgICAgICAgICAgICAgICAgICAgICAgICAgICAgICAgICAgICAgICAgICAKICAgICAgICAgICAgICAgICAgICAgICAgICAgICAgICAgICAgICAgICAgICAgICAgICAgICAgICAgICAgICAgICAgICAgICAgICAgICAgICAgICAgICAgICAgICAgICAgICAgIAogICAgICAgICAgICAgICAgICAgICAgICAgICAgICAgICAgICAgICAgICAgICAgICAgICAgICAgICAgICAgICAgICAgICAgICAgICAgICAgICAgICAgICAgICAgICAgICAgICAgCiAgICAgICAgICAgICAgICAgICAgICAgICAgICAgICAgICAgICAgICAgICAgICAgICAgICAgICAgICAgICAgICAgICAgICAgICAgICAgICAgICAgICAgICAgICAgICAgICAgICAKICAgICAgICAgICAgICAgICAgICAgICAgICAgICAgICAgICAgICAgICAgICAgICAgICAgICAgICAgICAgICAgICAgICAgICAgICAgICAgICAgICAgICAgICAgICAgICAgICAgIAogICAgICAgICAgICAgICAgICAgICAgICAgICAgICAgICAgICAgICAgICAgICAgICAgICAgICAgICAgICAgICAgICAgICAgICAgICAgICAgICAgICAgICAgICAgICAgICAgICAgCiAgICAgICAgICAgICAgICAgICAgICAgICAgICAgICAgICAgICAgICAgICAgICAgICAgICAgICAgICAgICAgICAgICAgICAgICAgICAgICAgICAgICAgICAgICAgICAgICAgICAKICAgICAgICAgICAgICAgICAgICAgICAgICAgICAgICAgICAgICAgICAgICAgICAgICAgICAgICAgICAgICAgICAgICAgICAgICAgICAgICAgICAgICAgICAgICAgICAgICAgIAogICAgICAgICAgICAgICAgICAgICAgICAgICAgICAgICAgICAgICAgICAgICAgICAgICAgICAgICAgICAgICAgICAgICAgICAgICAgICAgICAgICAgICAgICAgICAgICAgICAgCiAgICAgICAgICAgICAgICAgICAgICAgICAgICAgICAgICAgICAgICAgICAgICAgICAgICAgICAgICAgICAgICAgICAgICAgICAgICAgICAgICAgICAgICAgICAgICAgICAgICAKICAgICAgICAgICAgICAgICAgICAgICAgICAgICAgICAgICAgICAgICAgICAgICAgICAgICAgICAgICAgICAgICAgICAgICAgICAgICAgICAgICAgICAgICAgICAgICAgICAgIAogICAgICAgICAgICAgICAgICAgICAgICAgICAgICAgICAgICAgICAgICAgICAgICAgICAgICAgICAgICAgICAgICAgICAgICAgICAgICAgICAgICAgICAgICAgICAgICAgICAgCiAgICAgICAgICAgICAgICAgICAgICAgICAgICAgICAgICAgICAgICAgICAgICAgICAgICAgICAgICAgICAgICAgICAgICAgICAgICAgICAgICAgICAgICAgICAgICAgICAgICAKICAgICAgICAgICAgICAgICAgICAgICAgICAgICAgICAgICAgICAgICAgICAgICAgICAgICAgICAgICAgICAgICAgICAgICAgICAgICAgICAgICAgICAgICAgICAgICAgICAgIAogICAgICAgICAgICAgICAgICAgICAgICAgICAgICAgICAgICAgICAgICAgICAgICAgICAgICAgICAgICAgICAgICAgICAgICAgICAgICAgICAgICAgICAgICAgICAgICAgICAgCiAgICAgICAgICAgICAgICAgICAgICAgICAgICAgICAgICAgICAgICAgICAgICAgICAgICAgICAgICAgICAgICAgICAgICAgICAgICAgICAgICAgICAgICAgICAgICAgICAgICAKICAgICAgICAgICAgICAgICAgICAgICAgICAgICAgICAgICAgICAgICAgICAgICAgICAgICAgICAgICAgICAgICAgICAgICAgICAgICAgICAgICAgICAgICAgICAgICAgICAgIAogICAgICAgICAgICAgICAgICAgICAgICAgICAgICAgICAgICAgICAgICAgICAgICAgICAgICAgICAgICAgICAgICAgICAgICAgICAgICAgICAgICAgICAgICAgICAgICAgICAgCiAgICAgICAgICAgICAgICAgICAgICAgICAgICAgICAgICAgICAgICAgICAgICAgICAgICAgICAgICAgICAgICAgICAgICAgICAgICAgICAgICAgICAgICAgICAgICAgICAgICAKICAgICAgICAgICAgICAgICAgICAgICAgICAgICAgICAgICAgICAgICAgICAgICAgICAgICAgICAgICAgICAgICAgICAgICAgICAgICAgICAgICAgICAgICAgICAgICAgICAgIAogICAgICAgICAgICAgICAgICAgICAgICAgICAgICAgICAgICAgICAgICAgICAgICAgICAgICAgICAgICAgICAgICAgICAgICAgICAgICAgICAgICAgICAgICAgICAgICAgICAgCiAgICAgICAgICAgICAgICAgICAgICAgICAgICAgICAgICAgICAgICAgICAgICAgICAgICAgICAgICAgICAgICAgICAgICAgICAgICAgICAgICAgICAgICAgICAgICAgICAgICAKICAgICAgICAgICAgICAgICAgICAgICAgICAgICAgICAgICAgICAgICAgICAgICAgICAgICAgICAgICAgICAgICAgICAgICAgICAgICAgICAgICAgICAgICAgICAgICAgICAgIAogICAgICAgICAgICAgICAgICAgICAgICAgICAgICAgICAgICAgICAgICAgICAgICAgICAgICAgICAgICAgICAgICAgICAgICAgICAgICAgICAgICAgICAgICAgICAgICAgICAgCiAgICAgICAgICAgICAgICAgICAgICAgICAgICAgICAgICAgICAgICAgICAgICAgICAgICAgICAgICAgICAgICAgICAgICAgICAgICAgICAgICAgICAgICAgICAgICAgICAgICAKICAgICAgICAgICAgICAgICAgICAgICAgICAgICAgICAgICAgICAgICAgICAgICAgICAgICAgICAgICAgICAgICAgICAgICAgICAgICAgICAgICAgICAgICAgICAgICAgICAgIAogICAgICAgICAgICAgICAgICAgICAgICAgICAgICAgICAgICAgICAgICAgICAgICAgICAgICAgICAgICAgICAgICAgICAgICAgICAgICAgICAgICAgICAgICAgICAgICAgICAgCiAgICAgICAgICAgICAgICAgICAgICAgICAgICAgICAgICAgICAgICAgICAgICAgICAgICAgICAgICAgICAgICAgICAgICAgICAgICAgICAgICAgICAgICAgICAgICAgICAgICAKICAgICAgICAgICAgICAgICAgICAgICAgICAgICAgICAgICAgICAgICAgICAgICAgICAgICAgICAgICAgICAgICAgICAgICAgICAgICAgICAgICAgICAgICAgICAgICAgICAgIAogICAgICAgICAgICAgICAgICAgICAgICAgICAgICAgICAgICAgICAgICAgICAgICAgICAgICAgICAgICAgICAgICAgICAgICAgICAgICAgICAgICAgICAgICAgICAgICAgICAgCiAgICAgICAgICAgICAgICAgICAgICAgICAgICAgICAgICAgICAgICAgICAgICAgICAgICAgICAgICAgICAgICAgICAgICAgICAgICAgICAgICAgICAgICAgICAgICAgICAgICAKICAgICAgICAgICAgICAgICAgICAgICAgICAgICAgICAgICAgICAgICAgICAgICAgICAgICAgICAgICAgICAgICAgICAgICAgICAgICAgICAgICAgICAgICAgICAgICAgICAgIAogICAgICAgICAgICAgICAgICAgICAgICAgICAgICAgICAgICAgICAgICAgICAgICAgICAgICAgICAgICAgICAgICAgICAgICAgICAgICAgICAgICAgICAgICAgICAgICAgICAgCiAgICAgICAgICAgICAgICAgICAgICAgICAgICAgICAgICAgICAgICAgICAgICAgICAgICAgICAgICAgICAgICAgICAgICAgICAgICAgICAgICAgICAgICAgICAgICAgICAgICAKICAgICAgICAgICAgICAgICAgICAgICAgICAgICAgICAgICAgICAgICAgICAgICAgICAgICAgICAgICAgICAgICAgICAgICAgICAgICAgICAgICAgICAgICAgICAgICAgICAgIAogICAgICAgICAgICAgICAgICAgICAgICAgICAgICAgICAgICAgICAgICAgICAgICAgICAgICAgICAgICAgICAgICAgICAgICAgICAgICAgICAgICAgICAgICAgICAgICAgICAgCiAgICAgICAgICAgICAgICAgICAgICAgICAgICAgICAgICAgICAgICAgICAgICAgICAgICAgICAgICAgICAgICAgICAgICAgICAgICAgICAgICAgICAgICAgICAgICAgICAgICAKICAgICAgICAgICAgICAgICAgICAgICAgICAgICAgICAgICAgICAgICAgICAgICAgICAgICAgICAgICAgICAgICAgICAgICAgICAgICAgICAgICAgICAgICAgICAgICAgICAgIAogICAgICAgICAgICAgICAgICAgICAgICAgICAgICAgICAgICAgICAgICAgICAgICAgICAgICAgICAgICAgICAgICAgICAgICAgICAgICAgICAgICAgICAgICAgICAgICAgICAgCiAgICAgICAgICAgICAgICAgICAgICAgICAgICAgICAgICAgICAgICAgICAgICAgICAgICAgICAgICAgICAgICAgICAgICAgICAgICAgICAgICAgICAgICAgICAgICAgICAgICAKICAgICAgICAgICAgICAgICAgICAgICAgICAgICAgICAgICAgICAgICAgICAgICAgICAgICAgICAgICAgICAgICAgICAgICAgICAgICAgICAgICAgICAgICAgICAgICAgICAgIAogICAgICAgICAgICAgICAgICAgICAgICAgICAgICAgICAgICAgICAgICAgICAgICAgICAgICAgICAgICAgICAgICAgICAgICAgICAgICAgICAgICAgICAgICAgICAgICAgICAgCiAgICAgICAgICAgICAgICAgICAgICAgICAgICAgICAgICAgICAgICAgICAgICAgICAgICAgICAgICAgICAgICAgICAgICAgICAgICAgICAgICAgICAgICAgICAgICAgICAgICAKICAgICAgICAgICAgICAgICAgICAgICAgICAgICAgICAgICAgICAgICAgICAgICAgICAgICAgICAgICAgICAgICAgICAgICAgICAgICAgICAgICAgICAgICAgICAgICAgICAgIAogICAgICAgICAgICAgICAgICAgICAgICAgICAgICAgICAgICAgICAgICAgICAgICAgICAgICAgICAgICAgICAgICAgICAgICAgICAgICAgICAgICAgICAgICAgICAgICAgICAgCiAgICAgICAgICAgICAgICAgICAgICAgICAgICAgICAgICAgICAgICAgICAgICAgICAgICAgICAgICAgICAgICAgICAgICAgICAgICAgICAgICAgICAgICAgICAgICAgICAgICAKICAgICAgICAgICAgICAgICAgICAgICAgICAgICAgICAgICAgICAgICAgICAgICAgICAgICAgICAgICAgICAgICAgICAgICAgICAgICAgICAgICAgICAgICAgICAgICAgICAgIAogICAgICAgICAgICAgICAgICAgICAgICAgICAgICAgICAgICAgICAgICAgICAgICAgICAgICAgICAgICAgICAgICAgICAgICAgICAgICAgICAgICAgICAgICAgICAgICAgICAgCiAgICAgICAgICAgICAgICAgICAgICAgICAgICAgICAgICAgICAgICAgICAgICAgICAgICAgICAgICAgICAgICAgICAgICAgICAgICAgICAgICAgICAgICAgICAgICAgICAgICAKICAgICAgICAgICAgICAgICAgICAgICAgICAgICAgICAgICAgICAgICAgICAgICAgICAgICAgICAgICAgICAgICAgICAgICAgICAgICAgICAgICAgICAgICAgICAgICAgICAgIAogICAgICAgICAgICAgICAgICAgICAgICAgICAgICAgICAgICAgICAgICAgICAgICAgICAgICAgICAgICAgICAgICAgICAgICAgICAgICAgICAgICAgICAgICAgICAgICAgICAgCiAgICAgICAgICAgICAgICAgICAgICAgICAgICAgICAgICAgICAgICAgICAgICAgICAgICAgICAgICAgICAgICAgICAgICAgICAgICAgICAgICAgICAgICAgICAgICAgICAgICAKICAgICAgICAgICAgICAgICAgICAgICAgICAgICAgICAgICAgICAgICAgICAgICAgICAgICAgICAgICAgICAgICAgICAgICAgICAgICAgICAgICAgICAgICAgICAgICAgICAgIAogICAgICAgICAgICAgICAgICAgICAgICAgICAgICAgICAgICAgICAgICAgICAgICAgICAgICAgICAgICAgICAgICAgICAgICAgICAgICAgICAgICAgICAgICAgICAgICAgICAgCiAgICAgICAgICAgICAgICAgICAgICAgICAgICAgICAgICAgICAgICAgICAgICAgICAgICAgICAgICAgICAgICAgICAgICAgICAgICAgICAgICAgICAgICAgICAgICAgICAgICAKICAgICAgICAgICAgICAgICAgICAgICAgICAgICAgICAgICAgICAgICAgICAgICAgICAgICAgICAgICAgICAgICAgICAgICAgICAgICAgICAgICAgICAgICAgICAgICAgICAgIAogICAgICAgICAgICAgICAgICAgICAgICAgICAgICAgICAgICAgICAgICAgICAgICAgICAgICAgICAgICAgICAgICAgICAgICAgICAgICAgICAgICAgICAgICAgICAgICAgICAgCiAgICAgICAgICAgICAgICAgICAgICAgICAgICAgICAgICAgICAgICAgICAgICAgICAgICAgICAgICAgICAgICAgICAgICAgICAgICAgICAgICAgICAgICAgICAgICAgICAgICAKICAgICAgICAgICAgICAgICAgICAgICAgICAgICAgICAgICAgICAgICAgICAgICAgICAgICAgICAgICAgICAgICAgICAgICAgICAgICAgICAgICAgICAgICAgICAgICAgICAgIAogICAgICAgICAgICAgICAgICAgICAgICAgICAgICAgICAgICAgICAgICAgICAgICAgICAgICAgICAgICAgICAgICAgICAgICAgICAgICAgICAgICAgICAgICAgICAgICAgICAgCiAgICAgICAgICAgICAgICAgICAgICAgICAgICAgICAgICAgICAgICAgICAgICAgICAgICAgICAgICAgICAgICAgICAgICAgICAgICAgICAgICAgICAgICAgICAgICAgICAgICAKICAgICAgICAgICAgICAgICAgICAgICAgICAgICAgICAgICAgICAgICAgICAgICAgICAgICAgICAgICAgICAgICAgICAgICAgICAgICAgICAgICAgICAgICAgICAgICAgICAgIAogICAgICAgICAgICAgICAgICAgICAgICAgICAgICAgICAgICAgICAgICAgICAgICAgICAgICAgICAgICAgICAgICAgICAgICAgICAgICAgICAgICAgICAgICAgICAgICAgICAgCiAgICAgICAgICAgICAgICAgICAgICAgICAgICAgICAgICAgICAgICAgICAgICAgICAgICAgICAgICAgICAgICAgICAgICAgICAgICAgICAgICAgICAgICAgICAgICAgICAgICAKICAgICAgICAgICAgICAgICAgICAgICAgICAgICAgICAgICAgICAgICAgICAgICAgICAgICAgICAgICAgICAgICAgICAgICAgICAgICAgICAgICAgICAgICAgICAgICAgICAgIAogICAgICAgICAgICAgICAgICAgICAgICAgICAgICAgICAgICAgICAgICAgICAgICAgICAgICAgICAgICAgICAgICAgICAgICAgICAgICAgICAgICAgICAgICAgICAgICAgICAgCiAgICAgICAgICAgICAgICAgICAgICAgICAgICAgICAgICAgICAgICAgICAgICAgICAgICAgICAgICAgICAgICAgICAgICAgICAgICAgICAgICAgICAgICAgICAgICAgICAgICAKICAgICAgICAgICAgICAgICAgICAgICAgICAgICAgICAgICAgICAgICAgICAgICAgICAgICAgICAgICAgICAgICAgICAgICAgICAgICAgICAgICAgICAgICAgICAgICAgICAgIAogICAgICAgICAgICAgICAgICAgICAgICAgICAgICAgICAgICAgICAgICAgICAgICAgICAgICAgICAgICAgICAgICAgICAgICAgICAgICAgICAgICAgICAgICAgICAgICAgICAgCiAgICAgICAgICAgICAgICAgICAgICAgICAgICAgICAgICAgICAgICAgICAgICAgICAgICAgICAgICAgICAgICAgICAgICAgICAgICAgICAgICAgICAgICAgICAgICAgICAgICAKICAgICAgICAgICAgICAgICAgICAgICAgICAgICAgICAgICAgICAgICAgICAgICAgICAgICAgICAgICAgICAgICAgICAgICAgICAgICAgICAgICAgICAgICAgICAgICAgICAgIAogICAgICAgICAgICAgICAgICAgICAgICAgICAgICAgICAgICAgICAgICAgICAgICAgICAgICAgICAgICAgICAgICAgICAgICAgICAgICAgICAgICAgICAgICAgICAgICAgICAgCiAgICAgICAgICAgICAgICAgICAgICAgICAgICAgICAgICAgICAgICAgICAgICAgICAgICAgICAgICAgICAgICAgICAgICAgICAgICAgICAgICAgICAgICAgICAgICAgICAgICAKICAgICAgICAgICAgICAgICAgICAgICAgICAgICAgICAgICAgICAgICAgICAgICAgICAgICAgICAgICAgICAgICAgICAgICAgICAgICAgICAgICAgICAgICAgICAgICAgICAgIAogICAgICAgICAgICAgICAgICAgICAgICAgICAgICAgICAgICAgICAgICAgICAgICAgICAgICAgICAgICAgICAgICAgICAgICAgICAgICAgICAgICAgICAgICAgICAgICAgICAgCiAgICAgICAgICAgICAgICAgICAgICAgICAgICAgICAgICAgICAgICAgICAgICAgICAgICAgICAgICAgICAgICAgICA8P3hwYWNrZXQgZW5kPSd3Jz8+/9sAQwADAgIDAgIDAwMDBAMDBAUIBQUEBAUKBwcGCAwKDAwLCgsLDQ4SEA0OEQ4LCxAWEBETFBUVFQwPFxgWFBgSFBUU/9sAQwEDBAQFBAUJBQUJFA0LDRQUFBQUFBQUFBQUFBQUFBQUFBQUFBQUFBQUFBQUFBQUFBQUFBQUFBQUFBQUFBQUFBQU/8AAEQgBZQRnAwEiAAIRAQMRAf/EAB8AAAEFAQEBAQEBAAAAAAAAAAABAgMEBQYHCAkKC//EALUQAAIBAwMCBAMFBQQEAAABfQECAwAEEQUSITFBBhNRYQcicRQygZGhCCNCscEVUtHwJDNicoIJChYXGBkaJSYnKCkqNDU2Nzg5OkNERUZHSElKU1RVVldYWVpjZGVmZ2hpanN0dXZ3eHl6g4SFhoeIiYqSk5SVlpeYmZqio6Slpqeoqaqys7S1tre4ubrCw8TFxsfIycrS09TV1tfY2drh4uPk5ebn6Onq8fLz9PX29/j5+v/EAB8BAAMBAQEBAQEBAQEAAAAAAAABAgMEBQYHCAkKC//EALURAAIBAgQEAwQHBQQEAAECdwABAgMRBAUhMQYSQVEHYXETIjKBCBRCkaGxwQkjM1LwFWJy0QoWJDThJfEXGBkaJicoKSo1Njc4OTpDREVGR0hJSlNUVVZXWFlaY2RlZmdoaWpzdHV2d3h5eoKDhIWGh4iJipKTlJWWl5iZmqKjpKWmp6ipqrKztLW2t7i5usLDxMXGx8jJytLT1NXW19jZ2uLj5OXm5+jp6vLz9PX29/j5+v/aAAwDAQACEQMRAD8A/R7wD/yBdI/65j+Rrta4rwD/AMgXSP8ArmP5Gu1oAKKKKACiiigAooooAKKKKACiiigAooooAKKKKACiiigAooooAKKKKACiiigAooooAKKKKACiiigAooooAKKKKACiiigAooooAKKKKACiiigAooooAKKKKACiiigAooooAKKKKACiiigAooooAKKKKACiiigAooooAKKKKACiiigAooooAKKKKACiiigAooooAKKKKACiiigAooooAKKKKACiiigAooooAKKKKACiiigAooooAKKKKACiiigAooooAKKKKACiiigAooooAKKKKACiiigAooooAKKKKACiiigAooooAKKKKACiiigAooooAKKKKACiiigAooooAKKKKACiiigAooooAKKKKACiiigAooooAKKKKAOK8A/8gXSP+uY/ka7WuK8A/wDIF0j/AK5j+RrtaACq2oX6adCJZEkcMwQLGMnJ6VZrM17/AI97b/r5i/8AQhQAf24P+fG+/wC/Bo/twf8APjff9+DWnRQBmf24P+fG+/78Gj+3B/z433/fg1p0UAZn9uD/AJ8b7/vwaP7cH/Pjff8Afg1p0UAZn9uD/nxvv+/Bo/twf8+N9/34NadFAGZ/bg/58b7/AL8Gj+3B/wA+N9/34NadFAGZ/bg/58b7/vwaP7cH/Pjff9+DWnRQBmf24P8Anxvv+/Bo/twf8+N9/wB+DWnRQBmf24P+fG+/78Gj+3B/z433/fg1p0UAZn9uD/nxvv8AvwaP7cH/AD433/fg1p0UAZn9uD/nxvv+/Bo/twf8+N9/34NadFAGZ/bg/wCfG+/78Gj+3B/z433/AH4NadFAGZ/bg/58b7/vwaP7cH/Pjff9+DWnRQBmf24P+fG+/wC/Bo/twf8APjff9+DWnRQBmf24P+fG+/78Gj+3B/z433/fg1p0UAZT+IY42RWs7xS52rmHGTjOOtO/twf8+N9/34NLq3/H1pn/AF8f+ytWlQBmf24P+fG+/wC/Bo/twf8APjff9+DWnRQBmf24P+fG+/78Gj+3B/z433/fg1p0UAZn9uD/AJ8b7/vwaP7cH/Pjff8Afg1p0UAZn9uD/nxvv+/Bo/twf8+N9/34NadFAGZ/bg/58b7/AL8Gj+3B/wA+N9/34NadFAGZ/bg/58b7/vwaP7cH/Pjff9+DWnRQBmf24P8Anxvv+/Bo/twf8+N9/wB+DWnRQBmf24P+fG+/78Gj+3B/z433/fg1p0UAZn9uD/nxvv8AvwaP7cH/AD433/fg1p0UAZn9uD/nxvv+/Bo/twf8+N9/34NadFAGZ/bg/wCfG+/78Gj+3B/z433/AH4NadFAGZ/bg/58b7/vwaP7cH/Pjff9+DWnRQBmf24P+fG+/wC/Bo/twf8APjff9+DWnRQBmf24P+fG+/78Gj+3B/z433/fg1p0UAZn9uD/AJ8b7/vwaP7cH/Pjff8Afg1p0UAZn9uD/nxvv+/Bo/twf8+N9/34NadFAGZ/bg/58b7/AL8Gj+3B/wA+N9/34NadFAGZ/bg/58b7/vwaP7cH/Pjff9+DWnRQBmf24P8Anxvv+/Bo/twf8+N9/wB+DWnRQBmf24P+fG+/78Gj+3B/z433/fg1p0UAZn9uD/nxvv8AvwaP7cH/AD433/fg1p0UAZn9uD/nxvv+/Bo/twf8+N9/34NadFAGZ/bg/wCfG+/78Gj+3B/z433/AH4NadFAGZ/bg/58b7/vwaP7cH/Pjff9+DWnRQBmf24P+fG+/wC/Bo/twf8APjff9+DWnRQBmf24P+fG+/78Gj+3B/z433/fg1p0UAZn9uD/AJ8b7/vwaP7cH/Pjff8Afg1p0UAZn9uD/nxvv+/Bo/twf8+N9/34NadFAGZ/bg/58b7/AL8GmTeIY7eMySWd6iDqzQ4H861qzfEX/IFuf+A/+hCgBP7cH/Pjff8Afg0f24P+fG+/78GtOigDM/twf8+N9/34NH9uD/nxvv8Avwa06KAMz+3B/wA+N9/34NH9uD/nxvv+/BrTooAzP7cH/Pjff9+DR/bg/wCfG+/78GtOigDM/twf8+N9/wB+DR/bg/58b7/vwa06KAMz+3B/z433/fg0f24P+fG+/wC/BrTooAzP7cH/AD433/fg0f24P+fG+/78GtOigDM/twf8+N9/34NH9uD/AJ8b7/vwa06KAMz+3B/z433/AH4NH9uD/nxvv+/BrTooAzP7cH/Pjff9+DTF8QxtI8Ys7wumCy+TyM9O9a1Ztn/yHNR/65xf+zUAJ/bg/wCfG+/78Gj+3B/z433/AH4NadFAGZ/bg/58b7/vwaP7cH/Pjff9+DWnRQBmf24P+fG+/wC/Bo/twf8APjff9+DWnRQBmf24P+fG+/78Gj+3B/z433/fg1p0UAZn9uD/AJ8b7/vwaP7cH/Pjff8Afg1p0UAZn9uD/nxvv+/Bo/twf8+N9/34NadFAGZ/bg/58b7/AL8Gj+3B/wA+N9/34NadFAGZ/bg/58b7/vwaP7cH/Pjff9+DWnRQBmf24P8Anxvv+/Bo/twf8+N9/wB+DWnRQBmf24P+fG+/78Gj+3B/z433/fg1p0UAZn9uD/nxvv8AvwaP7cH/AD433/fg1p0UAZn9uD/nxvv+/Bo/twf8+N9/34NadFAGZ/bg/wCfG+/78Gj+3B/z433/AH4NadFAGZ/bg/58b7/vwaBrsfnRRva3URlcIrSRbRk/jWnWZrX39O/6+0/9BagDTooooA4rwD/yBdI/65j+Rrta4rwD/wAgXSP+uY/ka7WgArM17/j3tv8Ar5i/9CFadZmvf8e9t/18xf8AoQoA06KKKACiuY+JPxI8P/CXwbqHijxPfLp+k2SgvJjczsThURRyzMeAB/LJr5NT/gpBqmrW0+s6B8D/ABTrHhGFm362sjhEUdS2yB4wRzkeZx60AfbNFeYfAP8AaI8I/tF+FpdY8LzypNassd7pt4oS4tHIJAYAkFTg4YEg4PcED0+gAoorwr4q/tQf8Ky+P3gP4Z/8I1/aX/CUiI/2p9v8r7NvmeP/AFXlNvxtz95euKAPdaKKKACikpaACivmHWP25NK8M/tRSfCHWPD32C1F1DZp4iOoAr5ssKSRhofKG0FpAmd5xwenTrf2r/2mP+GYfCOja5/wjf8Awkv9o332L7P9u+yeX+7Z927y3z93GMDr1oA9xopsbb41bGMjNOoAKKKKACiivCte/af/ALD/AGqNA+DP/CNed/atobr+2/t+3ysQzS7fI8o7v9TjO8fez2wQD3WikpaACiikoAWiiigAooooAzdW/wCPrTP+vj/2Vq0qzdW/4+tM/wCvj/2Vq0qACiivnX9qz9reb9mfVfCen23gyTxdceIBOI44tQNs6NG0ahVUQyFyxl9unfNAH0VRXxPqn/BQzxl4Rt11Dxd+zx4q8NaKrqs2oXU0yKmTgf6y0jUk9gWGa+tvh7480j4n+CtH8VaDO1xpOqQCeBnXawHIKsOzKwKkeoNAHRUUUUAFFFeX/tIfGz/hn34VX/jP+xv7f+yzww/YftX2bd5jhM79j4xnP3eaAPUKK5n4Y+NP+FjfDnwx4q+x/wBn/wBtabb6h9k83zfJ82NX2b8LuxuxnAzjoK6agAor5Q+MH7Zvjv4VeK/EljF8BPEWteHtGdifEaTzxWksKqGabd9kZFUc5O8gYPNcn4N/4KE+O/HltbXuhfs7eItX0qabyf7R0+8nuIAQcN86WRXjuM0AfbdFcJpPi7xtefFDU9CvfAH9n+DbeHfaeLP7Zgl+1PhDs+yAeYnLOMk4/d/7QrCt/wBo7w9f/tCTfCGytbu416zsmvL66ZQkEA8uOREGeXYrIpOAAM9ScgAHrFFeFeE/2nv+Eo/ai8T/AAd/4Rr7N/Ytmbv+2vt+/wA7CQtt8nyht/13Xefu+/HutABRRRQAUUUUAFFFFABRXkP7UHx//wCGbfhrF4s/sH/hIvMv4rH7H9s+y43q7bt/lv02dMd+tejeDvEH/CWeEdD1z7P9l/tOxgvfI37/AC/MjV9u7AzjdjOBnHSgDYorD8ceL7DwB4N1vxLqb7NP0mzlvZueSqKW2j3OMAdyRXgP7Kv7bFn+0t4n1nw/c+Fm8JapZ2aX1vE+ofavtURYByMxR7du6M98h88Y5APpqiiigAorzT9oD4+eH/2dPAf/AAk/iGG7uopbhbK1tbNA0k87I7qmSQFGI2JY9AO5wDx/7Sf7U3/DPfwx8M+Lx4Y/t8a1cRQfY/t/2byd8LS53+U+7G3GMDrn2oA97oqvp919usba527POjWTbnOMgHGfxqxQAUUUUAFFFFABRRRQAUUUUAFFFFABRRRQAUUUUAFFFFABRRRQAUUUUAFFFFABRRRQAVm+Iv8AkC3P/Af/AEIVpVm+Iv8AkC3P/Af/AEIUAaVFFFABRXMfEj4keH/hL4N1DxR4nv10/SLJQXkwWZ2JwqIo5ZmPAA/lk18m/wDDyDVNUtbjWfD/AMD/ABTrPhGBm3635jqiqp5LbIHRSO48zj1oA+2aK8q/Z9/aR8IftHeG59T8MzTQXdmypfaXeKFuLVmztJAJDK2DhgcHB6EED1WgAooooAKKKKACisrxV4msPBfhfV/EGqyNDpmlWkt9dSIhdlijQu5CjknCngV558MvjwfjN8HdQ8deDvDdzfyK91Hp2j3l1Hby3jxEhVaQ5SIuR3JC55JoA9YorhND+ImqWPwrvfF/xA8NN4HuNOtrm91DS0vk1FreGHc24SRDDkou7AGRnHWq3wI+NGnfHzwCni7SLG50/TZrue3gjvCvmssb7d7BSQpPpk49aAPRKKKKACiiigArNs/+Q5qP/XOL/wBmrSrNs/8AkOaj/wBc4v8A2agDSooooAKK+Qvij+3hrvgj42a/8N/D3wj1DxvqOlFMNpmoyGaZTEkhbyUtpCAN+Op6Z71J8N/+CgltrvxM03wR49+HmsfDXVdSkSG1bUpWceY52xiRXiiZAzfKGwRk84GSAD65ooriPit4s8ZeEdFtLnwV4E/4T/UJLjy5rH+2IdN8mLax8zzJQQ3IVdo5+bPagDt6Kjt3kkgjeWPyZGUFo927accjPfFSUAFFFFABRRRQAUUUUAFFFFABRXJ/Fjx5/wAKv+GniXxb9h/tP+xrGW9+x+d5XnbFzt37W259cH6V5d4G/a70XXv2a7j4yeIdHn8P6TbySRS2FrN9tlyJxCgVtkeSzsvUADPJxzQB77RXKfCvx9D8Uvh3oHi22tJLC31i1W7jtpXDPGrZwCRxnFdXQAUUUUAFFFFABRRRQAVma19/Tv8Ar7T+TVp1ma19/Tv+vtP5NQBp0UUUAcV4B/5Aukf9cx/I12tcV4B/5Aukf9cx/I12tABWZr3/AB723/XzF/6EK06zNe/497b/AK+Yv/QhQBp0UUUAfBn/AAVf1K6Xwr8ONL8149LutRuprgj7u+NI1Qn3Cyy/rX3D4c0PTvDPh/TtI0i3itdKsrdLe1hhACJGqgKBj2FeZ/tQfs86f+0l8M5fDlzdf2dqVvMLzTdQ2bhDOARhh1KMrFSB6g9QK+c/D9n+2j8O/DMPgvT9I8N69Z2kQtLXxFPcwvNFGo2qQXlQttGMF4mPHOaAMT9mu3h8Hf8ABRj4o6D4fRYNDmt7tpbWHiKM74ZOFHA2yMyj0DEV5h+z3+znF+0l8X/jFo+reItV0bw9puqy3UlvpciqZrpridYXcMCCECy9s/NwRk19ffsf/so3vwJfXfFXi7VY9e+IHiEk3t1EzOkKM/mOgdgC7O+GdiACVUAcZOL+xf8AA/xt8J/iR8ZNU8V6L/ZVh4g1GKfTJvtUE3noJrpicRuxXiVDhgPvexoA8e+N3h3VPjv+1poP7P8AHr9/ongTw3pcCSxW8hLTBLVZTIwPDyFWjQFsheTjkg8l4q+DFx8Cf23Pg14Zj8Sal4j0Lz7S40s6tIJJrSI3DhocgAYDqzDAA+fpnJPvf7S37OnxJtfjtpHxp+Dv2O98SRQrb32lXkqRibahj3ZdlVlaMhGUspG0FTn7vn8fwB/aD8cftMfDn4nePdI02VbS8gN3b6XdwLDpNtFJkJtaUs5JZ3+QydevOAAcx+198UdM+Iv7VU3w78eeNb/wX8L9BhjFydPilla5naBZSSkaPliZAgLKVUKSBknOl+xb8UrDwb+03efDPwb41v8Axt8M9XtJJdMk1GOWN7eeOLzThJEUqQFkU7VAb5TjivVP2gP2dvidoP7QEHxp+DX9n3+uXFutvqWj6hIsYmIjEWRvZVZGRUBG5SGQEE549E/Z5b9obVPEmqap8W/+Ef0fQ5E/0bRNPjSSaOTgDbIjsAnBJ3O7EnsKAPiv9nv9nOH9pL4v/GLR9W8Raro3h7TdVlupLfS5FUzXTXE6wu4ZSCECy9s/NwRk1+ougaLb+HNC07SbTebWwto7WLzGLNsRQq5Pc4A5r5e/Yv8Agf42+E3xI+MmqeK9F/sqw8QajFPpk32qCbz0E10xOI3YrxKhwwB+b2NfWFAH5h/FD4LJ8ev24vjN4YR/J1QaIt7pk27aEu44LIx5Po2ShPYOT1ArA/aU+ONx8ZP2TfBltrheLxr4b8QnSdct5uJfNS3lVZWHUFwpz/tq47V9X+A/gj410X9vTxz8RrzRfJ8G6lpn2e01L7VA3mSeVart8sOZBzE/JUD5fcZ8g/be/Yf8YeOvid/wlnwz0VdUh1pPN1exW8gthFdJ8omxK6A71btkhg5P3qAOo/4Krf8AJGfBf/YbH/pPJWh/wU6Yf8Mw+F+eviCzx/4CXNelfttfs961+0J8HrTSfDskC69pd9Hf28Ny+xLgCN0ePd0UkPkE8ZXBxnI+aPjJ8E/2rPj18MdI0nxToWjRw6HLF9n0mxu7dLm9kCMn2iVzMY/lUsOGXl+E7gAg/a/07U9a+Jn7NWmaLqUujatqGmWdla6jCSHtpJZIYxIpBBBUtngg8VgfFP4L69+zX+0x4I8LfDv4ga/aT+OIY7O71O9mWSZWnmaCVztChsAh1yNysMhsgEe9/Gj9n3x94s+MH7O2t6VoP2rS/Cf9n/2zP9st0+y+VPC8nytIGfCox+QNnHGa2/2jvgf428eftVfB7xhoWi/bvDmgTW7ale/a4I/IC3XmN8juHbC8/Kp/OgDxCx+HV1+yX+3N8PfD3hrxRrOqaV4ogjfUBqkwd5zK80TiTaAHwUV1JGQe5xkv/ac8Gan8Q/8Agod4X8OaRrdz4cu9R0mKFtTs2KzQw+TcGbYQeGMQkUf71e2/Hb4H+NvGX7ZHwp8c6Pov2zwtocECahf/AGqBPJKzzOw8tnDt8rqflU9a4z9o/wDZ3+MHi/8Aaz0v4g/D61trGHTNNha21i8uoRF9ojWQmFo93mEOG2Z2Y+fkgZIAPPdd8Baj+wr+1B8NofCnijVtU8LeLrmO2vrHUpQzSBpkil3hQqsQJVdW2gggjpnPHfFT4keFPjx+0t43sPjB8QtV8H+BvD9zPp+kWGmQSy+Y8Upi3BUikVSdrOzMuTkKDgDHuPhf9n/42/HT9oDwv47+NdlpXh7SPCsiTWem6bNHIs0iP5iBFSSTALhWZnbJChQPSfxl+z/8aPgf8e/FHxD+CdppPiLTvFLPNfaPqcqR+XI7+Y+4PJGCN5ZlZXBG4qRgZIBn/wDBO34uXN5468d/DSHxPc+MfCulxm/0HVLtJEk+zrKIyNsgDKGEkZ2HhSGx1rxj9nv9nOH9pL4v/GLR9W8Raro3h7TdVlupLfS5FUzXTXE6wu4ZSCECy9s/NwRk193fs42/xrbTtVvPjDd6Ms1xJusdN02FfNtlJJIeRDsIHAUDccDJYmvNf2L/AIH+NvhN8SPjJqnivRf7KsPEGoxT6ZN9qgm89BNdMTiN2K8SocMAfm9jQB9Q6Botv4c0LTtJtN5tbC2jtYvMYs2xFCrk9zgDmr9FFABRRRQBm6t/x9aZ/wBfH/srVpVm6t/x9aZ/18f+ytWlQAV+fX/BTya/t/iN8FpdKgjudUSe5a0hlOEkmE1qUVuRwWwOo+or9Ba+OP29Pgf8SPip4u+GmtfD7w7Hr0vh97ieYS3kECI/mQPGGEsqFgfLb7vp1HFAHln7R/jT9q/xH8Idf0/xr8OdF0LwnJEr6neaIY7iZIEYOxwLuUhRtBJCjAB5A5r2bwl8YvDXwt/YBPiv4cSXF1aaHpv2S2Goxr50V9JOI2aVASMiabfgEggjBwa4rxxqn7ZvxP8ACOreFb74deFdBsNXtnsrq8s7uASCGRSrgFryTGVJGQpPPHNet/Cr9kS18K/sp6h8Jdev1uLrWY5ptQvLUFkiuXKlWjDYyIzHFjONxTPGcAA+bPhn+xjqXxw+CI+LGufEPX3+IeqQT6jp832kGGIqz+WrsRv+bZ1RlCbgADt5XR/21PGkX7C+o6tLfyyeM7bW08MQ603zS+W8JmE7HvII1kTd1yFY5Oa3dB+FX7Wvwu8A3fwo8O23h/U/C0gmtrbxF9qjWa1glLFgheRXUfMx5jcrk7TwK9N039gvT7b9k+6+FsuqxHxFdXY1l9XVCYV1AAKuAefLCDy/XBZsAnFAHiXiT9i3UfBf7Pp+MFl8Q/EI+JFrpkevXFx9qxEVKiV41cDzNyqT85chiv3Rnjo/jV8WdQ+Nf/BNm38T6wFOsSXdta3siKFWSWK78syADgbgoYgcAsQOKivvhX+1v4m+GsHwe1C08PW3hRYo7CTxJ9rjMslqhAWNiHLldqgcQhiBgnk59V+Nf7Luq6b+xfb/AAn8A2ba/qlnJbON8sVu1w/n+bPKTI6quWLEAtwMDnFAHyX8IfEsX7YHxK+Fnwx8Vai2ieB/DGjQw2+ko5DapcW8CiTLDoz7Xwf4Y0YLhmJP6t6bptpo2n2thYW0VnZWsSwwW8CBI4o1GFVVHAAAAAr4j+Kn7Ivi5/gn8GtY8B6NDpvxW8E2tmk1nBPBEZGwJJcyFxGzJPuf72G8yTk5Gfs/wnqGqar4Z0q81vS20TWJraN7zTmlSX7PMVG9A6MysA2cEHkYoA4b9qD/AJNx+Jv/AGLt9/6IevJ/+Cav/Jrem/8AYTvP/Rle2fHjwzqXjT4K+OtB0a2+2atqWi3dpaW/mKnmSvEyqu5iFGSRySBXnn7D/wAL/E/wf+Atj4c8XaZ/ZOsx31zM9t58U2Ed8qd0bMvI96APFPhR/wApQvib/wBghv8A0VZV4zof7K/hPXv29PFHw3uNQ1lNDsIhqkVxHPELkymGCchmMRXbumYYCg4A5zyfqD4e/A/xtof7eXjr4i3ui+R4N1LTTBaal9qgbzH8u1GPLDmQcxvyVA49xXI/Fb4H/Gvwj+19qfxX+GOiaTr9rrFrFbv/AGhcxoluBBFDIHRpEYn90GBXd15HagDP+F8y23/BTv4ozScJHorsx9hDZGvmzSfHXgX9o/xZ4r8V/G34qaz4SvDNjQdN0+0nuI7ZDkjASJ1VE+UbRtZjuJbJyftD4f8AwN8a6L+3h47+Id/onleDNU01re11E3UDea5jtV2+UHMg5jfqoHHuK848P/Af9oX9lXxb4otPg7p+i+LPBut3HnwRalNGr2nULuV5YjvUHbkFlYKCQDwADuP+Cbvxk1r4kfDvxJ4f13VZddm8M3scNrqU7M0ktrKreWCW+Y4Mb43cgMB2r6Z+Jq3Enw98Qra+JYfB0xspQNfuIxImnjaczEF0HyjJBLAA4PbFc18ALH4n2fgVP+Fsalpd/wCJJJCyrpkIQRR4GFkZcIz5z91QB6nrUf7THwt1D40/A3xV4N0q8jsdS1GGM28sxIjLxypKEcgZCt5e0ntuzg9KAPzm+LFh8G/Dnwlu73wL4j8U+N/ilpdxFNdePLOK9it97TqGMru+yMbWwpUsS2z5jk16V+2p4p1Hxl+xN8FNd1WdrnVL2e0mubhvvSyfY5Nzn3JGT9a2NW+Dv7QviT9lyL4PR/DnQ9CtNNRTLfDWbdpNVWObzUSONTtjcsFZnkYA7T0zitf46fs4/E3x9+x78J/BemeFWk8VaDNGuoac2oWqmFI4ZYg3mGXy2zlDhWJ+bnocAHlf7Uv7O+sfAf4eeFPi7B8QvEWqeP7vUII9Rvbi4ACyyRPLuhIAZQrR7dpLAg9sYr2L9u/4zeKbf4O/C/Q9Cv5NK1Dx4Ea8urZzExQRwlogw5VWe4XOOoXHQkH0X9uL4N+MPjB8ANF8N+EdI/tbWrfVLW4ltftMMO2NIJkZt0jqpwzqMA55qp+0r+yzrPxt+AvgnTdMmi03xv4VtoHtUnlARmEKJND5i5CklFIYZGUHY5AB8uftefsgj9m/4J6Zf6L401nVtPvNSht9W0y+dRby3BjkZLiNFA242uuDubD/AHuuf0b+Dv8AySPwR/2A7H/0nSvhP40/B/8Aax/aF+Htnpni7Q9Gii0eaOSHTbG7to59RmwU8+RvOMY2qz/xJ97hD2+9/hrpN34f+HXhbS7+LyL6y0q1triLcG2SJCqsuQSDggjIJFAHyl/wU6+KR0H4Y6J4BsrmOHUPFN4rXG+QIq2sLKx3En5Q0pj5PGEevF/it4q8Efs8/Hz4K+M/AfirRPEGladpcGia0uiahDdMYoVEUkkixsTl4pcjPVos9RXsPjT9lvxT+0H+2JfeIviP4aaP4WabZtaaeralGDeIi4RQIZfNTdJJJNyF4UKfQ6nxy/4J2/Di++FuvL8OPCX9m+NI4hLpznVblxI6sCYiJ5ig3qGUE4wSDkYoAwP+Cq08d18GfBc0Miywya2HSRDlWU20hBB7gitD/gp0w/4Zh8L+/iCzx/4CXNUvG/7NfxP+NH7GPhPwfr2mx6P8QPCl2vkW13eQyJe28SPHGBJG7qpMboPmP3ojnAbNef8Axk+Cf7Vnx6+GOkaT4p0LRo4dDli+z6TY3dulzeyBGT7RK5mMfyqWHDLy/CdwAS/8FEfh3p0nwJ+FfjszXX9rxQWOiLDvX7P5D2ssxYrt3b9yAZ3YwTx3rI/bB+Dei/A/9j/wFomhXV/d2t54hTU5H1GRHcSy2T7gCiKNo2jAxn3NfR37Wn7Pfiv4y/sx+F/C+gW8LeJNFlsrtrGadE80x2zwvGrk7NwMmck4O3rXlfxy+DXx7+OH7MvhbQtc8H6f/wAJhpWuqRYaffW0aixS0MaSOzzlC5dmyFb0OAKAPOf2pf2f9a+BXw78I/F+H4g+IdS8f3F9bQ311NOqpG7wvIPI2gFEQx7QhJBB6ADFe2ftv/HzxX4f+Dnw30rwzePpGuePVTzr62cxvHGI4S6Iw5Qs86fMOQAR3rtf24Pg34w+MH7P+ieGvCOj/wBra1bana3Etr9phh2xpBKjHdI6qcM6jAOeaP2iP2VdQ+OnwF8GaNa3UWjeNPDNrbvZvO/7vzBCiSws6ZwCUUhlzgoOxoA+evjp+yjqX7Inw9s/il4G+IOut4n0y5txqj3MiiK58xgm5VAyV3lQUkLgqTk8c5v7YHirU/jH4h/Zq1vS520PWvElhE0U1uSDaXE0sC7kOc/K7HBzngV3Hi74Q/tT/tHaTpPgT4hQ6F4Z8KWs8ct7rFtNE8t7s4Dskcrlm5JChY1LYJxgY7X4+fsy+J9R+Kv7Pr+B9BN74T8ETWkN3O13BG1vBDcQHcVd1ZzsjYnaCSR6mgD2n9nX9mnQf2btL1qy0TVdU1c6tPHcTzapKruCq4wNqqMZLnpn5uScV69RRQAUUUUAFFFFABRRRQAUUUUAFFFFABRRRQAUUUUAFFFFABRRRQAUUUUAFZviL/kC3P8AwH/0IVpVm+Iv+QLc/wDAf/QhQBpUUUUAfBn/AAVf1K6Xwt8ONL814tLutRuprnH3d6JGqE+4WWX9a+4fDmhad4Z8P6dpGkW8VrpVlbpb20MIARI1UBQMewrzP9qD9nnT/wBpL4Zy+HLi6/s7U7eYXmm6hs3CGcAjDDqUZWKkD1B6gV8deL/gj+1vq2heGPCktrZ30fhiXOl+KNN1pba4iUAKMt50ZcBVABeIuBnnk5AN39mnS4vCP/BRj4o6N4djWDQ/st401vAMRRgyQOQAOAFlbaB2zgVuf8E9/wDkun7Q/wD2F0/9KrymfsX/AAs+LXwW+PHiaw8Z+DobyLX4ZL2/8ZtO0xYgltqSglWLyOCUYK5wWOQoFVoPgP8AtB/AT48eO9e+FWmaHr2g+LbmSdp9TnjVLdXlaRd6GRH3xmRwCu4EHJHYAFv9jEg/tnftFY5/4mN5/wCl8lc38RPDfwXvPiJ40X4kePtc+MPjq+nkWw0nwzZXW7R8Fh5UKRStGWQlVwzYG3lckmvRP2Mf2d/iV8I/jJ8SNb8eW0cqa1FldaguYXW9uGmMkjqitvUEsT8yL9B0rl/gb8Evjz+zVN448L+G/B2heIoNenzaeMrvVY4Vt8BlWSWLmVwA27YAMNuwWzQBzn7N/jrXPF//AAT/APjLaa1qNxqa6Tb31taSXUhkeOE2iMIwx52hixA7bsdABXB/Cv8AZYm+Kn7HuoePtX8Z61HLoNnqFxoGjwSL9it0t2kkcMpBO6SQScqVIyD83SvaP2f/ANm34leAP2Y/jT4C1nw2INZ1hJv7J2X1s6XzPbmMBWEnycov+s2/fHocenfAn4N+MPBv7EuqeAdY0j7H4tm0vV7ePT/tML5knM3lL5iuY/m3rzuwM84oA8Z8E2c/7QH/AATb1t/F2q6hd3XhlNQvbW6WYGWVrSJ5IUkZ1Ysg3bT0O1QARXIfs1/BvRdH/Yr+J/xKhur9td1bw7qumT28kiG2WJCSCqhNwb5BkliOvFfQn7NP7Pvi7w1+x74q+G/iixTQNf1iPU7aNJLiKdYxcQ+WjlomcYyc4znjpXnPwT+Cvx58J/Ab4i/CzX/CumQ6FNoeoJo8sN7A1xdX0xUKm4TbRGQXOXVMEjJ9ADL+HPw7074if8EwLqLUp7qBdHh1XW7f7K6qWnt3uHjV9ynKE9QMHHQiuG/Z9/ZJ0X4kfsd+MPFtnJf3Hi7UrS5jt7ZnQ26vaziWPy1Cbg7+XsJLEYkPAr6n+AHwJ8UaJ+xdf/DPxHaJoXiPUNP1WxMck8cywm4MwjYtEzKRh1PBNYP7DHw++MvwcsbzwX460DTNL8F2cc89jfQ3UU1xNcvKh2/JK3ybfMIyinOPpQB4dqP7Rxuf+Cadppwuc69Jcr4OYA/MI0/edOuPsoVPq1fbX7M/wxHwf+Bfg/wu8XlXttZLNejHP2mUmSYH1w7so9lFfnj4N+CEHiH9vO88AaTdpqPgrR9fk1+aG2cPbRRKElMZxxkMY7c+h4r9XKACiiigArNs/wDkOaj/ANc4v/Zq0qzbP/kOaj/1zi/9moA0qKKKAPzG8X/ErXPhT/wUU8ea74e8Fah4+1FYVhGj6YZBMVa0t8yfJFIcLjn5e/UV0WveGfi5+2d8ePAmr678Mr74beGfDkySTTaokiSeWJVkfDSJG0jNsCqqphSSTxk1674M+BPjnSf2/PFXxIutD8rwXfWjRW+p/a4DvY28KY8oP5g+ZGHKjpX11QB+cH7Ungi7+Jf/AAUF8N+FLTVrrRBrGkw2txeWTbZlt/LnadVPq0auvPHzcgjIpf25Pgjo37P/AOyz4R8KaHeX1/ZL4qe68/UXV5Sz283B2gLgKqjgDpnvXt3i74H+NtU/b98I/Ei20XzfBdhpxgudT+1QDY/2a5THlF/MPzSIMhSOfY1c/wCCgnwX8ZfHD4X+HtI8FaP/AG1qFrrC3U0P2qGDbEIJV3ZldQeWUYBzzQB5t+2R4w8S+MviV8JPgjomt3Hh3TfEdtbXGpXVqxV5UkkMSqcEFlURSNszhiVz0Fdj8Mf2H9f+BPxf0TXfAPxEvofCCKP7X0rWCZnvOSHQLGEjwVOVYjcjDPzVd/at/Zh8W/EW68CePPh/d29n4/8ACSRKlvdOqrOqMJECscruR93DfKwc5PHOd8OfDv7U/wAQPi54f13x/fWPw+8MaTj7Vpej3EUiaiobJUxrJKCXwFLMw2rnaAeoB81fFP4keFPjx+0t43sPjB8QtV8H+BvD9zPp+kWGmQTS+Y8Upi3BUikVSdrOzMuTkKDgDHtH/BO34uXN5468d/DSHxPc+MfCulxm/wBB1S7SRJPs6yiMjbIAyhhJGdh4Uhsda0PGX7P/AMaPgf8AHvxR8Q/gnaaT4j07xSzzX2j6nKkflyO/mPuDyRgjeWZWVwRuKkYGT7v+zhb/ABrbTtVvPjDd6Ms1xJusdN02FfNtlJJIeRDsIHAUDccDJYmgD1HxV/yK+sf9ec3/AKAa/L79jH9lEftLfDDXpNd8YazpPh/TdReGw0zTXXyvtjRRtJPIrAhvl8oYGCdv3hiv1B8Vf8ivrH/XnN/6Aa/L/wDYtj+Pei/C/wARaz8H4NG1ywutTaxu9J1RlWS3mSGNluYi8iLkrJtILH7g+U9gDp/g7+0h42+D3wH+Ofhm91WTVtY8DXENjpF9OTKYWluWtXwWzlUZRIgORyR0wK8TW68A2fwvTx3bfGjxCPjpuF41n5N1sLeZzF5/lcvt+beZNpIxjvX2Z8G/2F9RtvgV8RtE8eanGfGPjxknu7iAiZbOSJzLCSRgO3msXfbgHgA8ZrmPAvhP9sb4YeFbD4eaFp3hltG06QRWniOaeCRkhD7tmGfcUwSOYSwHAIwKALP7R3xIu/i5/wAE4dI8Waht/tHUGshdMg2q80dyYpGAHQFkY47Zrqv2Lf2WrLQ9L8E/F7VfEWsat4o1DRVYW1xMptYoZY1WFVGN3yQ4XBYjngDArtf2sfhX49+Kn7LreFrKC18SeNZJLOS5FkyWkMro4aRk85wFUc4y2T+lerfA3w3qPg/4L+BNC1e3+yarpmh2Vnd2+9X8uaOBFddykqcMCMgkHsaAOd/ay/5Np+JX/YCuv/QDXwNefDvTfE//AATP0vxNdTXUd/4Z1W4ms44XURSGe+jhfzAVJICsSMFeeuRxX6H/ALQvhXVPHPwP8ceH9Etftur6lpU9ta2/mJH5kjKQq7nIUZPckCvnPwf+zD44u/2A9V+Fmp2EOj+MLiaS4itZ7mKRCVvEuEUyRsyjcEx143c4oA5b4Z6Xbfsp/sI638SvCt3fSeJPE2m2U7/bGjeK2uJJPJV4lCDAUTM2HLZKivl1brwDZ/C9PHdt8aPEI+Om4XjWnk3Wwt5nMXn+Vy+35t5k2kjGO9fbXwg+BvxO8dfsy+JfhH8V9I0/wzYQ2VvY6Dc2csc82Y3aQSTeXK6na6Q8DbkZHvXF+BfCf7Y3ww8K2Hw80LTvDLaNp0gitPEc08EjJCH3bMM+4pgkcwlgOARgUAcB+2L8UNQ+KX7JvwO8Z3TBNWu7uR55I1ABuIkaN3A6DLxlsds1k/tRfBfxB+yXq3w/8deHvH2v6n441a4kTUNQvp1ffcKEbK8cxkswKSFwRjPpX0J+298B/id8Z/hT4A0vSdPtfFHibTrozarJZSxWUO4xbSyLPIPl3dBknvgVq/t9fA/xt8a9M8BReDNF/tmTS9Rlnu1+1wQeUhVAD+9dc9D0yeKAPnf49fCHV/2R/iv8KPGGkeOdd1zxFr1+V1i71CfPnyI8HmAYAJicSsCjlsAdeeP04r5Q/bn+B/jb4x6x8LZ/CGi/2vFouozT37fa4IPJRmtyD+9dd3+rfhcnj6V9X0AFFFFABWZrX39O/wCvtP5NWnWZrX39O/6+0/k1AGnRRRQBxXgH/kC6R/1zH8jXa1xXgH/kC6R/1zH8jXa0AFZmvf8AHvbf9fMX/oQrTrM17/j3tv8Ar5i/9CFAGnRRRQAUUUUAFFFFABRRRQAUUUUAFFFFABRRRQAUUUUAFFFFABRRRQAUUUUAFFFFABRRRQAUUUUAZurf8fWmf9fH/srVpVm6t/x9aZ/18f8AsrVpUAFFFFABRRRQAUUUUAFFFFABRRRQAUUUUAFFFFABRRRQAUUUUAFFFFABRRRQAUUUUAFFFFABRRRQAUUUUAFFFFABRRRQAUUUUAFFFFABRRRQAUUUUAFFFFABRRRQAUUUUAFFFFABRRRQAUUUUAFFFFABWb4i/wCQLc/8B/8AQhWlWb4i/wCQLc/8B/8AQhQBpUUUUAFFFFABRRRQAUUUUAFFFFABRRRQAVyXxX+GekfGP4fax4O157mPStUREmezdUlXZIsilSysAQyL1BrraKAPIfgD+yz4F/Zwg1D/AIRW3vJ7+/Cpcalqcyy3DopyEBVVVVzzhVGTjOcDHr1FFABRRRQAVm2f/Ic1H/rnF/7NWlWbZ/8AIc1H/rnF/wCzUAaVFFFABRRRQAUUUUAFFFFABRRRQBX1CyTUrC5tJSyx3ETRMV6gMCDj35rzf9n39nnw5+zf4Tv/AA/4ZvdUvrK8vWv5JNWljkkEhjRCAY40G3EY7ZyTzXqFFABRRRQAUUUUAFFFFABRRRQAUUUUAFFFFABRRRQAVma19/Tv+vtP5NWnWZrX39O/6+0/k1AGnRRRQBxXgH/kC6R/1zH8jXa1xXgH/kC6R/1zH8jXa0AFZXiIutnAUUM32iPAJwCd3FatZmvf8e9t/wBfMX/oQoAX7Tqn/PlB/wB/z/8AE0fadU/58oP+/wCf/ia0qKAM37Tqn/PlB/3/AD/8TR9p1T/nyg/7/n/4mtKigDN+06p/z5Qf9/z/APE0fadU/wCfKD/v+f8A4mtKigDN+06p/wA+UH/f8/8AxNH2nVP+fKD/AL/n/wCJrSooAzftOqf8+UH/AH/P/wATR9p1T/nyg/7/AJ/+JrSooAzftOqf8+UH/f8AP/xNH2nVP+fKD/v+f/ia0qKAM37Tqn/PlB/3/P8A8TR9p1T/AJ8oP+/5/wDia0qKAM37Tqn/AD5Qf9/z/wDE0fadU/58oP8Av+f/AImtKigDN+06p/z5Qf8Af8//ABNH2nVP+fKD/v8An/4mtKigDN+06p/z5Qf9/wA//E0fadU/58oP+/5/+JrSooAzftOqf8+UH/f8/wDxNH2nVP8Anyg/7/n/AOJrSooAzftOqf8APlB/3/P/AMTR9p1T/nyg/wC/5/8Aia0qKAM37Tqn/PlB/wB/z/8AE0fadU/58oP+/wCf/ia0qKAM37Tqn/PlB/3/AD/8TR9o1T/nyg/7/n/4mtKigDn9Rm1Briw8y1hRhNlAJScnaeOnFXvtOqf8+UH/AH/P/wATRq3/AB9aZ/18f+ytWlQBm/adU/58oP8Av+f/AImj7Tqn/PlB/wB/z/8AE1pUUAZv2nVP+fKD/v8An/4mj7Tqn/PlB/3/AD/8TWlRQBm/adU/58oP+/5/+Jo+06p/z5Qf9/z/APE1pUUAZv2nVP8Anyg/7/n/AOJo+06p/wA+UH/f8/8AxNaVFAGb9p1T/nyg/wC/5/8AiaPtOqf8+UH/AH/P/wATWlRQBm/adU/58oP+/wCf/iaPtOqf8+UH/f8AP/xNaVFAGb9p1T/nyg/7/n/4mj7Tqn/PlB/3/P8A8TWlRQBm/adU/wCfKD/v+f8A4mj7Tqn/AD5Qf9/z/wDE1pUUAZv2nVP+fKD/AL/n/wCJo+06p/z5Qf8Af8//ABNaVFAGb9p1T/nyg/7/AJ/+Jo+06p/z5Qf9/wA//E1pUUAZv2nVP+fKD/v+f/iaPtOqf8+UH/f8/wDxNaVFAGb9p1T/AJ8oP+/5/wDiaPtOqf8APlB/3/P/AMTWlRQBm/adU/58oP8Av+f/AImj7Tqn/PlB/wB/z/8AE1pUUAZv2nVP+fKD/v8An/4mj7Tqn/PlB/3/AD/8TWlRQBm/adU/58oP+/5/+Jo+06p/z5Qf9/z/APE1pUUAZv2nVP8Anyg/7/n/AOJo+06p/wA+UH/f8/8AxNaVFAGb9p1T/nyg/wC/5/8AiaPtOqf8+UH/AH/P/wATWlRQBm/adU/58oP+/wCf/iaPtOqf8+UH/f8AP/xNaVFAGb9p1T/nyg/7/n/4mj7Tqn/PlB/3/P8A8TWlRQBm/adU/wCfKD/v+f8A4mj7Tqn/AD5Qf9/z/wDE1pUUAZv2nVP+fKD/AL/n/wCJo+06p/z5Qf8Af8//ABNaVFAGb9p1T/nyg/7/AJ/+Jo+06p/z5Qf9/wA//E1pUUAZv2nVP+fKD/v+f/iaPtOqf8+UH/f8/wDxNaVFAGb9p1T/AJ8oP+/5/wDiaPtOqf8APlB/3/P/AMTWlRQBm/adU/58oP8Av+f/AImj7Tqn/PlB/wB/z/8AE1pUUAZv2nVP+fKD/v8An/4mj7Tqn/PlB/3/AD/8TWlRQBm/adU/58oP+/5/+Jo+06p/z5Qf9/z/APE1pUUAZv2nVP8Anyg/7/n/AOJo+06p/wA+UH/f8/8AxNaVFAGb9p1T/nyg/wC/5/8Aiaoa5PqDaXOJbWGOPjLLMSR8w7YroazfEX/IFuf+A/8AoQoAPtOqf8+UH/f8/wDxNH2nVP8Anyg/7/n/AOJrSooAzftOqf8APlB/3/P/AMTR9p1T/nyg/wC/5/8Aia0qKAM37Tqn/PlB/wB/z/8AE0fadU/58oP+/wCf/ia0qKAM37Tqn/PlB/3/AD/8TR9p1T/nyg/7/n/4mtKigDN+06p/z5Qf9/z/APE0fadU/wCfKD/v+f8A4mtKigDN+06p/wA+UH/f8/8AxNH2nVP+fKD/AL/n/wCJrSooAzftOqf8+UH/AH/P/wATR9p1T/nyg/7/AJ/+JrSooAzftOqf8+UH/f8AP/xNH2nVP+fKD/v+f/ia0qKAM37Tqn/PlB/3/P8A8TR9p1T/AJ8oP+/5/wDia0qKAM37Tqn/AD5Qf9/z/wDE1Qtp9QGrXpW1hMhSPcvnHA+9jnFdDWbZ/wDIc1H/AK5xf+zUAH2nVP8Anyg/7/n/AOJo+06p/wA+UH/f8/8AxNaVFAGb9p1T/nyg/wC/5/8AiaPtOqf8+UH/AH/P/wATWlRQBm/adU/58oP+/wCf/iaPtOqf8+UH/f8AP/xNaVFAGb9p1T/nyg/7/n/4mj7Tqn/PlB/3/P8A8TWlRQBm/adU/wCfKD/v+f8A4mj7Tqn/AD5Qf9/z/wDE1pUUAZv2nVP+fKD/AL/n/wCJo+06p/z5Qf8Af8//ABNaVFAGb9p1T/nyg/7/AJ/+Jo+06p/z5Qf9/wA//E1pUUAZv2nVP+fKD/v+f/iaPtOqf8+UH/f8/wDxNaVFAGb9p1T/AJ8oP+/5/wDiaPtOqf8APlB/3/P/AMTWlRQBm/adU/58oP8Av+f/AImj7Tqn/PlB/wB/z/8AE1pUUAZv2nVP+fKD/v8An/4mj7Tqn/PlB/3/AD/8TWlRQBm/adU/58oP+/5/+Jo+06p/z5Qf9/z/APE1pUUAZv2nVP8Anyg/7/n/AOJo+06p/wA+UH/f8/8AxNaVFAGb9o1T/nyg/wC/5/8Aiap3817JPp4uLeKJPtSYKy7jnB46fWt6szWvv6d/19p/6C1AGnRRRQBxXgH/AJAukf8AXMfyNdrXFeAf+QLpH/XMfyNdrQAVma9/x723/XzF/wChCtOszXv+Pe2/6+Yv/QhQBp0UUUAFFeV/tAeLvHfh7Q9F034daIdR8Q65qMdh/aU9u81ppMJ+/czBey8YB46nnGD5pfeNPih8BPij8PNG8YeNLP4kaD4yvzpR/wCJPFp15Yz4G2SMREh48sN24ZA796APp+is/wAQ+INO8KaFqGs6tdx2OmWED3NzcynCxxqCWY/gK+av2Vf2hPGHxs+MXxKg1yGTS/Dtpa2F5omjzQRpJBbzqzRyOwG4tJH5chDMQN2BgUAfUtFfMHjPXvij8UP2lvEvgfwH8RR4B0PwzotnPfSjQ7bUjJdzszqpEoBXMZHRsfJ05Jr1b4V+D/H3gWHWpvHXxJb4ipIkbWipoFvpptdgcyY8lj5hfKdemzjqaAPSaK+PPAHjX43fHf4Y6h8VtC+IWjeENNZ7qXTfCraNDcwmKB3Xbc3LnzEZthyV4AIbAzgemeCPGHjL9pr9nTwp4o8K+Jl+GXiDUmMtzdppUWop+6eWGWNYpiAFZ0DBskgADnJNAHu9FfEfxnn+Pnww1jwn4b0j48nxV4y8T3n2fT9GTwdp9uBEvMtxLJ8+yNByTtOcHHQkfZ2g2t7Y6Hp1vqd6NS1GG3jjub0RCMXEoUB5Ng4Xc2TgcDOKAL1FFFABRRRQAUUUUAFFFFABRRRQAUUUUAFFFFABRRRQBm6t/wAfWmf9fH/srVpVm6t/x9aZ/wBfH/srVpUAFFFeC/GD4neJfC37S3wU8KaXqX2XQPER1L+1LTyIn+0eVCrR/OyllwST8pGe+aAPeqKKwvFXjzw14Ggim8SeIdK8PwzHbHJqt7FbK5HUAuwz+FAG7RVPSdYsNe0+G/0y9t9RsZxuiurSVZYpB6qykgj6Vh+Jvil4M8FXiWniLxdoOg3TgMsGp6lDbOwPQhXYE0AdRRWXP4q0W18Pvr02r2EOhpF57anJcotssf8AfMpO0L75xWM/xc8Cxz3cDeNPDyzWlv8Aa7iNtVgDQwbQ3muN/wAqYIO48YINAHW0Vytx8V/BFrqlppk/jHw/DqV2qPbWcmqQLNMrgFGRC+WDAgggc5GK539ofUfEel/DO5uPCvjDQ/Auri6t1XWPEU0cVoiGQB0LSRuu5hlR8vU9qAPTKKydS8XaFoupQadqGtafYahPDJcxWt1dRxyyRRjMkioxBKqOSwGB3qr4X+IXhbxw1wPDniXR/EBtziYaXfxXPlf72xjj8aAOgorA8UeP/DHgdYD4j8R6T4fE5xCdUvorbzD6LvYZ/CrGleLtC13UbnT9N1rTtQv7WKKae1tbuOWWKORd0buqklVccqTwRyM0Aa9FcR8cfEmo+D/gx4713SLj7JqumaHe3lpcbFfy5Y4HZG2sCpwwBwQR6ivAfhP4Q+P3xO+GnhrxcP2hBpx1mxivfsTeCrCURb1zs35Xdj1wPpQB9a0V84/Av48eIrXxf8RfAHxZ1HSI9Z8FrDdv4ih22lrc2cqhllkDELGwDJnoPnx/CSfoWx1Oz1TTbfULK7gu7C4iWeG6gkDxSxsNyurg4KkEEEHBBoAs0V87ftEftTaR4B8M+B77wn4r8N3o1/xFaWU10t9DOqaeZHFzcJh8bUaPYZDlVLHODip/GXxsvLf9o74TaToviWyl8B6/pWp317JAYJbe5EMLPHIJ8EhVIzlWAOOc0AfQVFc/4X+IXhbxwbgeHPEuj+IDbnEw0u/iufL/AN7Yxx+NO8VePvDPgWKGXxJ4j0nw9FMcRvqt9FbByOoUuwz+FAG9RVPSdYsNe0+G/wBMvbfUbGYborq0lWWKQeqspII+lc7ffF7wJplh9uvPGvh20svtElp9pn1WBI/PQgPFuL43qSMr1GeaAOuoqvp+o2mrWMN5Y3UN7ZzqHiuLeQSRyKehVgcEe4qxQAUV82/tyfEzx58NvA/g8/DvVP7K8Qa14jg0lX+zQz+YJIpdqYlRwMuE5AzxXpX7OfxOPxi+CfhPxXM6vf3lmqX20BcXUZMc3yj7v7xGIHoRQB6RRXxrov7SXjfxT+3RZeELHVBH8M2u9Q0lbMWsJ+03FnZF528wp5gxMygbWwduPWvrLxN4w0HwXYreeIdb03QrRjtFxqd3Hbxk+gZyBmgDYorG8M+MtA8bWLXnh3XNN16zVtrXGmXcdzGD6FkJGay2+LngWOW3ibxp4eWS5uHtIEOqwAyzoQrxKN/zOpIBUcgnmgDraK8K/ZU+KGvfELwf461LxXqqXjaT4s1LToJ5IooFgtIRGUU7FUYUM3zNz6mvYPDfirRPGelJqfh/WLDXdNdmRbzTbpLiFmBwQHQkEg9eaANWivBf2sPid4l+GifC8+G9S/s0614ysdKv/wBxFL51rJv3x/Orbc4HzLhh2Ne9UAFFZl14o0ax12y0S51axt9ZvkeS006W5Rbi4VBl2jjJ3MFHJIBx3ov/ABPo+l6xpuk3urWNnqup+Z9hsbi5RJ7vyxuk8pCdz7QcnaDgdaANOivnz4eftN6d4w/aU8feCJfEvh46JpkNhDoa295EZL+4eMvcBW3nzXRvkKp93byM5rv/APho74Tf9FQ8Gf8AhQWn/wAcoA9EorJ8M+LtD8baWNS8Pa1p+vacXMYvNMuo7mHcOq70JGRkcZrWoAKKKKACiiigAooooAKKKKACiiigAooooAKKKKACs3xF/wAgW5/4D/6EK0qzfEX/ACBbn/gP/oQoA0qKKKACimSypDG8kjrHGgLM7HAUDqSfSvk/4U/tP+I/i1+1pLoWns1r8M5NDubrSlaCPOpmK4EJvA5XeFLrKqgEAhASMmgD6zooooAKKKKACiiigAooooAKKKKACiiigAooooAKzbP/AJDmo/8AXOL/ANmrSrNs/wDkOaj/ANc4v/ZqANKiiigAorzv46fFqL4P+B31GG1Oq+IL+ZNO0PSI/v399JxFEB6Z+Zj2VT3xXDfsjfF7W/H37Ntr428c6ot5fxyX0l5eeRHEFihlf+GNQuFVfTJx3oA99or5P8E678ePjr4Fm+JfhrxjpnhGxvGmm0LwhPo0VylxBG7KgubljvVpNp5TgAg98D2r9n34uxfHL4S6F4vW1FhdXaPFeWYJPkXEblJEGecblJGecEZoA9Goryf9pr4zXXwP+GTazpenpqviDUL2HSdIs5SRHJdzE7N+CDtAVmwCM4xkZyPL/Gmu/G79njwbF8QfFPjXTPH+j2ckLa94fh0aKzNtDI6ozWk6EM5QsP8AWDkZPFAH1RRXz1+0l8SvFLXPwo8M/DjxIvh7V/G2q/JqwsYrzZYpAZJXEUoIOA8bdj8uMjJre+H/AMLfi/4d8XafqHif44f8JdocJf7To3/CJWdl9ozGyr++jYsm1ircDnbjoaAPZ6KKKACiiigAooooAKKKKACiiigAooooAKKKKACiiigArM1r7+nf9fafyatOszWvv6d/19p/JqANOiiigDivAP8AyBdI/wCuY/ka7WuK8A/8gXSP+uY/ka7WgArM17/j3tv+vmL/ANCFadZmvf8AHvbf9fMX/oQoA06KKKAM7UvEmk6Pf6fY3+qWVje6i7R2Vtc3CRyXTgAlY1JBcgEZC5618dfHj4byfsy+OvCnxk0rxBqvi25fWY9Kv9P8VTJfssFyW3G0cqGgYAEAL2PoGVvo744fA7SvjdoemwXV/eaHrWj3a6hpGt6cwFxY3C9GXPBU4GVPXA6EAjidO/Zk1zxH4s0DWvij8SLz4iQ+H7gXmmaUulQ6baJcL92aVIyfNde2SAOeMEggHnn7U3xg8Nax8YNF+GfjG/utF8A6asWsa/Imn3NwNWkBD29kBDG58vOJHJ4OAAQRWL8C/j54D1L9sz4oXVlq0zWfiiHR7LRz/Zl0nnSR26oylTEDEA3GZAoPUHFfbdeZ+EPgz/wivxv8f/EP+2PtX/CVwWMH9m/Zdn2X7PEI8+ZvO/djP3Vx05oA8+k/Za+CvxW+JnjfxLfXT+NNZuLtIdVsP7YJhsJ402CMxwFCrBVxiQsRg4xzXEfDfxJc/s4/Fz4w+BLC7vtb8DeHfDB8V6bYXlw08mnlEDPapI2W2tkkA5wAD1LE+m+KP2aNVt/iRrHjf4b+P7v4d6vrqp/bFuNNi1GzvHUYWXyZCoSTk/MD3PHLZ6H4R/s+aV8M7fxJdalqV14y8S+J23a5rerKu+8UKVEQjHypEFJAQdjjOAAAD5y+E/7JK/Gz4NXPi3UvG2teGtR8cI+qSaP4YlW10WDzM7Ee0AxLwBv3HJ5Gc8n3L9jf4gT+PPglZpeadY6Ze6BeT6DPHpcQitXa3IAeJBwqlSvA4znGOlc/pv7Kfi/wVpl14b8C/GbWPC3gaZ5DFo0mlQXk9mjkl0t7p2DxjJOOCRnOc5J9f+GXwr0X4QfDyy8IeGFktbK0jcJPOfMlklYktNIeNzFiSeg7DAAAAPDP2a4f+FwfHj4ofF+9/f2lneN4T8O7uVjtYCDNImf+ejFWz/tSDvivqWvNf2d/gzH8AvhTpfg1dU/tyW0lnmm1E2/2czvJKz5Kb3xgMq/eOdue+K9KoAKKKKACiiigAooooAKKKKACiiigAooooAKKKKACiiigDN1b/j60z/r4/wDZWrSrN1b/AI+tM/6+P/ZWrSoAK+Xf2gP+TyP2cfrrH/pOtfUVeH/Hv9nnXPi1448EeLfDfjv/AIQfW/CouhbXH9jx6huM6opO2SRVGFUjkN97tigD3CvgHwfdeIPiB8fvjD4jvPg1H8X7jTNel0KzbUNWsoYdLt4GZUjjguT1cAMXA6k4OS2fobw78IPjdpviDS7zVf2gv7Z0u3uopbvTf+ELsYPtcKuC8XmK+5N6gruHIzkdKk8Vfs16lH8RtW8cfDjx7efDvW9bVF1iFdOi1CyvmQYWQwyFdsnJ+YHueOWyAcf+y34D8d+B/i345nu/h6/w5+HmtW8V5a6KNWtbyG2v1Kq/lLC52CRSzEBQPlA7KK4bwxqnwxvdX8Wv4J+D3iL45XmpapPJfeKNWsLWW1lmJw0Md1OFAjXsFXABByRivoj4OfAeL4Y6t4g8Rat4iv8Axn4y8QFP7R1vUEWLciDCRRQp8sSAfwjPQc4AA4Hwn+yf4s+Gtpd+H/BHxi1Tw34GmuJJ00caPbXFzbCQ5dYbpzle+DsJHXrkkA8I+FrXFr+xT+0fpUli2j2+m65q1vBpBuBcLp67IibdZBwwViRuHBOT3r0bWPhP4T8G/sE3uq6boGnQa7c+B1mudXW1T7XO88McsxabG8hn5wT2A7Cu48K/sdweDvhN8TvAFh4suJdL8YzyzwXN5aebPYmSNUbe3mjzydinPyd69B8RfBn+3v2e3+F/9seRu0GLRP7V+y7vuRLH5vlbx12527+/WgDwS+/Z7+H8P7Cd5qEnhfTbjW28FHXJNZmt1e9a8Fn5/meeRv8Av9s42/L04rI+P+q3Wuf8E6fBd/fTvc3k9noTyzSHLSNmLLMe5PUmvp28+FP2v4BzfDT+1NnmeGj4d/tT7PnGbX7P53lbv+Bbd3tu71xfjX9mL/hMP2a9C+E3/CS/ZP7LgsYf7Y+wb/N+zFTnyfMGN23++cZ70AefftHeCdK+In7YfwR0LXbcXujz2GqSXNm5Oy4Ecfmqjj+Jd6ISp4IGDTviN4G8P/C/9sb4C3nhLRrHw22uRaxY6jFpVultFcxRWyNGHRAFOC+c4z8q/wB0Y9n8V/Bn/hJ/jl4G+Iv9sfZv+EYtLy1/s37Lv+0/aIym7zN42bc5xtbPtR8Qvgz/AMJ38Wvhp43/ALY+w/8ACGSX7/YfsvmfbPtMSR437x5e3Zn7rZz2oA8X/Z58E+H/AI1fE740+MfHGjWPiTWbLxVc+HbO31i3S5jsbK3AEaxxuCq7txyQOSD6nKfsweA9H+Gv7V/x48PaAnkaRbwaTJBahiy24lieUxLnooZzgdhgVma1ceGYPjx4/n8H/FyT4I+KvOjTX9N8Q2VpJZ6mQuUu7dJpAMlTkuDnnJUbjmf9iPw7E3xa+NXijS9bvvFXh29urGztvEl9gnU7mONzdSKQApQSN8u3gKygcCgD3f8AaX/5N1+J3/Ys6j/6TSV8/fs9r+0pJ8DfBC+GX+Fcfh46TALF9TGpG8EO0bTIE+Tfjrjivqb4meDf+FifDrxP4V+2f2f/AG3plzp32vyvN8nzYmTfsyN2N2cZGcdRUHwn8B/8Kv8Ahp4a8Jfbv7T/ALGsYrL7Z5PledsXG7Zubbn0yfrQB5f8IP2ZZ/D0fxA1f4ha1F4u8WeO4/s2sXFvD5VvHbeWYxBEp52hTjJA4VRj5cnwnQ/ilrXw7/ZL8ZfC9pGn8f6HrbeAtNXOHuPtTkW0q+g8lpdn/XIV92Xl5Bp1nPdXUyW9tBG0ss0jBVRFGWYk9AACc18eeH/C/hX42ft1XHjPwpqEWteGvD+lWt5qt5ZSiWyudXCyxW21l+V2SF924E4KY7mgCL9qH4ReH/h/8I/gL4ci02yuv7L8YaLpLXMlujPNEVmMqkkZ2yPl2XoSelXfj98MfDfi79rb4EeFb/Srb/hG10/U3bS4YxHA6xRmRYyi4Gzcq5XoRkHrXuvx/wDgqnxy8HWGkprc3h3UtM1S31jTtThgWfyLmHdsZo2IDjDtxkdvoceP4D6xqHxN+G/jnX/GKaxrHhOxvbO5MelLbrqLXCMnmYWUiHaCOAGzjtmgDzH4keBfD/wu/bD+At74S0ax8NvrkesWGoxaXbrbRXMUdsjRh0QBSQXJzjPyr/dGIf2d/A+gfGj4rfGjxl450mz8S61p/im58PWNtq8C3EdhZ2+AixxuCqltxyQOSp9Wz7b8Qvgz/wAJ58WPhp41/tj7D/whkl/J9h+zeZ9s+0xJHjfvHl7dmfutnPauW8Ufs2arbfEPWPGfw38f3nw71bXQp1i2GnRajZXjqMLL5MhXZJycsDzk8ctkA4z4K6Ra/Cv9sX4heAPDCCy8HXugW/iA6TCf9HsrwyJGwiXogdWLEDjhR0AA5r9jH4M+DPGWn/EzxB4k8O6d4i1B/GOp6fE2rWyXKQQKytsjVwQmWkckgAnIz0r3r4M/Aez+E99r2uXut33i3xl4gkSTVfEGpKqSTbBhI0jX5Y41HRR7c4AAm+A/wZ/4UnofiPTv7Y/tn+2Neu9c8z7L5Hlefs/dY3tu27PvZGc9BQB5f+wtbLoOj/FnwzaFl0fQfHuqWGnW7MWFvApTEa57ZyfqSe9fTleMeEfgmfhV4T+LxHi2S3Pi3VNT17+04rUwvpP2iM8jbIS5ixu3AoTjoK2P2ZINdt/gP4OHiW91DUtZe0Ms13qzO11KryO8bSbyWDbGThiSOnagDzL9uD/miX/ZRtK/9qVy3hj4gw/su61+0N4autsdlpat4z0CF/uyJdgIYlHZVufLjHuxr3f44fBX/hc3/CEf8Tn+x/8AhGvEdp4g/wCPXz/tPk7v3P312bt33ucY6Gub+OH7LGmfGz4keCvFlzq8mmDQ2VNQsVt/MXVrZZ450t3beu1RIhPRs7ugIBoA8I8E/Dub4X/Hz9lvRL3cdXOja1e6m8n33vJ7aSWbce5DuVz6KK7v4z6r8M4/2hjJfeEPEnxd8e2elJAPDVjYxX1jpMLEOsrpIFSN3yPmJY4YcDIr2Dxf8Ff+Eq+OngH4jf2z9l/4RW3vbf8As37Lv+1faImjz5m8bNu7ONrZx2rl/GX7NutTfFjVviF4A+Id14D1zW7eG21eJ9Lh1G3uxEoSNgkjLsYKoGQT09zkA8Z+APnaX+3Dq8MHw/8A+FW2eqeCzdy+H0nhZZmW7RUuGjh+SNiAy7eowT/HWv8AsR/Cfwn4gsfiN4l1nw/p2sayvje/ht7q/tUne2SF0kjERcHYRI7Nlcc49BXpXw//AGW7rwR8bIviXd+PNS8S61caXLp2q/2papm6LMrK0RRlWBF2KBGEYYB5yc11/wAB/gz/AMKS0HxFpv8AbH9tf2vr13rfm/ZfI8rz9n7rG9t23Z97IznoKAPz70vxL4ih0HxJpGu2d9p3wNl+JF5H4p1nTZgs83muqiFsfMsClELkD5vMCg5wD+n3hrSdK0Hw/p2n6FbW1po1vAkdpDZgCFYgPl2Y4xj868u+G/7Nul+D/h3448G63fL4m0nxXq99qdyrWvkeWlyEBiHztkrsyHBBzggDFb/wH+GOq/B34d2fhLUvFDeLINOdo7C7ls/s8sVr/BC/7x9+zkBvl4wMDFAHkP7dX+r+Cv8A2ULTP/Z6+oq8g/aR+A178edD8NWmneKP+ES1DQdZh1q2v/7PW9/exq4QeWzoOCwbnI+XGOa5b/hSfx+/6OU/8sTT/wD4ugCh8Uv+T6Pgn/2BtX/9EtSfHZ1P7Y37OCZG4f28SO+DaLj+R/Ku++N3wEPxW1fwv4j0fxNd+DfGfhmSV9N1q1t0uAqyqFkjkhcgOpA6EjqRyCRXKaT+yvrDfF7wZ8SPE/xHvfFXiPQGuVl8/TY7e3mhkhaNIoYo3CwBS7sWw5ckZIxQBy3wZ8GeH4f22vjp5ehaan9nwaLNZ7bOMfZpHtAXePj5GYkkkYJJ5rP+PWkeHPF/jCH4MfC/wd4Zg8W30Ql13XotHtyvh+xONz5CcTOCAoyCNwPBIYeo6r+z7rtr8bta+IvhLx6/ht9etoLfV9Mm0iO8S58mPy42R2dTGQAOx5z2OK4L4b/sk/Ez4Tw6sPDvxttYLrV7tr3Ub658HRXFzdzHPzSSyXJY4ycDOBknqTkA9++Fvwx0H4PeBdL8KeHLX7NplhHtBbmSZzy8rnu7HJJ/AYAArrK5L4a+HvFfhrQZ7Xxj4uj8aam1y0keoRaUmnBIiqgReWjsDhg7bs5O/GOK62gAooooAKKKKACiiigAooooAKKKKACiiigAooooAKzfEX/IFuf+A/8AoQrSrN8Rf8gW5/4D/wChCgDSooooA+Wv20vi5aaPN4d+Gl5qV54d0fxNmXX9dtrSedoNNUkPDGIkdvMmIKZxhRnPB48t0v8AaA+FGl/th+E9U0LUpLXwfp/gcaBb+XpF6nlSi6YpEIjDvxtK/Pt2+pzX3vXml58Gftn7RFh8Uv7Y2fZfDzaD/ZP2XO7M7S+b5u/j72NuztnPagD0uiiigAooooAKKKKACiiigAooooAKKKKACiiigArNs/8AkOaj/wBc4v8A2atKs2z/AOQ5qP8A1zi/9moA0qKKKAPh7w3+0r8PvFHx61rx38QNXvNLh8PPLpPhPRX0a9n8iM8T3zmOFl8yX7oGcqowexrN/ZP8daN4m/Yo8a+BNLu5ZvFVtoeuTyWgtZlCrL5wjIlKCNiS68KxIzyK+868z/Z4+C4+AvwrsvBjauNfW3nuJjeG1+zh/NkZ9uze/Tdj73NAGT+x9dwXf7MPw4kgZTGukRxsR03ISr/+PK1cR/wT5UyfAvUL1P8AjzvvEepXNq3ZojIFBHtlWqT/AIZF8QeH9P1fw14J+LOreEPh9qkssknh2PTIbiS2WUkyx21yzBoUOTgAHGc8kkn0nWPgpHZ/Atvht4H1y88Cxw2kdrY6tZF2uLXbIrs+VdGLPhtxDDJcn2oAo/tOfBu9+NnwzGlaPfx6Z4i0y/g1jSLqcExLdwk7A+ATtIZhnBxkHBxg/P37U3iz4x+LP2bfFVn4t8EaX8P9MtbaOTVNVOtR3v24rKmyK2hjGU8yXy+ZG+VSR8xr6U8bfBOx+JXwbt/AXiXVb69aO0tom1qFzHdG4hC4uQSWw5ZdxyTncQSc5rg1/Zi8S+LNQ0iP4mfFO/8AH3hvSbiO7g0MaTBYRXEsf+ra6eMkzgHnacAkc98gGRffAT4dfFSD4RaP481ic+KdD8NQiDw1FqgtnuI2gRJneNcSlcxkEqyj5SDnkVyvjHwBpv7Kfx0+E1z8N3utH0Xxfqx0TWPDf2uWe1nVgu24VJGYq6bskg9h0Bbd7X8af2f7f4q6x4f8S6Xr974N8b+H2f8As3X9PjSVkRxh4pYm+WWM5PykjqexIOV4J/Zxv7X4i2Pjv4heOLv4ieJtLheDSTJYRWFnp4cYd44IyR5hHG8n+QIAPbqKKKACiiigAooooAKKKKACiiigAooooAKKKKACiiigArM1r7+nf9fafyatOszWvv6d/wBfafyagDTooooA4rwD/wAgXSP+uY/ka7WuR8H2cun2Gm20wAljXawBzzg111ABWZr3/Hvbf9fMX/oQrTrM17/j3tv+vmL/ANCFAGnRRRQAUUUUAFFFFABRRRQAUUUUAFFFFABRRRQAUUUUAFFFFABRRRQAUUUUAFFFFABRRRQAUUUUAZurf8fWmf8AXx/7K1aVZurf8fWmf9fH/srVpUAFFFFABRRRQAUUUUAFFFFABRRRQAUUUUAc74o+HPhPxxJDJ4j8L6L4gkhGIm1TT4bkoM5+Uupxz6Vs6dptpo9jDZWFrDZWcK7Ire3jEcca+iqAAB9Ks0UAFFFFAEc8Ed1DJDNGssMilHjkUMrKRggg9QRWb4b8J6H4M046f4f0bT9CsN5k+y6bax28W49W2oAMnA5rWooAKKKKACiiigAooooAKKKKACiiigAooooAKKKKACiiigAooooAKKKKACiiigAooooAKKKKACiiigAooooAKKKKACiiigAooooAKKKKACs3xF/yBbn/AID/AOhCtKs3xF/yBbn/AID/AOhCgDSooooAKKKKACiiigAooooAKKKKACiiigAooooAKKKKACiiigArNs/+Q5qP/XOL/wBmrSrNs/8AkOaj/wBc4v8A2agDSooooAKKKKACiiigAooooAKKKKACiiigAooooAKKKKACiiigAooooAKKKKACiiigAooooAKzNa+/p3/X2n8mrTrM1r7+nf8AX2n8moA06KKKAMLT/wDj8i/3v/ZTW7WFp/8Ax+Rf73/sprdoAKyvESu1nAEfY32iPDYzj5q1azNe/wCPe2/6+Yv/AEIUAL9h1L/oJr/4Dj/Gj7DqX/QTX/wGH+NaVFAGb9h1L/oJr/4DD/Gj7DqX/QTX/wABh/jWlRQBm/YdS/6Ca/8AgMP8aPsOpf8AQTX/AMBh/jWlRQBm/YdS/wCgmv8A4DD/ABo+w6l/0E1/8Bh/jWlRQBm/YdS/6Ca/+Aw/xo+w6l/0E1/8Bh/jWlRQBm/YdS/6Ca/+Aw/xo+w6l/0E1/8AAYf41pUUAZv2HUv+gmv/AIDD/Gj7DqX/AEE1/wDAYf41pUUAZv2HUv8AoJr/AOAw/wAaPsOpf9BNf/AYf41pUUAZv2HUv+gmv/gMP8aPsOpf9BNf/AYf41pUUAZv2HUv+gmv/gMP8aPsOpf9BNf/AAGH+NaVFAGb9h1L/oJr/wCAw/xo+w6l/wBBNf8AwGH+NaVFAGb9h1L/AKCa/wDgMP8AGj7DqX/QTX/wGH+NaVFAGb9h1L/oJr/4DD/Gj7DqX/QTX/wGH+NaVFAGb9h1L/oJr/4DD/Gj7DqX/QTX/wABh/jWlRQBz2pWt8txYB79XLTYU+QBtO089eav/YdS/wCgmv8A4DD/ABo1b/j60z/r4/8AZWrSoAzfsOpf9BNf/AYf40fYdS/6Ca/+Aw/xrSooAzfsOpf9BNf/AAGH+NH2HUv+gmv/AIDD/GtKigDN+w6l/wBBNf8AwGH+NH2HUv8AoJr/AOAw/wAa0qKAM37DqX/QTX/wGH+NH2HUv+gmv/gMP8a0qKAM37DqX/QTX/wGH+NH2HUv+gmv/gMP8a0qKAM37DqX/QTX/wABh/jR9h1L/oJr/wCAw/xrSooAzfsOpf8AQTX/AMBh/jR9h1L/AKCa/wDgMP8AGtKigDN+w6l/0E1/8Bh/jR9h1L/oJr/4DD/GtKigDN+w6l/0E1/8Bh/jR9h1L/oJr/4DD/GtKigDN+w6l/0E1/8AAYf40fYdS/6Ca/8AgMP8a0qKAM37DqX/AEE1/wDAYf40fYdS/wCgmv8A4DD/ABrSooAzfsOpf9BNf/AYf40fYdS/6Ca/+Aw/xrSooAzfsOpf9BNf/AYf40fYdS/6Ca/+Aw/xrSooAzfsOpf9BNf/AAGH+NH2HUv+gmv/AIDD/GtKigDN+w6l/wBBNf8AwGH+NH2HUv8AoJr/AOAw/wAa0qKAM37DqX/QTX/wGH+NH2HUv+gmv/gMP8a0qKAM37DqX/QTX/wGH+NH2HUv+gmv/gMP8a0qKAM37DqX/QTX/wABh/jR9h1L/oJr/wCAw/xrSooAzfsOpf8AQTX/AMBh/jR9h1L/AKCa/wDgMP8AGtKigDN+w6l/0E1/8Bh/jR9h1L/oJr/4DD/GtKigDN+w6l/0E1/8Bh/jR9h1L/oJr/4DD/GtKigDN+w6l/0E1/8AAYf40fYdS/6Ca/8AgMP8a0qKAM37DqX/AEE1/wDAYf40fYdS/wCgmv8A4DD/ABrSooAzfsOpf9BNf/AYf40fYdS/6Ca/+Aw/xrSooAzfsOpf9BNf/AYf40fYdS/6Ca/+Aw/xrSooAzfsOpf9BNf/AAGH+NH2HUv+gmv/AIDD/GtKigDN+w6l/wBBNf8AwGH+NH2HUv8AoJr/AOAw/wAa0qKAM37DqX/QTX/wGH+NH2HUv+gmv/gMP8a0qKAM37DqX/QTX/wGH+NUNctL6PS52kv1lQYyvkAZ+Yd810NZviP/AJAtz/wH/wBCFAB9h1L/AKCa/wDgMP8AGj7DqX/QTX/wGH+NaVFAGb9h1L/oJr/4DD/Gj7DqX/QTX/wGH+NaVFAGb9h1L/oJr/4DD/Gj7DqX/QTX/wABh/jWlRQBm/YdS/6Ca/8AgMP8aPsOpf8AQTX/AMBh/jWlRQBm/YdS/wCgmv8A4DD/ABo+w6l/0E1/8Bh/jWlRQBm/YdS/6Ca/+Aw/xo+w6l/0E1/8Bh/jWlRQBm/YdS/6Ca/+Aw/xo+w6l/0E1/8AAYf41pUUAZv2HUv+gmv/AIDD/Gj7DqX/AEE1/wDAYf41pUUAZv2HUv8AoJr/AOAw/wAaPsOpf9BNf/AYf41pUUAZv2HUv+gmv/gMP8aoW1rfHVr5RfqsgSPc/kD5vvY4zxiuhrNs/wDkOaj/ANc4v/ZqAD7DqX/QTX/wGH+NH2HUv+gmv/gMP8a0qKAM37DqX/QTX/wGH+NH2HUv+gmv/gMP8a0qKAM37DqX/QTX/wABh/jR9h1L/oJr/wCAw/xrSooAzfsOpf8AQTX/AMBh/jR9h1L/AKCa/wDgMP8AGtKigDN+w6l/0E1/8Bh/jR9h1L/oJr/4DD/GtKigDN+w6l/0E1/8Bh/jR9h1L/oJr/4DD/GtKigDN+w6l/0E1/8AAYf40fYdS/6Ca/8AgMP8a0qKAM37DqX/AEE1/wDAYf40fYdS/wCgmv8A4DD/ABrSooAzfsOpf9BNf/AYf40fYdS/6Ca/+Aw/xrSooAzfsOpf9BNf/AYf40fYdS/6Ca/+Aw/xrSooAzfsOpf9BNf/AAGH+NH2HUv+gmv/AIDD/GtKigDN+w6l/wBBNf8AwGH+NH2HUv8AoJr/AOAw/wAa0qKAM37DqX/QTX/wGH+NH2HUv+gmv/gMP8a0qKAM37DqX/QTX/wGH+NU9Qt7yKfTzPeCdPtSfKIQvODznP8AnNb1Zmtff07/AK+0/k1AGnRRRQBhaf8A8fkX+9/7Ka3awtP/AOPyL/e/9lNbtABWZr3/AB723/XzF/6EK06zNe/497b/AK+Yv/QhQBp0UUUAFFfP/wC1V8QvFOl6n8PPh74M1IaDrnjnUpLRta8sO9lawqrTtGDxvw4wfY4wSCOP+IVv4j/ZFvPB/ii3+IPibxl4U1DV4NG13TPFl6L1ws27bcwSbQ0bIVJKDg5HTFAH1hRXzd+1Z428QWvjv4WeBLHxNceBPD/iy9uYtU8S2bLHPH5UatHbxytxE0jHaG65xjgMDheE9Q174O/tVeGfhzpvjzW/iB4b8QaXdXeoWfiK8F/d6Q8SM0c3nYDKjkBArcfN3+WgD6uor5++If7NtlNeeIfFmpfGn4qeHNO3T6jcw6f4o8iysoxl2EaeUdkajOBk4ArgP2PLfX9J8K+Mvi14k8Y+MdU8EzQXD6HpnijVnvZlsISXa7kBwokfyzt2qMLnlgwNAH2BRXxb4UW9+LnhSw8afED486l8OPEHiZWvNB8O6Tr0GnW1lbMxEAaFsNckgBiT1Bx15r13xBb/ABz0v9ne00ywm0jXPirI6WcusWMiLbxxFzm72zLGpcR4yoGNxyARxQB7rRXx78cPAHi/9mv4YXPxK0P4weMNb1nRJLeW8sPE1+LnTtRV5UjeMQFR5WS/G05AGAc/MPrPQdU/tvQ9O1HyWtvtltHceS/3k3qG2n3GcUAX6KKKACiiigAooooAKKKKACiiigAooooAKKKKACiiigDN1b/j60z/AK+P/ZWrSrN1b/j60z/r4/8AZWrSoAKKK+VP2tP7a1/46fA3wdYeMPEvhLS/EEuqRX8nhrU3sppBHHC6EkZUkHONynG5sdaAPquivk34qfs8eJ/hT8OfEXjHwl8cPiRJrGg2M2qJB4k1pb+zmWFDIyNG0YHKqQCcjJGQa9K8G/tNeGV+Dfw+8Y+ONTt/DU3ie2QKZI5PJNwELSfMAQifIzAuQMY5oA9oorgfBPx48BfETwvq3iPQ/EcE+haSxS+v7qKW0igIUOSxmVONpBz0wR61zvhX9rv4QeNPEVtoWk+N7ObUrp/Kt0mgnt453zjbHJIio5J4AVjk9KAPYKK5X4jfFPwn8JdDXV/F+uWuh2DP5UclwSWlfrtRFBZzjnCgnFcn4U/am+FnjjVtG0vQ/F1vf6nrE8ttaWa206zGSNN7B0aMGL5eQZAobBwTg0AerUV5H4s/ax+FHgbVtU0vXPF8NjqWm3ItLq1NpcPIkmwPwqxksoUgl1yoyMkGtv4hfH34f/Cm20+bxV4mttKbUIxLaW7RyS3EyH+JYUVpMe+3rxQB6DRXBfC/47eA/jRHeHwb4kttZks8faLdUkhniycAtFIquBkEZxiuW1j9sX4O6DbvLfeNreEx3M1o8K2ly8yPE2yQmJYy4QNkbyNpwcE4NAHs1FeQ+JP2tvhD4U0/S77UPHOn/ZtTgF1bNaJLdM0RYrvZYkZkXcCuXA5UjqDXV658Y/Bnh3wLZeM73XoB4YvWhS31K3R545DKwWPHlqx5YgdOO+MUAdnRXkmk/tZfCPXPGEfhix8c6fPq8sjQxLtkWCZwcFUnKiJznj5XOT0qTwv+1R8KfGnjKLwrovjSxvtbmZkghWOVY7hlzkRTMgjkPB+4xz2oA9XoryHS7q1P7U+swDx/fXN4PDEbt4Ha3nFtbp56/wCmiQt5Rcn5NoXdhuuKg1j9sT4PaDbvLfeNbeIpcz2jwraXLzLJC22QmJYy4QMCN+NpwcE4NAHstFYHhHx94d8e+F4PEfh/WLTVdDmVnS+gkHl4X727P3SMHIOCMc15tD+2X8F59SurKPx7YNLbLI7SCGbyX8tSzCOXZskbAOFRmLcAAkigD2iisrwr4o0zxt4b0zX9FuftukalbpdWtx5bR+ZG4yrbWAYZB6EA189ft36xrWm+Dvh3Z6J4i1jwy+reM7HTbm80O+e0uDBLHMGUOh+hwcjKg4OKAPpqivm3Uv2QNXs9PuZtB+O/xVg1hI2a1k1bxD9rthIB8vmReWu5c9Rmm/s5/tWWPiX4F+CvEHxD1JNP1nVtVbw6l2trIYby8DERkmNCkZdcEltq5DYwBgAH0pRXNfEL4jeHfhX4Zl8QeKNR/szSo5Y4TMIZJmLyMFRVjjVnYkkcKD3PQGvnXxN+1Zpei/tlWHhW68SXVv4TtdCa1uLFNOuCDq73O0BtsW5gIwmH5jGTyDmgD6vor5I8E/tF6L8N/jn8dofiB40mtNLttV0+DSLC8mmuTGDBI0i28ChmAztLbFx0z2r6L+G/xW8JfF7Qm1jwfrltrmnpJ5UkkG5WjfGdrowDIcEHDAcGgDrKK8c8RftgfB3wr4iuNE1LxzZR6hbSeTP5MM08ML5xteaNGjQg8EFhgg5rt/FXxV8J+C/B9t4q1bWoYvD1y8McOoW6vcRSGZgsRUxBshiR8w45znFAHWUV5BY/tc/CDUvFsPhq28dafLqs0/2aL5JRbyy5xsS4KeUxyQOHOSRXr9ABRRXwP+198T/HXgH9qbT9R0DxBrEPh7w14esdf1PQrW9lW2u4BqBhmDQhtrErIMkjovtQB98UVy3jb4haZ4N+GuseNZZkn0qw02TUldW4mQRl0Cn/AGuAP94V8uf8E+fFHjrXPEXxUs/HfiHVNa1C2/sm5S31C7lmSzNxFPM0cauxEeNyqQuB8g9BQB9mUV4tr/7ZnwY8M6xcaZfeOrT7TbyeTM1rbXFzDG+cbWlijaMHP+1Xb+IvjF4N8K+B7TxjqOv26eGLtoUg1O3V7iKQysFjwYwxwSQM9B3xQB2VFfOXxa/aO8KePPgb8VW+Hni2S61nQtHlme801Z4GgJyEkim2qG5VsMjHocGut8N/GXw98O/gP8ONd8ca+8E2qaTpsSSzLLd3V7cyW8ZwqIrySuxOSQCecmgD2Cio4JluIY5UDBZFDASIUbBGeVIBB9iMivnVvFWt/wDDfi+Hv7Yv/wCwP+EF+1/2V9qf7L5/2or5vlZ278cbsZxxQB9HUUVzPgP4keHPidp9/feGtR/tK1sL6XTbmTyJItlxFjzExIqk43DkZBzwTQB01FcFb/HTwReeG/FevQay02leFr6bTdXmSyuCba4iKiRAnl7pMFl5QMDngmvB/wBlH9rjRtc+BN7rnjzxPdXevaXNLc6xMdNuZPKjmuzHAEEURVh8yLtjztHUDBoA+taK8DuP27PgjZwmW48X3MEQ4Mkmg6kqj8Tb17npuo2+r6da39o5ktbqJJ4nKlSyMAynBAI4I4IzQBZooooAKKKKACiiigAooooAKzfEX/IFuf8AgP8A6EK0qzfEX/IFuf8AgP8A6EKANKiiigAor58/bg8aaj4V+D1hp+ja5ceG9V8R69YaNBqlrdG2ltg8vmO4lBBQbYmBOQME54NYvw3+Dfg/VvFVld+Hf2j/AB94xudLuI7uXTE8cw30MgRw2yeJEyY2xtYHGQSM0AfTtFFFABRRRQAUUUUAFFFFABRRRQAUUUUAFFFFABWbZ/8AIc1H/rnF/wCzVpVm2f8AyHNR/wCucX/s1AGlRRRQAUV8Y/E7WrH4iftT+MdC8Q/GLXPhf4V8LaNY24XSPEyaQtxeTbpsnflXIRyDgZ+VeeMV7X8LfCOifB/wf4i8V2/xL8V/ETQ5LP7Y134g11dVihigWRmNuyqANwJ3cnOxfSgD2Oivi3wot78XPClh40+IHx51L4ceIPEyteaD4d0nXoNOtrK2ZiIA0LYa5JADEnqDjrzX1D8I7Hxlpnw/0m08f6hp2reKYEaO6v8ASt3k3ADHY+CiYYrt3YUDOSOOKAOxoryL9rL4jeIPhR+z/wCLPE/heHzNas4o1hlMYkFuHlRGm2ng7FYtyCMgE8A189/FH+3f2f8A4feFPiN4V+NHiTx1rl9eWkf9j6tqS3ljrqykB0t4AP3fXI2kkAYznBoA+4aK+ePj94w8R+KPi74F+D3hfXLrws2t28+ra1rOnkC7gsYgQscLEHYzurLvxkYHUZBxrO48R/s3/HrwP4YuvGWu+MvA3jhbmzjHia5+13en30SB1Kz4DMkm4LtPQ5PagD6gooooAKKKKACiiigAooooAKKKKACiiigAooooAKKKKACszWvv6d/19p/Jq06zNa+/p3/X2n8moA06KKKAMLT/APj8i/3v/ZTW7WFp/wDx+Rf73/sprdoAKzNe/wCPe2/6+Yv/AEIVp1ma9/x723/XzF/6EKANOiiigDxP9pn4a2fxAh8H3Fn4usfBnjzSNUF14Zvr6RNs9xgbrfy2IMiuAuVXJ4HBGQfnr9rfwn8VfFnhPwXYfEHXPDaXl54ksrLSdB8Iwzlby5diGnmec7tqR78Kq4BkyW6V9e/Fb4ReG/jN4bj0bxJbzPHb3CXdpd2kzQXNncLnbLFIvKsMn255BrlfAf7MvhzwZ4wtvFWoa54m8ceIbONobC/8W6mb17FWGGEI2qqkjgtgt155NAHm37QVmvxe/aX8DfCDxFdTW/gO50ebXruyhcxHVbiOR1WAyD5gECbyFIOCfYjE8QfD3Q/2U/2gPha/w1hbSNP8bX76PrPh7znninjVQVuU8wsyGMtkkHHTpk5+gfi58DfDHxotNNGuJeWepaXKZ9N1nSblra+sZDjLRSr0zgZBBHAOMgGsT4d/sz+GvAXjAeLbrVvEPjTxTHCba21jxXqJvZ7WIghkiwqqgIJBIXPJ55OQDhf24tTvdd8L+DPhhpk7W174/wBdg0yeRPvJZIwe4YfT93n1BYV6j8WvB6J+zz4y8LaBaCGNfC95pthaQjhR9keONFH5CrXiz4O6L4y+Jngrxxf3N8NT8JC6+wW0UiC2c3EYjdpFKFiQACNrLyBnNd3QB8ifshfAf4Y+Nv2W9BvtY8P6X4ju9YtJF1LU9QiWa5VkZohGsrZaIRKiqoUjaFBHPNa37G/xKg8Mfspza54s1sr4a8PXt7a2mrXjE77GKTbEQerckooGc4VR2FdRrH7F/gu+1DV30rXfFvhPR9YlabUvD/h/WGttOu2b7+6LacBhwQpUY46cVu/E79lvwd8TvhTo/wAOmm1Pw14V0qaOaC10GaOItsVgquZI33DLljnksASSaAPLdD8N+Iv2z/EWleKvF2nz+Hfg5ptwt5ovhu5GLnXJF+5c3Q/hi7qncE9Qdx+sfp0r52j/AGM1hjVE+N/xkRFG1VXxZgADoAPJr6A0qx/svS7Oy+0XF39nhSH7RdPvml2qBvdv4mOMk9yTQBaooooAKKKKACiiigAooooAKKKKACiiigAooooAKKKKAM3Vv+PrTP8Ar4/9latKs3Vv+PrTP+vj/wBlatKgAr5A/bG0jW9e/aM/Z7sPDmv/APCLa1NNq622r/YkvPszeVAS3kuQr5AIwfXPavr+uC8bfBnRfHnxE8D+M7+6v4dU8IPcyWENtIiwSGdFV/NBQscBBjay985oA8i1/wDZZ+JXxE02TRPHvx81PXvDNwQLvTdL8O2mmPcICDsMsbE4OOhBHtWL+1l4H0TT7j9nPwnb6fEnh+28Y2FiliRuTyEUKIznqCowc9cmvrSuG+JHwh0f4oat4O1DVbm+t5vC2rR6zZLZyIqyTJ0WTcjZT2UqfegDxr9vgrJ8PPAunXrmHwzqXjTTLXXGDbUNmS5YOf7uVU59VWuh/bT8OeHD+yv4wjv7S0trXS7FZdN2oqC2uFZRAIsfcO4hPlxwxHQ16/468C6F8SvCuoeG/EmnRaro18nlz20uQDggggggqwIBDAgggEV4/p/7F/g9bjTE1zxH4y8Y6Lpkiy2Xh/xFrTXOnQMv3P3QVdwUcAMSMcdOKAPNPCM134u/as+Di+NlNxPa/DKHVLCO8GQdVdlFxIAf+WgQMT3GwHtW98e9F0S1/bP/AGfdTt4YYtfu31OO7eMASSwpb/ui/wBC0gBPqR2rR/a4uvCUXiLwdH450LXtK0OESz2fxE8NzSpcaHdDjyz5UbMquAvzHIJ/h+XI8q+Fvgzw58Rv2ofAXiXwBqfinxtpHhuG9udd8beJpZpPtLyQ+XbWsbyIgOxizbUUDEjHnFAHpf7Nuj2cn7VH7R+pvAj3sd/p1skzKCyRtDIzqD6MVTPrtHpU3jLx9BD+0trdn8OPhevjX4maZpcFvq+uX2qiytrC2kAkiiBfcCSCpIRQTk8nDY9l8D/CHRvAPjbxv4p0+5vptQ8XXEFzfR3MiNFG0SMiiIKgIBDHO4t+Fct4/wD2X/Dnjjx5N4zs9d8T+C/E9zAtteaj4V1P7G95GoAVZQVYNgKBnAPA9BgA8S+E9x4rk/b91KTxhY+H9K1258DF57Xw7NJLGF+1x7POdwC02AMkDG3Zium/YN8Oacnhz4q6mbOF76+8b6nbXEzICzwps2xk91Bdzj/aNei+A/2VfBvw3+I1r430e71s6+tlLZXk99fm6OoiRgzSXDSKzs4KrgqygbQMYrq/hL8IdH+Dek61p+i3N9dQ6tq9xrM7X8iOyzTbd6rtRcINowCCevJoA8J/4J6+ENGtfgb4i2abbf8AEw1/UILrdGD50SERrG3qoXIC9PmPqa8BmU3n/BLPR7eR2Kf215Q5+6p1J+B+Zr70+D/wh0f4J+FZ9A0O5vrqzmvp79pNQkR5PMlbcwBRFG0Hpxn3NcQv7Ifg5fgNbfCUalrn/COW92L1brz4fthfzzNgt5WzG44+50796APPv2+PBmiR/Afwfo8Wm28GnWniXTbS3giQKIYiHjKLjoNpxxWl+2ppdnpOj/BN7K1hs2sfiHo8FqYIwnkRlZcomPur8icDj5R6V7N8XvhDo3xp8O2Oi63c31ra2eowanG+nyIjmWEkqCXRhtOeRjPuKX4q/CLR/i/a+HLfWbm+tk0HW7bXrY2MiIXngDhFfcjZQ7zkDB6YIoA8g8P/APKQzxR/2IMH/pXHWf8AsE+H9Pt9B+KWrpaRf2ld+N9St5rrYPMaJDGUjz12gu5x6sa9us/hDo9j8ZL/AOJcdzfHXbzSF0WS3aRPsohWQSBguzdvyo53Yx2o+Evwh0b4N6VrWn6Lc311Dq2r3GsztfyI7LNNt3qu1Fwg2jAOT15NAHxDf3F94Y/ZT/apsfD6ta29r4+vrNIbf5RDatc28ciqB0Xy8qQOME19P/Gbwd4LX9jnxFpkdpZDwtZeF5LjTtqrsRkty9vKh/vl9pB6kt3zWjffCnTPg78O/ind6HoF949fxLfXmvX/AIevJ4/9LefHnQRbYvu7d21SGYnjJJr4/wDFC/CDW/hbf+GfCWvfEjxF4gu7N7fSfhfdT3klvpt66lU3RGJRiB23fNIy5TIzQB9p/sq/8m2/DP8A7AFn/wCilryX/goba3d74L+GFvYXv9m303jvT47e98oS/Z5DHOFk2Hhtpwdp4OMV718FfB918P8A4Q+C/DV9t+3aVo9raXOw5XzUiUPg9xuBqt8XPgzovxms/Dlvrd1f2qaFrMGuWxsJEQvPCGCq+9Gyh3nIGD05FAHlWqfs6/GbxNp8+l6/+0ZfXWkXSGK5h07wpZ2MzxkYZVmR9y5HGRWh8VP2Y9HX9lHUfhp4StpIW0q0+2aQ7Nmdr2JjMrlgB88j7gSAP9YcADAr6Crk/id8UvDfwf8AC0niLxVeyafpEcqwtPHbSzkO2do2xqx5IxnGORmgD5b0j4iD9rfxl8BtIGJtO03T/wDhNPEka/c+1QMbaGI9v+PhZflPVTnFd1qn/KRLR/8AsnL/APpfJUf7Efwvh8PaT428fnRZtBbxtrM9/p+n3KbZbbTRI5t0Kn7pJkdsdMFK9I+JH7PeifEbx5onjP8AtvxB4Z8S6TB9kj1Dw/erbvNb79/kyhkcMm4txgZ3H2wAeVfs4+H9PuP2sv2itZltYpNStr7T7aC4ZQXijeFy6qe24omfXaK5JZLzwp8W/wBslfDSNZ3Ufh+yv7dLUbSty2mySGRQP4y7s3qSa+m/A/wh0fwD448b+KdPub6bUPF1xBc30dzIjRRtCjIoiCoCAQxzuLfhSeG/g/ovhn4neNfHVtPezar4sjtIr+3uHRrZFt4vKTy1CBhlfvbmbJ6Y6UAcN+yN4X8MD9lXwVaWVlZXGmalpCS6ijRq6XE7r/pHm5HzHfvU57LjoK+P9U/0r/gn74x06GaSbw9aePHs9GcsWH2H7TEU2k9RuaT8c19ZXX7FPg1W1C10fxJ4z8L+HNQkaW78M6HrbQaZKW++PK2kqrdCqsBjjpgV1/jP9m/wb4w+ENr8NI4LnQPC1rJDJBDpDqkiGOTzB80ivnLZLEgkkk5yc0AeZ/t7eF9J0f8AY48R2tjp1vaW2jnTzp8cMYUWuLuGMGPH3fkdl47Ma+k9JlabS7ORzud4UZmPclRmuW+MXwp0n43fDnVvBeu3F7aaXqfk+dNp7ok6+XMkq7S6so+aMA5U8E/WuD/as+FR+Jvwp0nw5aW2o3l9DrNhJZCz27UdW2mSdipAiWNpGYjBJCgcnBAPcK+S/GXhWy8cft2a14d1Fd1hq3wtmspxjJ2SXhUke4zke4r60rhP+FO6N/wur/hZ/wBpvv7f/sX+wvs/mJ9l8jzfN3bdm7fu4zuxjt3oA+Q/DHii++Jvwe+GnwG1Ji+vx+J5fD3iKHPTT9KYTSj2DJ9mQE8E5HPSvQPg/q2l+HPjd+1pqess0Wi2J0+4vGj3BlgS0uGkxtIOdoOMc+lezeGf2c/CXhP42eIvilYi8/4SPXLf7PPDJIhtosiPe8aBAyu/lKWJY9W6Zq14f+A/hnQfE3xG1km71I+PREur2V86Pb7I4ni2RqqAhWWRgdzN7YoA8E+HnirxrrHwdSz+Gnwc8NeEPhhcWk0lrc+LtaaRJrZ9zPLLBGrPhgWPzOcjvjFeLzqb7/glh4egkZijawIuvRTqcvA/OvqjSf2KfB+k2Y0g+KPG954QViR4SuNfk/svaTnyzGoDlMn7pcg981on9kPwd/wpM/CxdS1xPDK6j/aUTrPD9ohbzvO8tW8rbs3Z4Kk4J5oAuftTaba6R+yx8QbKyt47W0ttAlghhiUKscaphVA7ACvl/wCAP9r+B/i58KNZ+MUNpqNn4i8M2tl4K1GN2a10aRY1CW+0/Ks0sflkvydzgA4zt+4viL4FsPib4G1zwpqk1zBp2r2r2k8tmyrKqMMEoWVgD9Qa5Txt+zx4V+IHwd0z4cas182kaZb2sFlfRSot7btbqqRypJs2iTapBO3BDMMYNAHp1fLrf8pIE/7J7/7eGvpXRdOfSNHsrGS+utTktoUha8vSpnnKqBvkKqqljjJIUDJ6CvH/AIpfsp6L8UfiRH45/wCEx8Z+Etfj05dL87wtqiWWYFdnwW8pm5Lcjdg7V44oA9tr5n/YNYf8ID8QY8/PH461ZXXup/dcGux+H37NP/Cv/F9hr/8AwtX4m+JPsnmf8SvxB4i+1WU26Nk/eReWN2N24c8MqntVPWv2QfCeoeLdb13S/EPi7wmuuzG41fS/DustaWd/Ic73kQKWy2Tnay/ePrQBy37Dd1FfW/xpubeRZYJviNqskcinIZSIiCD6EGmf8E/9StNF/ZD0W/v7mKzsbWfUZp7idwiRRrcylmYngAAEk1678G/gb4a+BOma5pvhZbmHT9V1OTVGtZ3Vkt3dETy4sKCIwsa4DFm65Y15tcfsO+EX8I+IPCdr4t8aad4U1mYTvodtqkX2W2Pm+YRCrwsVBYcgls/XmgDm/COn3f7ZnxCtvGmtW8sHwb8OXTHw7pNwhX+3LtCVN7Mh6xKchVPXkH+MH6vrwDT/ANkQaTp9tY2Pxj+KdlZW0SwwW1trdvHHEijCqqi2AAAAAAr3DQdKOhaHp2mte3epGzto7c3t/IJLi42KF8yVgAGdsZYgDJJ4FAF+iiigAooooAKKKKACiiigArN8Rf8AIFuf+A/+hCtKs3xF/wAgW5/4D/6EKANKiiigDyH49Wfwo1/VPA3h74nWkV/Nqep7dDtblJzDJdAKMMY/k5DgbZDhskYPNeM/tnfDvwv8K/Dfgzxp4F0PTvC3jqw8RWdtpb6LbJavd7ywa3ZYwBIpUdCDwCOjEH6R+K3wj8MfGnwqdA8U2LXdosq3EE0MhintplztliccqwyfqCQQQcVxPg/9lLwx4b8XaZ4l1fX/ABV481fSc/2ZL4u1U3q2DH+KJAqqG4HzEE5APUA0Ae00UUUAFFFFABRRRQAUUUUAFFFFABRRRQAUUUUAFZtn/wAhzUf+ucX/ALNWlWbZ/wDIc1H/AK5xf+zUAaVFFFAHhnhHwP8AAz4kfE3x9qGn+G9K17xhY3q2mvyarZSTNHMAVG1bgFQCEI3RgKwXqa8Mh8Ir4b+K37S3w28BwmHwteeCZbs6Ra5NvZ6nLb7FjjXohdXY7R6AdFAH0J4+/Zd8MeN/Gs3jCx1nxJ4I8T3MSwXmqeE9SNlJeRqAFWYFWVsADnGeBzwMdR8Jfgv4Y+C+j3ll4et7h7i/nN1qGp6hO1xeX0xz+8mlbljyeOAMnA5OQD5+/ZC+A/ww8bfst6Dfax4f0vxFd6xaSLqWp6hEs1yrIzRCNZW+aIRKiqoUjaFBHPNdf+wPrWo6v+zzaRXt5NqNlp2p3mn6XeTHc01nHJiM57gfMo9AoHar+sfsX+C77UNXfStd8W+E9H1iVptS8P8Ah/WGttOu2b7+6LacBhwQpUY46V3Xir4E+FfE/wAGbj4XxQTaH4Vlto7RYtLZUkhjR1cbWdXGSy5JYEnJJ5OaAOC/ba8da14J+D9lDouoHRm17W7TQ7vVgoJsbWbf5sozwOF257b+MHBry/47/st+AP2efhDd/EL4fpP4U8ZeE1iu7PWWvJJmun3qjRzJIxR/M3EYCjkjHHB+n7/4TeGta+F8Hw/1iy/tnw3Hp8OnGG8OXkjiVVRiyhcONqtuXGCMjFeY2H7F3g9bjTI9b8S+MvGGh6ZKs1n4e8Q60bnToWX7n7oKu4L0AYkY4xjigDi11qa6/bO+EXifVYP7PPin4fyW0ML5AW6VmuZIhnuFkHHXpW1+02P7a/aE/Z20O1Pm3665dao8a8skEMaMzH0Bwfrg1698Wvgx4b+M2i2dhr0d1BPp9wLvT9T024NveWMw6SQyjlT+Y4HGQMY3ww/Zz8O/DLxPeeJzqmveLfFN1ALQ654ov/tl1HADnyoztVUXPPAz70AeqUUUUAFFFFABRRRQAUUUUAFFFFABRRRQAUUUUAFFFFABWZrX39O/6+0/k1adZmtff07/AK+0/k1AGnRRRQBhaf8A8fkX+9/7Ka3awtP/AOPyL/e/9lNbtABWZr3/AB723/XzF/6EK06zNe/497b/AK+Yv/QhQBp0UUUAFFFFABRRRQAUUUUAFFFFABRRRQAUUUUAFFFFABRRRQAUUUUAFFFFABRRRQAUUUUAFFFFAGbq3/H1pn/Xx/7K1aVZurf8fWmf9fH/ALK1aVABRRRQAUUUUAFFFFABRRRQAUUUUAFFFFABRRRQAUUUUAFFFFABRRRQAUUUUAFFFFABRRRQAUUUUAFFFFABRRRQAUUUUAFFFFABRRRQAUUUUAFFFFABRRRQAUUUUAFFFFABRRRQAUUUUAFFFFABRRRQAVm+Iv8AkC3P/Af/AEIVpVm+Iv8AkDXP/Af/AEIUAaVFFFABRRRQAUUUUAFFFFABRRRQAUUUUAFFFFABRRRQAUUUUAFZtn/yHNR/65xf+zVpVm2f/Ic1H/rnF/7NQBpUUUUAFFFFABRRRQAUUUUAFFFFABRRRQAUUUUAFFFFABRRRQAUUUUAFFFFABRRRQAUUUUAFZmtff07/r7T+TVp1ma19/Tv+vtP5NQBp0UUUAYWn/8AH5F/vf8AsprdrC0//j8i/wB7/wBlNbtABWV4ijElnApJANxGMqcHlsVq1ma9/wAe9t/18xf+hCgBf7Ch/wCfi7/8CG/xo/sGH/n4u/8AwIb/ABrSooAzf7Bh/wCfi7/8CG/xo/sGH/n4u/8AwIb/ABrSooAzf7Bh/wCfi7/8CG/xo/sGH/n4u/8AwIb/ABrSooAzf7Bh/wCfi7/8CG/xo/sGH/n4u/8AwIb/ABrSooAzf7Bh/wCfi7/8CG/xo/sGH/n4u/8AwIb/ABrSooAzf7Bh/wCfi7/8CG/xo/sGH/n4u/8AwIb/ABrSooAzf7Bh/wCfi7/8CG/xo/sGH/n4u/8AwIb/ABrSooAzf7Bh/wCfi7/8CG/xo/sGH/n4u/8AwIb/ABrSooAzf7Bh/wCfi7/8CG/xo/sGH/n4u/8AwIb/ABrSooAzf7Bh/wCfi7/8CG/xo/sGH/n4u/8AwIb/ABrSooAzf7Bh/wCfi7/8CG/xo/sGH/n4u/8AwIb/ABrSooAzf7Bh/wCfi7/8CG/xo/sGH/n4u/8AwIb/ABrSooAzf7Bh/wCfi7/8CG/xo/sGH/n4u/8AwIb/ABrSooAzf7Bh/wCfi7/8CG/xo/sGH/n4u/8AwIb/ABrSooA5/UdIjhuLACa4YPNtO6Zjj5TyPQ1e/sGH/n4u/wDwIb/GjVv+PrTP+vj/ANlatKgDN/sGH/n4u/8AwIb/ABo/sGH/AJ+Lv/wIb/GtKigDN/sGH/n4u/8AwIb/ABo/sGH/AJ+Lv/wIb/GtKigDN/sGH/n4u/8AwIb/ABo/sGH/AJ+Lv/wIb/GtKigDN/sGH/n4u/8AwIb/ABo/sGH/AJ+Lv/wIb/GtKigDN/sGH/n4u/8AwIb/ABo/sGH/AJ+Lv/wIb/GtKigDN/sGH/n4u/8AwIb/ABo/sGH/AJ+Lv/wIb/GtKigDN/sGH/n4u/8AwIb/ABo/sGH/AJ+Lv/wIb/GtKigDN/sGH/n4u/8AwIb/ABo/sGH/AJ+Lv/wIb/GtKigDN/sGH/n4u/8AwIb/ABo/sGH/AJ+Lv/wIb/GtKigDN/sGH/n4u/8AwIb/ABo/sGH/AJ+Lv/wIb/GtKigDN/sGH/n4u/8AwIb/ABo/sGH/AJ+Lv/wIb/GtKigDN/sGH/n4u/8AwIb/ABo/sGH/AJ+Lv/wIb/GtKigDN/sGH/n4u/8AwIb/ABo/sGH/AJ+Lv/wIb/GtKigDN/sGH/n4u/8AwIb/ABo/sGH/AJ+Lv/wIb/GtKigDN/sGH/n4u/8AwIb/ABo/sGH/AJ+Lv/wIb/GtKigDN/sGH/n4u/8AwIb/ABo/sGH/AJ+Lv/wIb/GtKigDN/sGH/n4u/8AwIb/ABo/sGH/AJ+Lv/wIb/GtKigDN/sGH/n4u/8AwIb/ABo/sGH/AJ+Lv/wIb/GtKigDN/sGH/n4u/8AwIb/ABo/sGH/AJ+Lv/wIb/GtKigDN/sGH/n4u/8AwIb/ABo/sGH/AJ+Lv/wIb/GtKigDN/sGH/n4u/8AwIb/ABo/sGH/AJ+Lv/wIb/GtKigDN/sGH/n4u/8AwIb/ABo/sGH/AJ+Lv/wIb/GtKigDN/sGH/n4u/8AwIb/ABo/sGH/AJ+Lv/wIb/GtKigDN/sGH/n4u/8AwIb/ABo/sGH/AJ+Lv/wIb/GtKigDN/sGH/n4u/8AwIb/ABo/sGH/AJ+Lv/wIb/GtKigDN/sGH/n4u/8AwIb/ABo/sGH/AJ+Lv/wIb/GtKigDN/sGH/n4u/8AwIb/ABo/sGH/AJ+Lv/wIb/GtKigDN/sGH/n4u/8AwIb/ABo/sGH/AJ+Lv/wIb/GtKigDN/sGH/n4u/8AwIb/ABqhrmjxW+lzyCa5cjHyvMxH3h2zXQ1m+Iv+QLc/8B/9CFAB/YMP/Pxd/wDgQ3+NH9gw/wDPxd/+BDf41pUUAZv9gw/8/F3/AOBDf40f2DD/AM/F3/4EN/jWlRQBm/2DD/z8Xf8A4EN/jR/YMP8Az8Xf/gQ3+NaVFAGb/YMP/Pxd/wDgQ3+NH9gw/wDPxd/+BDf41pUUAZv9gw/8/F3/AOBDf40f2DD/AM/F3/4EN/jWlRQBm/2DD/z8Xf8A4EN/jR/YMP8Az8Xf/gQ3+NaVFAGb/YMP/Pxd/wDgQ3+NH9gw/wDPxd/+BDf41pUUAZv9gw/8/F3/AOBDf40f2DD/AM/F3/4EN/jWlRQBm/2DD/z8Xf8A4EN/jR/YMP8Az8Xf/gQ3+NaVFAGb/YMP/Pxd/wDgQ3+NULbR4m1a9j865ARIyGEzZOc9TnmuhrNs/wDkOaj/ANc4v/ZqAD+wYf8An4u//Ahv8aP7Bh/5+Lv/AMCG/wAa0qKAM3+wYf8An4u//Ahv8aP7Bh/5+Lv/AMCG/wAa0qKAM3+wYf8An4u//Ahv8aP7Bh/5+Lv/AMCG/wAa0qKAM3+wYf8An4u//Ahv8aP7Bh/5+Lv/AMCG/wAa0qKAM3+wYf8An4u//Ahv8aP7Bh/5+Lv/AMCG/wAa0qKAM3+wYf8An4u//Ahv8aP7Bh/5+Lv/AMCG/wAa0qKAM3+wYf8An4u//Ahv8aP7Bh/5+Lv/AMCG/wAa0qKAM3+wYf8An4u//Ahv8aP7Bh/5+Lv/AMCG/wAa0qKAM3+wYf8An4u//Ahv8aP7Bh/5+Lv/AMCG/wAa0qKAM3+wYf8An4u//Ahv8aP7Bh/5+Lv/AMCG/wAa0qKAM3+wYf8An4u//Ahv8aP7Bh/5+Lv/AMCG/wAa0qKAM3+wYf8An4u//Ahv8aP7Bh/5+Lv/AMCG/wAa0qKAM3+wYf8An4u//Ahv8aP7Bh/5+Lv/AMCG/wAa0qKAM3+wYf8An4u//Ahv8ap3+mR2c+nuss7k3SDEkrMOhPQ/St6szWvv6d/19p/JqANOiiigDC0//j8i/wB7/wBlNbtYWn/8fkX+9/7Ka3aACszXv+Pe2/6+Yv8A0IVp1ma9/wAe9t/18xf+hCgDTooooAKK8++LfwC8B/HWHTIvHGhf23HprSNaD7ZcW/lmQKH/ANVImc7F656cV8eT/sp/C3x5+09b+CvAvhf+x/DvgxY7/wAU6pHqF1O0878w2KeZKwXOMswGeHGQV5AP0Eory34rfsw/DP4365aav418Nf21qNrbi0hm+33MG2IMzbcRSqD8zMckZ5r5e+BP7Ofw98a/tOap4n8D+Hv7D8BfD+7Fnbzx3txOdW1ZDuZ90sj4ji44XG75DyGIAB950V886r+yyPiv8TvFPiD4s3a+J9AaRIfDeg2t/cxW1jbgEM8iLszMxwScsOvP3ccp+zlJqfhH4vfGr4aeEdVl1bwn4fht5dG/tW4e4i0y8liJa18w5Yxh85Xkjyz/ABbiQD6xor5X0X9ifwtN4GudX+LGp3eu+P5I5rvUfFqavcp9jbLMGgyUVEjXBAKY4PGMAcF4d+P3jiP9hzw5fvq8g8W+INaXwppXiG7yJGR53RblieSwjSQbjzlQxyc5APuWivg6z8E/s86tq2l6L8P/AIrXXh/4rJcx/ZvGRuru4e/nVx5iu0jLbz+ZyNqtjLADIyp+7oVkWFBK6yShQHZV2gnHJAycfTNAD6KKKACiiigAooooAKKKKACiiigAooooAKKKKACiiigDN1b/AI+tM/6+P/ZWrSrN1b/j60z/AK+P/ZWrSoAKKK+T/wBrTXdN8M/tJfs26nrGoWulabbXurvPeX0ywwxL5VsMs7EBRkjqe9AH1hRXk/ir9oj4VXHhjV4ovib4OllezmVUTX7QsxKEAAeZya4H9gvVLPQ/2MvCOo6hcxWVhaJqU9xczsFjijW9uCzMT0AAJz7UAfS1FfPK/tveCmtf7W/4Rvxsvg3zNn/CYNoEn9lbd23zPMzv2Z4zs9utelfET43eEfhj4NsPEur6iZ9P1J4otNTTozczahJIN0aQImd5YcjHGO9AHeUV4b4f/a58Nah4z0bwzrvhbxl4E1DWpfI0yTxVo/2SG8lOMRo4dvmJIGDjkgdSK6H4pftEeG/hb4g07w5LYa14n8U38JuYNA8N2JvLzyQSDKy5UKmQeWYdD6GgD1Givjv4Y/E7Svit+3tPqml22o6e9r8P3srzT9XtGtbu0uFv1ZopI26Ha6HgkYYc19iUAFFfn9+xP+yT8KPi98CbLxH4u8Kf2trMt/dQvc/2jdw5VJMKNscqrwPavqnwR+zx8NvgToPimTwj4fk0S31OzK6gYb2e4eSONJMbfOkcAgO+MY680AesUV80fCr4vfDr4H/sh+E/FOlxeI5PAkcrW1t/aSW76gvmXkiFpQjLHgOWPyn7uOCa7vwz+0v4c17QPEHiG90XxL4X8M6PaLfNrfiDS2tbW7gYna9uclpN2MhdoY7l4+YZAPXKK8BsP2zvCT3mknWfDHjTwno2rTJb2PiDX9Ea30+d3/1eJQ7FQ3UFlAxzwMmvPPFfxu1XTf27tP03/hGfGd9pVn4aeyTTbW1V0kle7w2oRxmUAwbQqGXhvkI28UAfYNFFfD2mfAbwL8dP21vjpb+OND/tuHTodJktV+1z2/ls9pGGOYnTOQo656UAfcFLXw98cvhL4e/ZG1/4a+K/hQ994dvtQ8S22kXmgJqM9xBqdvKGLhkldiSNoXPQGQHhgpr6l8L/ABk0XxT8UPFvgGO1v7HX/DcdvPOLyNFjuYZl3LLAVdiyjKg7gpBYDHXAB3lFeX678f8ASdJ8deJfCNjoHiDxHrPh/SYtWvY9FtY5hiRwscChpFYzMDvC4xtBO7tXyR8LviZqfjb9gP4iWWr6d4inv4dN1G6m8RapHutb5pJ3JWOYuWd16MCBjHegD9B6K+Tvht+2L4S8G/BvwWbnw74xvPD+m6PY2V74ostDd9Lt5UhjjkDSkgkK4KkqrDIwCa928ffG7wd8NfAdp4v1nVlGi3wi+wNaoZpL5pV3RJCi8uzDkY7cnAGaAO7orxTwr+1h4Y1zxZpXhzWvD3izwFqWrts0z/hLtJNlHfPx8kbhmG7kfK2DkgdSAZ/H37VPhL4d/ES58EX2na9qHiRLOK8trLSbD7VJfeYWAjhRW3FwEZjuCqAPvdqAPZKK8t+E37RXhz4t+INX8PW+n634a8T6VGs91oXiSx+yXiRMQBKF3MCuSvIP8S+oz6lQAUVDd/8AHrN/uN/Kvgf9in9kX4TfFz9n7RvEvizwp/aut3FzdRyXX9o3cO5UmZVG2OVVGAB0FAH39RXyB8K9GX4C/tlzfDDwjqV9deBtW8Nf2vLot1dvcppVwsjKChckqCFHBOT5oznC16brn7XPhqz17WNL8P8AhXxn4+bR52tdQu/CmjG7traZfvRmQuoLDuFzQB7lRXk+mftNeC9c+CusfE/TJL6/0DSUlN7bRwBLyGSPG+Jo3ZQHAZTgtjBBzzXT3/xS0rT/AIRy/EWS3vDokei/26bdUT7T5Hk+dt27tu/bxjdjPfvQB2NFfJf7QXjCz+IV7+y94n06KeGw1jxXYX9vHdKqyrHJGrqHCkgNgjOCR7mvrSgAor4t+Knwj8J/Gj9vyHQPGWlf2xpKeBVult/tE0GJVu2CtuidW4DtxnHNVfi18JPDH7L/AI7+F9/8H5bzQvEmreJLfTbrw1Dqc9xFqNk4bzmkikdjtXCjd0XfnggEAH25RXnnxY+Onhr4PNpNrqqajqmtau7R6boei2bXd9eFQC2yNewBGSSBXP8Aw+/ai8NeOvHkfgu80LxN4L8UXEDXNppvirTPskl3GoJZoiGZWwAT16KfQ0Aex0V4Rrv7YXhfSPG/iLwhZ+GPGHiPxDoU4iu7HQdJF2/l7FYzjbJxGNyrltrEnAU1Fqf7ZHhey8Xa74Ws/CfjTXfEWjSql3puj6Qt1KqGNXMuFk4Rd6qd2CWOADQB75RXn3g341aN4z+I3ifwPHYanpfiDw/BbXU8OpRRos8UybleIq7FguVDZAwWA55xZ0/4vaPq3xe1b4dWltfT6vpOmxalfXixp9kgEjARws2/d5rA7wNuNvOe1AHcUUUUAFFFFABRRRQAUUUUAFFFFABRRRQAVm+Iv+QLc/8AAf8A0IVpVm+Iv+QLc/8AAf8A0IUAaVFFFABRXlf7QHw18U/FjQ9F8PaF4gHh3RJtRjfxBLBM8V3cWI+9BC6qdpbvnHQDoSD86WujeCPh/wDtGfDvRvgBqEk1497JF4u0vStRmvbBbBcB5Lks7qsqnIXkHdgHkjIB9v0UUUAFFFFABRRRQAUUUUAFFFFABRRRQAUUUUAFZtn/AMhzUf8ArnF/7NWlWbZ/8hzUf+ucX/s1AGlRRRQAUV8y/Ej4F6D4g8deKvG/x38R2Fz4HhMNv4e0ubVZrOzsEwQ7yAFAZnbGMMep9FxV/Y81DXr3wz8S7fw7fXep+BbfUpIvA2oa80rB49jBlDsN7W6yBADz/F3BFAH1JRXyvov7E/habwNc6v8AFjU7vXfH8kc13qPi1NXuU+xtlmDQZKKiRrggFMcHjGAOv/Yh8ceIPiB+zroGqeJLubUrxJri1h1K4B8y8gjlZI5WJ5JwNuTyduTk5NAHvNFeAftseOtf8F/CPT7Pw3qD6NqfiXXLPw+NUjOHs0n3l5FP8Jwm3PUbsgg4NecfHD9n/wAPfsyfCG7+I3w6u9S0Pxh4aa3uZdRm1GaYauDMiSR3aMxRw+8nhRg4xgUAfY1FfFX7ZXj7wd42X4C6X4xulsfBWv3Z8RaortJxbx2wKITF8+X89kG3nPTFdR+zn4B/Zb1Dx9DrHwrgt/8AhLdHWSSNJL3UUuIldGjdhBcuNy7ZCM7SBuHQ4oA+raKKKACiiigAooooAKKKKACiiigAooooAKKKKACiiigArM1r7+nf9fafyatOszWvv6d/19p/JqANOiiigDC0/wD4/Iv97/2U1u1haf8A8fkX+9/7Ka3aACszXv8Aj3tv+vmL/wBCFadZmvf8e9t/18xf+hCgDTooooAxPG3iiDwT4N17xFdDdbaTYT38i5xlYo2cj8lrxP8AYV8Iz6R8CrXxPqZ87xF4zvJ/EOo3LD5pGmc+Xz6bArY9Xb1r3LxV4X0zxt4b1PQNatvtmk6lbva3duJHj8yJxhl3IQwyD1BBp/hrw7p3g/w7pehaRbCz0rTLaOztLcOz+XFGoVF3MSxwAOSST3JoA4L9pz4iS/Cv4B+NvE1tIYb2109o7WQHBSeUiGJh9HkU/hTP2YfhtF8J/gP4O8PrGEu1sUur1sctczDzJST3wzFRnso9K6z4jfDfw58WfCd14a8V6f8A2rol00bzWvnyw7yjB1+aNlbhgD17V0qqEUKo2qBgAdqAPnL4ufGTxV488fXnwi+EJji8QQRqfEPiuYbrfQonH3UH8dwR0HY+4Yp6Z8H/AIQ+GvgB4DOkaU7eUpa81LVr5wZryYjMk8znvx9ABXEeIP2GPgj4q17Uda1XwU15qeo3Ml3dXDavfKZJZGLO2BOAMsScAAVseDf2RvhP8PrHxDZ+H/Cradb+ILB9M1JV1O8cz2zfejy0xK5z1Ug+9AHlFxqPiH9uTUriw0ua58NfAizuTDdahHmO88TOjfNHH3jt8jBPU/XKov7f3w60+1/Zt8O2un6Z9n8MeF9csLm5s7JCBFYqkkDBQOePOXn8a6//AId8/AH/AKEL/wArGof/AB+vVfAPwc8G/DHwXN4R8OaHFZ+HJmkeXT55ZLqOTzBhw3nM5IIGCCce1AHif7aMngm4/ZBvza/2fJYSRWg8NCxC4M/mJ5P2YL325+7/AA7u2a+hPBKalH4M0BNZLNrC6fbi9ZjyZ/LXzM++7Nee+F/2SfhF4M8UQeIdI8EWNtqtvIZreR5ZpY4HJzujidzGhzyCqjGOK9doAKKKKACiiigAooooAKKKKACiiigAooooAKKKKACiiigDN1b/AI+tM/6+P/ZWrSrN1b/j60z/AK+P/ZWrSoAK+T/2tND03xN+0l+zbpmsafa6rptze6uk9nfQLNDKvlWxwyMCGGQOo7V9YVy3ib4Y+GvGPirwx4k1jTftmteGpJpdKuvPlT7M0oVZDtVgr5CL98HGOMUAch4q/Z3+FVv4Y1eWL4ZeDopY7OZkdNAtAykISCD5fBr5V8N2Op6h/wAEmbiLSVke6FvcyusWd3kJq7vN+HlK+fYGvvy8tIr+0ntp08yCZGjkXJGVIwRkexrA8A/Dfw58MfBtn4T8Naaun+H7QSCGyaWScKJHZ3BaRmYgs7HknrjpQB8vaf4R8Zat+zzDq037Q2i23w4m0ERy7vBdsYorQw7GhOJ87guU2gbtwxjPFQTeMIfhN8KfgH4J8IxaH8RvEGuSSp4b8TeKLB7O0tkRg6z+W2ZEbbLGqhWBIXI6gH2Nv2MPgq+tHVD4A0/zzL55txLMLTf6/Zt/k/hsxXdfEL4Q+Dfit4eg0PxX4es9Y0y3YPBDIChgIGAY3Qhk44+UjjigD45/aS/4WDpfjb4L23xB8eeHdTvZvG2m3Fv4d0LTPI8pVkw1wZXcyFQWCYIAO/PVa9Y+G9xBov7d3xdttadYdT1jR9Ln0IzHaZrSOILOsWeuJF5A7ox7Gu8sP2QfhBpmnpZ23gq2iCXcN8t0Lq4N0JojmNvtBk83AP8ADux7V1XxO+CXgf4yW9pF4x8PW+smzYtbTs7wzw567JY2V1BwMgNg4FAHiOk6poupf8FHNUTSpYZrq18Am31IwkHFyLyM7Wx/EI2i/DA7V9TV5v4B/Z1+HPwv8QQ654V8L2+jarFYNpguIJpSWgaUSsHDOQ7FwDvYF8ADdgYr0igD8/v2J/2SfhP8XvgTZeI/FvhT+1tZlv7qF7n+0buHKpJhRtjlVeB7V9c+H/hH4T+C/wALfEGgeDdJ/sfSZIbm7a3+0zT5laLazbpXZuQi8ZxxW/8ADf4Y+GvhF4Xj8O+EtN/snRo5XmW28+WbDucsd0jM3J966O8s4tQs57W4TzIJ42ikXJGVYYIyOehoA/O3XYln/wCCWfg+JxlHv4lYex1OUV9m/tFaf4MvPgh4osPHd7Jo/hCW1WG7vLaN2e2BkQRuqorHKvsx8pHHPFSzfs9fD+4+Ftl8OZNA3eDbOQSwab9suPkYSmUHzPM8w/OxPLd8dOK7vVtJstd0y607UbSG+sLqJoZ7W4QPHKjDDKynggjsaAPib4kr8U/gD8KU8Q6n4w8I/Gv4WWgtWXTvEunolxNCXQRGJxuWRhlSGZmPGQDjFeh/2gNS/b+8MXvlSWwu/hn5qwzDDruvXbaR6gHke1dzoP7G3wa8N65b6tY+BbMXdtL50K3FzcTwRPnIZYZJGjBB5GF4rqviJ8B/AnxW1nSdX8UaCuoarpR/0O9iuZraaIbt2N8TqSM84JI5PqaAO+r4e0z4R/8AC2f21vjpB/wmni/wb9ih0l/M8Jar9hefdaRjEp2NuAxx6ZNfcNctofwx8NeHPHHiHxhp2m/Z/EfiBYU1K88+VvPESBIxsZii4UAfKoz3zQB5t4J/ZB8IeFfGmn+LNV1vxV491/TTusLzxhq7XxtG/vRjaoz6Eg4OCMEA1yn7RUsXwb+Pvwy+LzOLXR7pn8J+Ipjwq282Xt5Hx0VJAxLH+6or6dr5o/aubxB8XrWX4MaL4G1uZdZns3u/FlxaqNKsrZZUlkkWbdzKuzbswDzxnpQBpfsZ6Pdav4R8SfE/VoWi1j4hatLqwWT78VkpMdpF9FQEj2cV4j8JSP8Ah174nXPzLY6sGHoftEnFfcuh6LZ+G9E0/SdOhFvYWFvHa28K9EjRQqqPoABXm+n/ALLfwv0lPFMdj4WWzg8UQPbatb297cpDcRu25gIxJtj57xhSOgNAHIX1hb2/7ANzbxwosK/DVmCAcZ/swtn655z6814jJeQaPY/sV654gdY/ClraGCe4uDiCG7ezhFqzk8DDLkE9NjGvtOXwHoU3gF/Bb2O7wy+mHR2sfOk5tDF5Xl792/7nG7du75zzVGb4S+ELr4d23gS50G1vfCVtbR2kOmXm6dEjQAINzktlcDDZ3AjOc0AeFf8ABQS7tbz4TeH9CtJEk8Xan4isBoMEZBnM4k5kQdcBSQW6DeB3FT6DaxTf8FEvEszxq0sPgOHy2YZK5uowSPQ44/E16T8Pf2X/AIXfC3XV1rw14QtbLVo12RXk8011JCuMYjMzv5fBI+XHBIrrbf4b+HLX4hXfjmLTtnim6sF0ya/8+Q7rZXDhPL3bB8wByFz70AeG3SiP/govZlBtMnw3JfH8X/Ewcc/kPyr6CtvFmh3niK78P2+s6fPr1nEs9zpcd1G11DG2NrvEDuVTuXBIwcj1rPk+G/hyT4jR+O207PiuPTf7IXUPPk4tfMMnl+Xu2ffJO7bu7ZxxXH+H/hW1h+0h4q+IC6dHYQX2i22mG4+0mSS/lDBmkKZIjVESKMDALEMcdCQD1C7/AOPWb/cb+VfA/wCxT+ziPiN+z9o2uH4ofEjwwJrm6T+zfDniD7JZJtmZcrH5ZwTjJ55JNffjqJFZWGVYYNc18N/hp4b+EfhS38NeE9N/srRbd3kitfPlm2s7FmO6RmY5JJ5NAHK/B/8AZ08IfBO71TU9I/tHVdf1MAX2u63dtd31wo5Cs5AwMgHAAzgZzgY8P+EPxA+JPxo8K6r4k+HR8A/CjwAb+4CmWwa4vtyn95POiskKsRgndz6kjBP2DXjeqfse/BzWvElxrt34EsZL+5l8+dVlmS3lfOSzwK4ibJ5OV5JNAHyp8JppNY/Y5/abli1NfEDy69q1wdShhWJbtfKhYziNeEDAF9o4AOO1e6eMvGOjWf8AwT3e/l1G3W1uvAkdjDJ5gw88lmIljHq287dvUEH0Ne1+D/hF4P8AAI8QJoGhW+nW+vTm41G1Rna3mcrsOImJRAV4KooBHauH0/8AY1+DOl3l7c23gSyjku4pYnUzztGiyqUcxIZCsTFSQGjCkdiKAPBPEP8AyTX9i7/sK6N/6TR19x1w1x8E/Bd1pvgvT5dG3Wng2WGfQo/tU4+xvEoWM535kwAB+83Z75ruaAPi34qfCPwn8aP2/IdA8ZaV/bGkp4FW6W3+0TQYlW7ZVbdE6twHbjOOaw/2mPgj4C/ZL8M6d8QPhXJN4O8eWt/BBY2Md/NdDU1dwskDRTO5ZduWOP7uO4r6W+KX7K3wu+NPiSPX/GXhf+2dWjt1tFuP7QuoMRKzMq7YpVXgu3OM81S8C/sd/Bz4b67b6zoHgazt9TtnEkFxdXE92YnHRkE0jhWB6EDI7UAcf8YPijr5+Ong3wL4L8MeF0+IV5oj6p/wkHilCy2FuWdHhhMYEjOSj5CtjGMgjJHluuN4ts/22vghYeNvHGj+KNchXU5G0/R9OFqmmo9qwUM29ncybTjfjATj71fVfxQ+BXgP4zLZf8Jj4ct9Ylsifs1x5kkM8WeoWWJlcDPOM4zWRoH7L3wu8K3mhXmkeELXTr3RLpr2yu7eaZZlmZdrNJIH3S5HGJCw9qAPN/2abeP/AIaa/aTuNg87+09MTfjnb5Epx+dH7NNtH/w01+0ncbB5x1PTI9+OdvkSnH517r4a+G/hzwf4k8Sa/pGnfZNW8RzRT6pcefI/2h41KodrMVTAY/dAznmjw18N/Dng/wASeJNf0jTvsmreI5op9UuPPkf7Q8alUO1mKpgMfugA55oA8I/aKli+Dfx9+GXxeZxa6PdM/hPxFN0UW82Xt5Hx0VJAxLH+6orY/Yz0e61fwj4k+J+rQtFrHxC1aXVgsn34rJSY7SL6KgJHs4rN/aubxB8XrWX4MaL4G1uZdZns3u/FlxaqNKsrZZUlkkWbdzKuzbswDzxnpX0Toei2fhvRNP0nToRb2Fhbx2tvCvRI0UKqj6AAUAXqKKKACiiigAooooAKKKKACiiigAooooAKzfEX/IFuf+A/+hCtKs3xF/yBbn/gP/oQoA0qKKKAOA+J/wAbPDvwh1TwpaeIxd28HiO//s231BI1+y282AVE7sw2BsnBwfunOAM189ftieD/AAx4D1D4a614E02w8P8AxOn8TW0OmrosKW899E5PnLKsYG+PlclgR82OjEH6p8ZeCdB+IXh+50PxJpNrrWk3GPMtbuMOhI5BHowPQjBHY1xXw5/Zk+GPwn1v+2PC/hK2sNVCGNL2aaa6liUjBEbTO5QYJHy44OKAPUKKKKACiiigAooooAKKKKACiiigAooooAKKKKACs2z/AOQ5qP8A1zi/9mrSrNs/+Q5qP/XOL/2agDSooooA8u0X4jeBfjV4q8YeAb/SUvNS8L3ax3ml6/ZxOsuQdk8SMW3IQeGIB+YcDcM+Nfs4ppfg/wDac+NWjeD547f4Z6fb2tzPDDJ/oFjqJUGVYv4UGBLuAwBsA6KAPbfiV+zj8N/i9qkGp+LPC1vqWpwp5a30c0ttOU7K0kLozKMngkgZNamk/BnwVoHw9vvA2l+H7bTPC19BLb3VhZs8PnJIu2TdIrByzLwW3bsd6APny41HxD+3JqVxYaXNc+GvgRZ3JhutQjzHeeJnRvmjj7x2+Ryep+uVT6aU+G/hf4PhR5tP8M+GdJgSFXuJUt7a1iGFUFmIVR0HJ6n3rxX/AId8/AH/AKEL/wArGof/AB+u+0v9nL4d6N8Lb/4cWfh7yfBl85kuNN+23Db2LKxPmmQyDlFPDDpQBl/tIx/DjxV8Eb3/AIT7VhaeDr427RazZ7pfJkdgYJ43jV8fMVw2NpDYPBr50/aj+GXiLQvgLPZ+Mfi/qPxAjumgs/DWgwafBZyajeO6rCZZI2Z7nYGL9QCVBOT1+zH8D6DN4Nj8Jz6Vb3fhxLNLAaddL50RgRQqo2/JbAUcnJ4znNcL4E/ZX+FXw18RRa94e8HWtnq0IIguZp5rg2+eD5QldhGcE/cA6mgDnYfFHgn4Z+OPhL8O/FGgxN4pOiJBo/iO6tIGgjkhjEbwRzsd6yHaOFGDvUZy2K4z9pSOyuv2ovgJF4eEZ8cx6pJLeta485dKCjzvOI52FfMC7v8Abx1NfQXxG+FnhP4t6GNH8X6Fa67p6v5iR3AIaN8Y3I6kMhxxlSDisj4Y/AH4f/Bye7uPCHhq20m7ul2TXjSSXFw68HaZZWZ9uQPlzjgelAHoNFFFABRRRQAUUUUAFFFFABRRRQAUUUUAFFFFABRRRQAVma19/Tv+vtP5NWnWZrX39O/6+0/k1AGnRRRQBhaf/wAfkX+9/wCymt2sLT/+PyL/AHv/AGU1u0AFZmvf8e9t/wBfMX/oQrTrL8QMFtbcsQB9pi5P+9QBqUVB9utv+fiL/vsUfbrb/n4i/wC+xQBPRUH262/5+Iv++xR9utv+fiL/AL7FAE9FQfbrb/n4i/77FH262/5+Iv8AvsUAT0VB9utv+fiL/vsUfbrb/n4i/wC+xQBPRUH262/5+Iv++xR9utv+fiL/AL7FAE9FQfbrb/n4i/77FH262/5+Iv8AvsUAT0VB9utv+fiL/vsUfbrb/n4i/wC+xQBPRUH262/5+Iv++xR9utv+fiL/AL7FAE9FQfbrb/n4i/77FH262/5+Iv8AvsUAT0VB9utv+fiL/vsUfbrb/n4i/wC+xQBPRUH262/5+Iv++xR9utv+fiL/AL7FAE9FQfbrb/n4i/77FH262/5+Iv8AvsUAT0VB9utv+fiL/vsUfbrb/n4i/wC+xQBPRUH262/5+Iv++xR9utv+fiL/AL7FAFTVv+PrTP8Ar4/9latKsfVLyBrrTis8ZCz5OHHHytWj9utv+fiL/vsUAT0VB9utv+fiL/vsUfbrb/n4i/77FAE9FQfbrb/n4i/77FH262/5+Iv++xQBPRUH262/5+Iv++xR9utv+fiL/vsUAT0VB9utv+fiL/vsUfbrb/n4i/77FAE9FQfbrb/n4i/77FH262/5+Iv++xQBPRUH262/5+Iv++xR9utv+fiL/vsUAT0VB9utv+fiL/vsUfbrb/n4i/77FAE9FQfbrb/n4i/77FH262/5+Iv++xQBPRUH262/5+Iv++xR9utv+fiL/vsUAT0VB9utv+fiL/vsUfbrb/n4i/77FAE9FQfbrb/n4i/77FH262/5+Iv++xQBPRUH262/5+Iv++xR9utv+fiL/vsUAT0VB9utv+fiL/vsUfbrb/n4i/77FAE9FQfbrb/n4i/77FH262/5+Iv++xQBPRUH262/5+Iv++xR9utv+fiL/vsUAT0VB9utv+fiL/vsUfbrb/n4i/77FAE9FQfbrb/n4i/77FH262/5+Iv++xQBPRUH262/5+Iv++xR9utv+fiL/vsUAT0VB9utv+fiL/vsUfbrb/n4i/77FAE9FQfbrb/n4i/77FH262/5+Iv++xQBPRUH262/5+Iv++xR9utv+fiL/vsUAT0VB9utv+fiL/vsUfbrb/n4i/77FAE9FQfbrb/n4i/77FH262/5+Iv++xQBPRUH262/5+Iv++xR9utv+fiL/vsUAT0VB9utv+fiL/vsUfbrb/n4i/77FAE9FQfbrb/n4i/77FH262/5+Iv++xQBPRUH262/5+Iv++xR9utv+fiL/vsUAT0VB9utv+fiL/vsUfbrb/n4i/77FAE9ZviL/kC3P/Af/QhVv7dbf8/EX/fYrO8QXkEmkXCrNGzHbgK4J+8KANiioPt1t/z8Rf8AfYo+3W3/AD8Rf99igCeioPt1t/z8Rf8AfYo+3W3/AD8Rf99igCeioPt1t/z8Rf8AfYo+3W3/AD8Rf99igCeioPt1t/z8Rf8AfYo+3W3/AD8Rf99igCeioPt1t/z8Rf8AfYo+3W3/AD8Rf99igCeioPt1t/z8Rf8AfYo+3W3/AD8Rf99igCeioPt1t/z8Rf8AfYo+3W3/AD8Rf99igCeioPt1t/z8Rf8AfYo+3W3/AD8Rf99igCeioPt1t/z8Rf8AfYo+3W3/AD8Rf99igCes2z/5Dmo/9c4v/Zqt/brb/n4i/wC+xWda3kA1q/YzxhSkWDvGD96gDYoqD7dbf8/EX/fYo+3W3/PxF/32KAJ6Kg+3W3/PxF/32KPt1t/z8Rf99igCeioPt1t/z8Rf99ij7dbf8/EX/fYoAnoqD7dbf8/EX/fYo+3W3/PxF/32KAJ6Kg+3W3/PxF/32KPt1t/z8Rf99igCeioPt1t/z8Rf99ij7dbf8/EX/fYoAnoqD7dbf8/EX/fYo+3W3/PxF/32KAJ6Kg+3W3/PxF/32KPt1t/z8Rf99igCeioPt1t/z8Rf99ij7dbf8/EX/fYoAnoqD7dbf8/EX/fYo+3W3/PxF/32KAJ6Kg+3W3/PxF/32KPt1t/z8Rf99igCeioPt1t/z8Rf99ij7dbf8/EX/fYoAnoqD7dbf8/EX/fYo+3W3/PxF/32KAJ6zNa+/p3/AF9p/Jqufbrb/n4i/wC+xWfq11DNJpwSWNz9rThWB7NQBr0UUUAYWn/8fkX+9/7Ka3awtP8A+PyL/e/9lNbtABWX4gRZLW3VlDKbmMEMMj71alZmvf8AHvbf9fMX/oQoAsf2RY/8+Vv/AN+l/wAKP7Isf+fK3/79L/hVuigCp/ZFj/z5W/8A36X/AAo/six/58rf/v0v+FW6KAKn9kWP/Plb/wDfpf8ACj+yLH/nyt/+/S/4VbooAqf2RY/8+Vv/AN+l/wAKP7Isf+fK3/79L/hVuigCp/ZFj/z5W/8A36X/AAo/six/58rf/v0v+FW6KAKn9kWP/Plb/wDfpf8ACj+yLH/nyt/+/S/4VbooAqf2RY/8+Vv/AN+l/wAKP7Isf+fK3/79L/hVuigCp/ZFj/z5W/8A36X/AAo/six/58rf/v0v+FW6KAKn9kWP/Plb/wDfpf8ACj+yLH/nyt/+/S/4VbooAqf2RY/8+Vv/AN+l/wAKP7Isf+fK3/79L/hVuigCp/ZFj/z5W/8A36X/AAo/six/58rf/v0v+FW6KAKn9kWP/Plb/wDfpf8ACj+yLH/nyt/+/S/4VbooAqf2RY/8+Vv/AN+l/wAKP7Isf+fK3/79L/hVuigCp/ZFj/z5W/8A36X/AAo/six/58rf/v0v+FW6KAMTU9NtI7rTwlrCoafa22MDI2tweK0P7Isf+fK3/wC/S/4VBq3/AB9aZ/18f+ytWlQBU/six/58rf8A79L/AIUf2RY/8+Vv/wB+l/wq3RQBU/six/58rf8A79L/AIUf2RY/8+Vv/wB+l/wq3RQBU/six/58rf8A79L/AIUf2RY/8+Vv/wB+l/wq3RQBU/six/58rf8A79L/AIUf2RY/8+Vv/wB+l/wq3RQBU/six/58rf8A79L/AIUf2RY/8+Vv/wB+l/wq3RQBU/six/58rf8A79L/AIUf2RY/8+Vv/wB+l/wq3RQBU/six/58rf8A79L/AIUf2RY/8+Vv/wB+l/wq3RQBU/six/58rf8A79L/AIUf2RY/8+Vv/wB+l/wq3RQBU/six/58rf8A79L/AIUf2RY/8+Vv/wB+l/wq3RQBU/six/58rf8A79L/AIUf2RY/8+Vv/wB+l/wq3RQBU/six/58rf8A79L/AIUf2RY/8+Vv/wB+l/wq3RQBU/six/58rf8A79L/AIUf2RY/8+Vv/wB+l/wq3RQBU/six/58rf8A79L/AIUf2RY/8+Vv/wB+l/wq3RQBU/six/58rf8A79L/AIUf2RY/8+Vv/wB+l/wq3RQBU/six/58rf8A79L/AIUf2RY/8+Vv/wB+l/wq3RQBU/six/58rf8A79L/AIUf2RY/8+Vv/wB+l/wq3RQBU/six/58rf8A79L/AIUf2RY/8+Vv/wB+l/wq3RQBU/six/58rf8A79L/AIUf2RY/8+Vv/wB+l/wq3RQBU/six/58rf8A79L/AIUf2RY/8+Vv/wB+l/wq3RQBU/six/58rf8A79L/AIUf2RY/8+Vv/wB+l/wq3RQBU/six/58rf8A79L/AIUf2RY/8+Vv/wB+l/wq3RQBU/six/58rf8A79L/AIUf2RY/8+Vv/wB+l/wq3RQBU/six/58rf8A79L/AIUf2RY/8+Vv/wB+l/wq3RQBU/six/58rf8A79L/AIUf2RY/8+Vv/wB+l/wq3RQBU/six/58rf8A79L/AIUf2RY/8+Vv/wB+l/wq3RQBU/six/58rf8A79L/AIUf2RY/8+Vv/wB+l/wq3RQBU/six/58rf8A79L/AIUf2RY/8+Vv/wB+l/wq3RQBU/six/58rf8A79L/AIUf2RY/8+Vv/wB+l/wq3RQBU/six/58rf8A79L/AIVn69ptpDpNw8drCjjbhljAI+Ye1bdZviL/AJAtz/wH/wBCFAE/9kWP/Plb/wDfpf8ACj+yLH/nyt/+/S/4VbooAqf2RY/8+Vv/AN+l/wAKP7Isf+fK3/79L/hVuigCp/ZFj/z5W/8A36X/AAo/six/58rf/v0v+FW6KAKn9kWP/Plb/wDfpf8ACj+yLH/nyt/+/S/4VbooAqf2RY/8+Vv/AN+l/wAKP7Isf+fK3/79L/hVuigCp/ZFj/z5W/8A36X/AAo/six/58rf/v0v+FW6KAKn9kWP/Plb/wDfpf8ACj+yLH/nyt/+/S/4VbooAqf2RY/8+Vv/AN+l/wAKP7Isf+fK3/79L/hVuigCp/ZFj/z5W/8A36X/AAo/six/58rf/v0v+FW6KAKn9k2P/Plb/wDfpf8ACs+1020bWL9DawlFSIqpjGBndnHFbdZtn/yHNR/65xf+zUAT/wBkWP8Az5W//fpf8KP7Isf+fK3/AO/S/wCFW6KAKn9kWP8Az5W//fpf8KP7Isf+fK3/AO/S/wCFW6KAKn9kWP8Az5W//fpf8KP7Isf+fK3/AO/S/wCFW6KAKn9kWP8Az5W//fpf8KP7Isf+fK3/AO/S/wCFW6KAKn9kWP8Az5W//fpf8KP7Isf+fK3/AO/S/wCFW6KAKn9kWP8Az5W//fpf8KP7Isf+fK3/AO/S/wCFW6KAKn9kWP8Az5W//fpf8KP7Isf+fK3/AO/S/wCFW6KAKn9kWP8Az5W//fpf8KP7Isf+fK3/AO/S/wCFW6KAKn9kWP8Az5W//fpf8KP7Isf+fK3/AO/S/wCFW6KAKn9kWP8Az5W//fpf8KP7Isf+fK3/AO/S/wCFW6KAKn9kWP8Az5W//fpf8KP7Isf+fK3/AO/S/wCFW6KAKn9kWP8Az5W//fpf8KP7Isf+fK3/AO/S/wCFW6KAKn9kWP8Az5W//fpf8KP7Isf+fK3/AO/S/wCFW6KAKn9kWP8Az5W//fpf8KoapYWtvNpzRW0MTfakG5EAPRvStqszWvv6d/19p/JqANOiiigDC0//AI/Iv97/ANlNbtYWn/8AH5F/vf8AsprdoAKzNe/497b/AK+Yv/QhWnWZr3/Hvbf9fMX/AKEKANOiiigDI8WeLtF8C+H7vXPEOp22j6RaLumvLuQIiAnAGe5JIAA5JIArhfhz+098MPizrn9i+FvFttqGrFDIlnLBNbSSqBkmNZkTzAACflzwCeleb/t82Nsfhb4a1i6vbHZoXiWz1QaJqDME1rZvH2NVVWLO4Y4GCMBs+o838dfEofHT46fBLT7vwhrHwrn0vVU1WPU/F9obOa8CbSbG1IyH8w4BDMvb5c8EA+uviF8TPC3wp8Ptrfi3W7XQ9MDiMTXLHLuQSERQCztgE4UE4BPasT4YftAfD74yz3dv4P8AEtvq13aLvns2jkt7hFyBuMUqq+3JA3YxyPWvE/2zbuDwl8S/gx41kji8RzaLqVzHF4NUNJeakZkRRLbRBW3SREBucDOzkHrg+GfGSfGX9trwprM2g33w2vPD2i3Q/s/xNbm01PXVlR1CogyrxxZL/fJ4PHXAB9f61rNj4d0i91TU7qOy06yhe4uLmY4SKNQWZifQAGqvhLxXpXjrwzpniDQ7r7bpGpQLc2tx5bx+ZGwyrbXAYfQgGvBv2uPhT4g+Ivg/xfean4pksfAej+H7q/i8P6chjkvr2KGSRXuZepiVlQiMcEjJ6Cug/Z5h1q5/ZB8ExeHLm1s9ek8NwrZXF8heGKUx4VnUckA8474oA9NuPiJ4dtvHtr4Kk1SMeKLqyfUYtOVHZ/s6sFMhIG1Rk4AYgnBwDg1B8Rfin4T+EuhjV/F+u2mhWDP5aSXDEtK+M7URQWc45woJxXyt8OfhfN8L/wBu7SYNQ8QX3irXtU8FT6jqmsX+A1xcNdFDsQcRxhY0VUHAAr6V8T/BXw/4w+KPhjx3qrXV3qfh2CWHT7OR0a0RpPvSmMqT5g4wwYY2rxkUAQfDH9ob4d/GK+ubLwj4nt9Uv7ZPMlsnilt7hV4G7ypVVivI5AwMj1r0Wvk/4lXll8Rv22fhnYeDo1n1rwdHd3XifVrUfLb28iBY7WVx95idw2np5n+9j6woAKKKKACiiigAooooAKKKKACiiigAooooAKKKKACiiigDN1b/AI+tM/6+P/ZWrSrN1b/j60z/AK+P/ZWrSoAK86+Ln7QngD4E/wBlDxzr/wDYf9qeb9j/ANDuLjzfK2eZ/qo3xjzE64znjODXotfIX7ZnjbRfhz+0F+zv4k8RXv8AZ+i6fdavJc3XlPL5amK2UHaisx5I6A0Adr/w8G+AX/Q+/wDlG1D/AOMV6lqHxm8HaXpvgy/udY8q08YzW9vocn2WY/a5J0DxDATKblIOX2gd8V5b/wAPBfgD/wBD7/5R9Q/+MVpftEfECPw34g+DKw6Foeuxa54stLNLjWLIzyWauMie2JI8qYdmwcelAHu1FfOHjr48/EaH9oy/+Ffgrw9oeqTHRIdUgvtVklhjtMuVkknZCS6D5FVEUMWf72BVv4ffGn4i3HxQ8SfCvxrpPhyz8bQaG2t6NqmktO2m3UZby18xHPmLiQjODkhXxjAJAO9vv2ifh3p/xIi8AyeJIpPFskqQf2db200xSR/uq8iIUQ8jhmGO9dFefEzwfp9vrU914r0O2g0WRIdUlm1GFFsJHbaiTkt+6ZiQAGwSelfIn7Kl38S9H8cfHDVblvCUlla+IdQk13yoLnz5LyOF2QWxL4EIfbxJltpbnJr2r9n+TRPjd+z/AGvi7xH4M8L/AG7xYj3etWtvpSfZr2WGeRY2lR9xkI8tSC5Yg8jFAHrninxlo3gvwpf+JdYvVtdDsbc3VxeKjShYgMlgEBZhj+6DVvQdcsvE2h6drGmzfadO1C2ju7abYyeZFIodG2sARlSDggH1r5Vuvirqnxq/4J3+J/F2s2dhYahe6NqEb2+lxPHbosU0kShFZmI+VB3656dKz/CfxW+OXhH9nLw74207wl4R/wCEM0Xw9aztpd9d3B1W5s4YFDXCuoESbkUyBSGIU9zwQD7Jor5v+Mn7UWteFfA/wk8SeC9CtdZ/4Tq8toItP1Assh+0Qh4kV1YBG3sqliGA54pvxY+MHxb+CPwU1DxP4ntfBl14gXVrS1tYtJju3tPs8rKrFw7q28EsBg44BxzgAH0lRXkv7VHxa1j4H/A3xB4z0K2sbvVNPe2WKHUY3eA+ZcRxNuCOrfdc4ww5x9K5T42fH7xn4E+LXw+8F+FPDum+ILrxVY3TpDdyPCUnQAhzIGwsSrvdhsZiFwME5oA+haK+d/Dfxq+JPg/42eGPh98UdI8Msniq3uZNI1fwtJcCNZYE3yRSpNliduPmGB8y+p2uv/jV8R/iR8SPFPhr4S6P4b/szwrOLLU9e8VS3HkzXmMvbwRw/NlOjMeM9um4A+hqyPF3izSvAvhnUvEOuXX2HSNNga5urjy3k8uNeS21AWP0AJrxT9nv4+eM/iZ8VviH4P8AF/hzT/Ddz4Vis0Nvau8rtLIr738wtho22q6YVSFcA5PNd7+0V4i/4RL4G+N9Z/szTtZ+w6XNP/Z+r2/n2lxgfcljyNynuMigDttB1yx8T6Hp2s6ZP9p03ULaO7tZtjJ5kUih0bawBGVIOCAfWr9fMXxC/aK8QfC/4U/A/U/D/hjS7+fxYdPsn0S1jaCNfOtVZIbXD4iG8qo3bwq9jiptW+N3xc+EvjPwVF8StC8IzeF/FWqxaLHceGp7k3Gn3MufKEvnfLIODkqB91j2AIB9L15R8VP2pvhf8E/EUOheNPE/9jarNbLeR2/9n3U+YmZlDboomX7yMMZzx06V6vXyN468YaD4I/4KGaVqPiPW9O0DTz4A8r7Xql3HbRbzeSkLvcgZODxnsaAPUPBX7ZnwY+IWvW2jaJ46s5tSunEcEN1bXFp5rk4Cq00aAsTwBnJPAr2mvi/9uf4rfDP4lfBmTw14c1zRvGnji/vrWPQrfQbmO9uIp/OTcwaItszHvXrzuA+nrjfFrxR4D+Ofw/8AAHiaKwl0LxLoLC21NUcXB1WBQZo3cuUKFeRhQSXAz6gHulYOn+PPD+r/ANvfYdVt73+wZmt9S+zt5n2WVUDtG2P4lUjKjJHQ88V5x4k+LniS8/aGs/ht4Tt9LlhtdAn1jWbzUIpH8h2JS0iUo6hSXwzAhiUPGMZrwX9lFPiB9s+Ph1SXw22jjxHrI1dbSK4Fw2o7PmNuWbaIM9A4L+9AH1/4C8eaF8TvCWn+JvDV9/aWh6grNbXXkyReYFdkb5ZFVhhlYcgdK6Cvhb9k7xR8cJP2Y/DcngLw54TGiaTFdJEfEFxcNdaqwuJXfyFiwsYBJjG8nLKTwK9hX9sPTP8AhmTQ/isNDnnv9ZlXTrLw/DLl59QMrxeQr4+7ujdt2M7R0zxQB9EUV8x+KvjJ8c/g74dj8aePfCnhDUPCELRnU7Lw1cXP9padE7Bd5MhMcu0sNwXH1xlhpfGD9o7xR4Z+J3w48MeBNE0zxTF40064urQ3Ujw/MFV45TKDhYlQs7DYzELgYJoA+iq4f4nfG3wP8G7W0m8Y+IbfRvtjFbaFkeWabGM7Io1Z2AyMkLgZHrXl/hv41fEnwf8AGzwx8PvijpHhlk8VW9zJpGr+FpLgRrLAm+SKVJssTtx8wwPmX1O3tPF3w70Dwn481T4xy6XrfifxLaaSNPt9NsY1uXSIPnFrEQCJGJOTu6M3TJoA6b4b/Frwh8XtIl1Pwfr1rrlpC/lzeTuWSFuyyRsA6E4ONwGcV11fIP7MXiSH4hftTfFDxZcWLeB9Vm063sn8G6hG8OoyKhQ/bp0KhTn5VBUtgPyeQW+vqAMvxR4m03wX4b1PX9Zufsek6bbyXd3ceWz+XEilmbaoLHAB4AJrw2P/AIKA/AOaRUXx8oLHA3aRfqPzMGBXbftRf8m4fE3/ALF2+/8ARLV4F8Ef22vgl4O+A/gzw9rvir/iZ6doltaXmn/2Tdy4kSIKyZ8nY3IIzux70AfW3hPxdovjrQLTW/D+p2usaTdLuhvLOQPG+DgjI6EEEEHkEEGtevlX9iN7Lw/8K/iF438y30nwTq/iDUNd03T45kkGnWIGcOqEiNgq8x9VCD1q94V+MXx1+LnhtvG3gfwl4QsfCE5d9M07xDdXH9p6hCjEBw0f7qIvg7Q2frjDEA+nKK+YPHH7Yktv+y3D8WPDWkwpfJfw2F7pGqK0htpfOEc8R2shLDqrccFSR2rf1z4kfGHwJ8I/HPjbxbpfg+zfT9J/tDSdNsGuppIpOSYrosVD7RtBMZGTnoByAfQFFfJ918evju/wjj+K1r4Q8HReEotNTVZdIurq5/tOe1CB3mRl/dRgrl1Q7yF6kng9z8Qv2mm0n4f/AA81Dwjof9ueKfiCIRoOk3UvlIu+JZHkmYdEjDrux69QMkAHqPjb4keHPhz/AGH/AMJDqP8AZ/8AbWpQ6PYfuJJfOu5c+XH8ittztPzNhRjkiumr4X/aN1v4sR+KPgrpHxF0fw01pN480q7tdY8LS3HkpIjlTbyxzDduIk3KwOCEbj0+6KAOW/4Wd4aHxIHgL+0v+KsOn/2r/Z/kS/8AHrv2eZ5m3Z97jbu3e1Q/Ez4t+Efg7ocOreMNaj0eynnW2hLRSTSTSN0VI41Z3P8AuqcDk18s/F74saF8F/26LnxNr8kn2aH4fCGC2t13z3c7Xh8uGJe7sRx6YJOACa1v2W9Jh/aW8VXnxq8c3sOp65pt7Lp+keFQG8nw2Eb+NGA3TsMNvI7g9QAgB9JTfFXwxb+LfDnhie/lt9f8Q2sl5ptjNZzxvLFGu9y25AIyB1V9rdsZ4rra+aPij/yfR8FP+wNq/wD6JatLVvjd8QviJ8TPE3hH4SaN4ee18LSLbav4g8Uyz/ZjdEEm3hjhwzMuCCxOMg9OCwB7/eXkWn2c91cP5cEEbSyNgnCqMk4HPQVi+AfHuhfE7wlp/ifwzff2lod+Ha2uvJki3hXZG+WRVYYZWHIHSvK/hv8AHTWPE1x498GeNdBsdI8eeFrT7Rc21rI0+n39u8ZZJot2G2HgMrcjcOckgea2P7Sep+Av2GfDPxM0nw14d0q5kuVibRtMsWg0+KNr6SJ/KhWQFSVBb72NxJPXFAH19RXyz8Q/j18avhB4at/iB4t8IeE4/Av2iEX2kWF3cPq9hDK6orPIwETsCyghV6kDOMkfUcUqzRpIh3I4DK3qD0oAfRRRQAUUUUAFZviL/kC3P/Af/QhWlWb4i/5Atz/wH/0IUAaVFFFAGN4v8ZaH4B8P3eu+ItUttG0i1G6a7u5AiLk4A9yTgADkk4FcX8Nv2lvhn8XNYfSvCniy21LVFQyiykhltpnQDJZEmRC4A5yoPHNaXxR+DPh/4wS+Gv8AhIjdTWmg6kmqw2Mcii3uJkGFEyMp3qMnjjqfWvmT4kfEaH4p/tRfCPTdQ8Oan8NItC1WW5tdc8T2jWsurkEKLO1KgqVkIH33GQw4yQrAH2tRRRQAUUUUAFFFFABRRRQAUUUUAFFFFABRRRQAVm2f/Ic1H/rnF/7NWlWbZ/8AIc1H/rnF/wCzUAaVFFFAHm3xM/aO+G/wf1KDTvFnim20zUpk8xLGOKW5uNnZjHCjsoODyQAcGui+HvxM8LfFbw+ut+Etbtdd0wuYzNbMco4AJV1IDI2CDhgDgisTwj8H/DPw48aeNfHMc882seI5FudQvtTljYW8ca4EcbbQUiAA4JP3Rk8CvFP2VZLbxh8evjR8QfC1v9i+HmqTWtnaTKnlw6jdQoRPcxr0xu3Hd38zPXcAAfQ/xE+JPhr4TeFbnxJ4s1WPR9Gt2RHuJEdzuY4VVRAWYknooJwCegNdDa3Ud7aw3ELb4ZkEiNgjKkZBwfavz5/a61G6/aI+F3xA8exTyJ8OvBrRWHhxY2ITVb9ruGG5vT/ejRWeKPqDliCORX3v4X/5FnSP+vOH/wBAFAFnVdWstC0261HUruGwsLWNpp7q5kEccSAZLMx4AA7mvMvBP7Vnwn+IniOHQdA8Z2d5qs7FLeCSKaAXDDqsTSIqyH2QmvPP+Cg/m/8ACjtLWdpk8Ov4k05dfaHPFhvbfux23+V+OKg/bkm8H6V+ybdXFu+n2q2xspPDEtiyL5c6yxmNrUr0xGGOV/hzQB718RPid4V+E/h8614u1y10LTd/lrNcscyOedqIAWdsAnCgnANZnwy+OfgT4xC7HhDxHbavNaAG4tdkkNxED0ZopFVwp9duK+bdW1q28Y/tTfs/6t418o6RqHg37fpS3gAt21iQb3wD8u/aYiP9rZjnFbH7SfijSvCf7W3wEn0qWGLxVe3k2n6isBAkksJjHGizAdV3M5TPdWI6UAfWtFFFABRRRQAUUUUAFFFFABRRRQAUUUUAFFFFABRRRQAVma19/Tv+vtP5NWnWZrX39O/6+0/k1AGnRRRQBhaf/wAfkX+9/wCymt2sLT/+PyL/AHv/AGU1u0AFZmvf8e9t/wBfMX/oQrTrM17/AI97b/r5i/8AQhQBp0UUUAfNn7Xmi6rpvij4TfEW30e68Q6D4M1iW51fTrGIzTLDKqKLlY/4vKKFuOm4HgZI4P49fFnw7+1fYeEvAvwta88Say2u2mo3Gqx2E8MGiwxEl5pJJEXa+DgKOTyOpAP2fRQB8t/HyWf4V/tOeBvi1rGmXmo+BrfRZ9EvbuytmuG0iZndxcsigsFYPsLAdAe5AOL4n8daX+1F8evhLL8NkutW0vwhqEuq6t4o+xywW0EZVR9lV5FUu0m3BUD064bb9fUUAcF8f/8Akg/xI/7FrUv/AElkrC/ZM/5Np+Gv/YDtv/QBXrVFAHzRrn/KQ7w5/wBk+l/9LZKwf21P2oj8NNb0L4caV4hj8IahrkX2jU/FElvLcHSrIsy7oo41Zmlco4GB8uAeNwZfrWigD5T/AGbPjf8As5eC49L8BfD/AMUtfazqtwA89zpl6LrUrpusk0rwqCx56kAdBivqyiigAooooAKKKKACiiigAooooAKKKKACiiigAooooAKKKKAM3Vv+PrTP+vj/ANlatKs3Vv8Aj60z/r4/9latKgAr5C/bM8baL8Of2gv2d/EniK9/s/RdPutXkubrynl8tTFbKDtRWY8kdAa+vaKAPnf/AIeDfAH/AKH3/wAo2of/ABiua/aU8WaV461D9mzxBod19u0jUvG9hc2tx5bx+ZG3Iba4DD6EA19W0UAfNHh3/lIV4q/7EKD/ANK46L7/AJSLaf8A9k2P/pxevpeigD5Y/Zl0+TWNY/aWsIiFluvGWowIW6AshUZ/E1x37Nv7RGhfCv4Cab8NdY0/WY/ihoy3VivhRNLne5uZmmlaPYQmzYd65YsAME9ME/bFFAHwr8L42h/4JaazG4w6aXqysPQi8mr2zVOP2CbvsP8AhWj/APprNe/UUAfC2s/8kp/Yx/7Dej/+iVr2j9urwnrHi79nPWotD0+bVb6xurTUPsdshaSSOKZWfao5JC5bA7Ka+gaKAPhH9sT9p7wh8ZP2ade0jwT/AGlrdxMbWfUm/s+aGPSokuI2Pnu6hQxcLGFUkktxxzXqHxG/5PW+An/YG1f/ANJjX09RQB80ftBf8nafs0/9d9e/9JYa5X4c/EfR/wBk34kfFLw38Rmu9E0rxD4juPEmi661nNPbXiXAG6HfGrYkTaAQRyc+oz9g14TrngX42eFfHHiDVPAnizw/rug6zMLhdH8bG7b+zHxhlt5ISf3ZOTsIAHAHqQDz39lnxx/wsf8Aao+O3iCPTbzS7W4ttHFvBqEDQzmEQMI5GRuV8xQJADztcV65+1v/AMmz/En/ALAlx/6DR8B/gvqfw3vvFvifxTrUPiDxv4tuornVLu0hMNtGsSFIYIVJJ2IpIyeTxnpXrlAHxb8Rv+RF/Y4/7DWg/wDpLHXd/tyf8gn4Of8AZSdH/wDQZ6+l6KACvkbx14P0Hxv/AMFDNK07xHomna/p48AeaLTVLSO5i3i8lw2xwRkZPOO5r65ooA5Twz8JfA/gq9+2eHvBnh/QbvBH2jTNLgtpMHqNyIDXl37aXhG91X4Rp4t0VM+JPAt/D4lsGXqRA2ZkJ/umPcxHcoK98rxz9oLwF8S/idYjwv4U13QdA8I6tbNZ63d3cMz6kkbHDi22/uzujJU78HngigDmP2O7Obxdp/jP4u6hBJDfePtWe5tEnH7yLTYCYbSM+4AY8cEFTXA/AnxhpXhXxt+0N4E1e4fTvFWqeJNY1ix0+4gkU3No8ZZZUbbtI2jPXpzX1r4X8OWHg/w3pehaXD9n03TbWOztov7scahVHvwBWnQB4D+wX/yaX8P/APrjdf8ApZPXzP8ADvwVr3iX9g34Y674b02XW9S8H+LD4jOlwDdJdxQXc4dEXu2HBwOSFIAJwK/RaigD5B+OH7UPhb42/CPWPAvw5t9U8T+NvEluNOTRV0yeKSy3kCR7hnQJGEG7J3EZxzjLCbUPC7+Cf2ov2ZfDskizyaP4Wv8AT2lXo5isvLLD67a+uKKAPmj9oL/k7T9mn/rvr3/pLDW98RP2jL/4L/F6Sw8d6WNO+GV7YpJpviiztJ5/KuhgSQ3JTdtzyVwo4x15K+80UAfJ/gPUF+P/AO11YfEzwpY3cXgfw5oEmltr11bPbpq08jORHErgM6IHzuI4K+659w+G3xs0P4peKfG+g6Va6hb3nhHUP7NvnvI0WOSTLjMRV2JX5DywU8jivQK5Twj4DXwz4k8Wa7NfyajqPiC8jnkZoxGsEMUYjhhUDqFUEljyzOx44AAOa/ai/wCTcPib/wBi7ff+iWrwf4D/ALbHwU8I/A/wR4c1rxd5erafo1taXdj/AGTey7ZUjCsmVhKtyMcEj3r7IooA+KvgH8PNQ+Jlp+0XqOh6NdeD/Avjy3ay0CzvoDbB5Gt5Y5LpYsfIjM4bgYOcfw15j8M9J/Z78G+A7XQvi14W1/w/8SdKRra90k3Gr+ZfSKSFktxDJ5bBxjG3C5P93BP6R0UAfA/xh8M6d4d/YRZ9N8A3Pw2t9S1+0vzoN7qM17Ou6eNRJI0vzIzqinZ24zyTX03+1z/ybL8Sf+wLP/KvXaKAPn/V/wDkwe8/7Jo3/prrx640nVPDfwr/AGWvitZaXd63pfgvTVTVrOwiMs6Wt1aRxtOqDlhHtJIHqOwJH3DRQB8O/tE/tHeFPjJr3wb0rwU93rmn2/j7SLq91f7DNDbW8gdljgLSIuZGDO2B0EZzX3FRRQB8ma14d0zX/wDgpJpj6lYw3raf4HW9tfOXcIp1unVZAP7wDtg9icjkA1U+Omk6h+yr8XU+Nvhi0kuPBmtyR2njbR7YcAs2EvUXpuyeTx8x6/vWI+vqKAPlnxlr2n+KP2zfgLrGk3cV/pl9oGq3FtdQnKSxtAxVh9Qa8b1D4cfDD4XfHL4mR/HLQ9Tt9M1/WJdb0HxNDcaglnNHOzO9uxtXAEiM38Qyeecbc/oVRQB8jfs/+Hvh9cXPxG8R/Dz4c6p4e0FNJk0+08V6pqV651hSm9xFb3LEqisg+fqeBxlgPItY/wCUWvg7/r/i/wDTpLX6LUUAfOv/AAUH/wCTRPHf1sP/AEvt6990T/kDWH/XvH/6CKu0UAFFFFABRRRQAVm+Iv8AkC3P/Af/AEIVpVm+Iv8AkC3P/Af/AEIUAaVFFFAHkv7QPxQ8V/COz8O6/o3h0eIvDCX3l+I1t4JJry1tCBieFFYZ2nduyD26DJHhPx2+Jmgftdr4L8DfC77V4jvI9etdUvtbWxmgt9Ggi3bneSRFxIQ2Ao64I6kA/aFFABRRRQAUUUUAFFFFABRRRQAUUUUAFFFFABRRRQAVm2f/ACHNR/65xf8As1aVZtn/AMhzUf8ArnF/7NQBpUUUUAfn78dP2nPB3xa+MmsfD7xh41m8FfCvw9ObfUYrO2uZbrxDco5V4S8MbeXArKQem7GRnIKe8+GviB8Lf2jfhnr/AML/AITeLv7HSLSxbbtN0u4g+xWzMEOwSpGDkEqcHPzE19E0UAfBv7T3wL8dfCv9k3xBYy/FmXWfCOk21nbr4eHhuytUkjF1CqDzYxvBDFWznLFeScmvo6x8WXn7Pn7P9x4n8eeIr/xvFpsEdy9xa6db204hfy0SJI1ZEbaW+8SCQT6V7JRQB5X8T/iCJ/gO/izTvA8/j3TNRsILqbw7JtE01nMql8ptkDsqNkoM5wcGvkjxTofwR8eeGbnwh8BPCT6j478R7bJ7mS0vWj0G3dwbiWRrn5YBsDriPBJbAznB/QuigD5v/aGm8FeC/Dngnwj8QfAUviT4ZiAWs/iJVkl/seSKMJEzpEhkUOON6MMcjnv5l8PfA3gD4nfGfwMfhB4ca0+H/hO6k1vV/EslvOo1C9CbLa3SW4/eSlDuY5JUBjjGeft2igAooooAKKKKACiiigAooooAKKKKACiiigAooooAKKKKACszWvv6d/19p/Jq06zNa+/p3/X2n8moA06KKKAMLT/+PyL/AHv/AGU1u1haf/x+Rf73/sprdoAKzNe/497b/r5i/wDQhWnWV4ikEdpA5BKrcRk7QTwGzQBq0Vm/8JDZf3pf+/D/AOFH/CQ2X96X/vw/+FAGlRWb/wAJDZf3pf8Avw/+FH/CQ2X96X/vw/8AhQBpUVm/8JDZf3pf+/D/AOFH/CQ2X96X/vw/+FAGlRWb/wAJDZf3pf8Avw/+FH/CQ2X96X/vw/8AhQBpUVm/8JDZf3pf+/D/AOFH/CQ2X96X/vw/+FAGlRWb/wAJDZf3pf8Avw/+FH/CQ2X96X/vw/8AhQBpUVm/8JDZf3pf+/D/AOFH/CQ2X96X/vw/+FAGlRWb/wAJDZf3pf8Avw/+FH/CQ2X96X/vw/8AhQBpUVm/8JDZf3pf+/D/AOFH/CQ2X96X/vw/+FAGlRWb/wAJDZf3pf8Avw/+FH/CQ2X96X/vw/8AhQBpUVm/8JDZf3pf+/D/AOFH/CQ2X96X/vw/+FAGlRWb/wAJDZf3pf8Avw/+FH/CQ2X96X/vw/8AhQBpUVm/8JDZf3pf+/D/AOFH/CQ2X96X/vw/+FAGlRWb/wAJDZf3pf8Avw/+FH/CQ2X96X/vw/8AhQAat/x9aZ/18f8AsrVpVz+oazaz3FiyGQiObe37pxxtPtV7/hIbL+9L/wB+H/woA0qKzf8AhIbL+9L/AN+H/wAKP+Ehsv70v/fh/wDCgDSorN/4SGy/vS/9+H/wo/4SGy/vS/8Afh/8KANKis3/AISGy/vS/wDfh/8ACj/hIbL+9L/34f8AwoA0qKzf+Ehsv70v/fh/8KP+Ehsv70v/AH4f/CgDSorN/wCEhsv70v8A34f/AAo/4SGy/vS/9+H/AMKANKis3/hIbL+9L/34f/Cj/hIbL+9L/wB+H/woA0qKzf8AhIbL+9L/AN+H/wAKP+Ehsv70v/fh/wDCgDSorN/4SGy/vS/9+H/wo/4SGy/vS/8Afh/8KANKis3/AISGy/vS/wDfh/8ACj/hIbL+9L/34f8AwoA0qKzf+Ehsv70v/fh/8KP+Ehsv70v/AH4f/CgDSorN/wCEhsv70v8A34f/AAo/4SGy/vS/9+H/AMKANKis3/hIbL+9L/34f/Cj/hIbL+9L/wB+H/woA0qKzf8AhIbL+9L/AN+H/wAKP+Ehsv70v/fh/wDCgDSorN/4SGy/vS/9+H/wo/4SGy/vS/8Afh/8KANKis3/AISGy/vS/wDfh/8ACj/hIbL+9L/34f8AwoA0qKzf+Ehsv70v/fh/8KP+Ehsv70v/AH4f/CgDSorN/wCEhsv70v8A34f/AAo/4SGy/vS/9+H/AMKANKis3/hIbL+9L/34f/Cj/hIbL+9L/wB+H/woA0qKzf8AhIbL+9L/AN+H/wAKP+Ehsv70v/fh/wDCgDSorN/4SGy/vS/9+H/wo/4SGy/vS/8Afh/8KANKis3/AISGy/vS/wDfh/8ACj/hIbL+9L/34f8AwoA0qKzf+Ehsv70v/fh/8KP+Ehsv70v/AH4f/CgDSorN/wCEhsv70v8A34f/AAo/4SGy/vS/9+H/AMKANKis3/hIbL+9L/34f/Cj/hIbL+9L/wB+H/woA0qKzf8AhIbL+9L/AN+H/wAKP+Ehsv70v/fh/wDCgDSorN/4SGy/vS/9+H/wo/4SGy/vS/8Afh/8KANKis3/AISGy/vS/wDfh/8ACj/hIbL+9L/34f8AwoA0qKzf+Ehsv70v/fh/8KP+Ehsv70v/AH4f/CgDSrN8Rf8AIFuf+A/+hCj/AISGy/vS/wDfh/8ACqOt61a3WlzxRmQu2MAxOP4h6igDoKKzf+Ehsv70v/fh/wDCj/hIbL+9L/34f/CgDSorN/4SGy/vS/8Afh/8KP8AhIbL+9L/AN+H/wAKANKis3/hIbL+9L/34f8Awo/4SGy/vS/9+H/woA0qKzf+Ehsv70v/AH4f/Cj/AISGy/vS/wDfh/8ACgDSorN/4SGy/vS/9+H/AMKP+Ehsv70v/fh/8KANKis3/hIbL+9L/wB+H/wo/wCEhsv70v8A34f/AAoA0qKzf+Ehsv70v/fh/wDCj/hIbL+9L/34f/CgDSorN/4SGy/vS/8Afh/8KP8AhIbL+9L/AN+H/wAKANKis3/hIbL+9L/34f8Awo/4SGy/vS/9+H/woA0qzbP/AJDmo/8AXOL/ANmo/wCEhsv70v8A34f/AAqjbazapq17KTJ5ciRhT5T9t2eMe9AHQUVm/wDCQ2X96X/vw/8AhR/wkNl/el/78P8A4UAaVFZv/CQ2X96X/vw/+FH/AAkNl/el/wC/D/4UAaVFZv8AwkNl/el/78P/AIUf8JDZf3pf+/D/AOFAGlRWb/wkNl/el/78P/hR/wAJDZf3pf8Avw/+FAGlRWb/AMJDZf3pf+/D/wCFH/CQ2X96X/vw/wDhQBpUVm/8JDZf3pf+/D/4Uf8ACQ2X96X/AL8P/hQBpUVm/wDCQ2X96X/vw/8AhR/wkNl/el/78P8A4UAaVFZv/CQ2X96X/vw/+FH/AAkNl/el/wC/D/4UAaVFZv8AwkNl/el/78P/AIUf8JDZf3pf+/D/AOFAGlRWb/wkNl/el/78P/hR/wAJDZf3pf8Avw/+FAGlRWb/AMJDZf3pf+/D/wCFH/CQ2X96X/vw/wDhQBpUVm/8JDZf3pf+/D/4Uf8ACQ2X96X/AL8P/hQBpUVm/wDCQ2X96X/vw/8AhR/wkNl/el/78P8A4UAaVZmtff07/r7T+TUv/CQ2X96X/vw/+FU77VLe+n09ITIzLdKxzEy8YI7j3oA3qKKKAMLT/wDj8i/3v/ZTW7WFp/8Ax+Rf73/sprdoAKKKKACiiigAooooAKKKKACiiigAooooAKKKKACiiigAooooAKKKKACiiigAooooAKKKKACiiigAooooAKKKKACiiigAooooAKKKKACiiigAooooAKKKKACiiigAooooAKKKKACiiigAooooAKKKKACiiigAooooAKKKKACiiigAooooAKKKKACiiigAooooAKKKKACiiigAooooAKKKKACiiigAooooAKKKKACiiigAooooAKKKKACiiigAooooAKKKKACiiigAooooAKKKKACiiigAooooAKKKKACiiigAooooAKKKKACiiigAooooAKKKKACiiigAooooAKKKKACiiigAooooAKKKKACiiigAooooAKKKKAMLT/8Aj8i/3v8A2U1u0UUAFFFFABRRRQAUUUUAFFFFABRRRQAUUUUAFFFFABRRRQAUUUUAFFFFABRRRQAUUUUAFFFFABRRRQAUUUUAFFFFABRRRQAUUUUAFFFFABRRRQAUUUUAFFFFABRRRQAUUUUAFFFFABRRRQAUUUUAFFFFABRRRQAUUUUAFFFFABRRRQAUUUUAFFFFABRRRQAUUUUAFFFFABRRRQAUUUUAFFFFABRRRQAUUUUAFFFFABRRRQAUUUUAFFFFABRRRQAUUUUAFFFFABRRRQAUUUUAFFFFABRRRQAUUUUAFFFFABRRRQAUUUUAFFFFABRRRQAUUUUAFFFFABRRRQAUUUUAFFFFABRRRQAUUUUAFFFFABRRRQAUUUUAFFFFAH//2Q==)"
      ],
      "metadata": {
        "id": "a3hItzJHw6Mw"
      }
    },
    {
      "cell_type": "code",
      "source": [
        "#Write a Python program, which returns a list with 2-tuples. Each tuple consists of the order number and the product of the price per items and the quantity. The product should be increased by $10 if the value of the order is less than $100.00. Write a Python program using lambda and map.\n",
        "\n"
      ],
      "metadata": {
        "id": "jxffVPK9xL-d"
      },
      "execution_count": null,
      "outputs": []
    },
    {
      "cell_type": "markdown",
      "source": [
        "In the Python shell, write a Python program that computes the sum of all products of the price per items and the quantity (price per item x quantity). To enter the Python shell, open the terminal and type python. Use map and reduce function to do so.\n",
        "I can write the list with sublists like the following in the Python shell:\n",
        "\n"
      ],
      "metadata": {
        "id": "TUX_jD__xY5a"
      }
    },
    {
      "cell_type": "code",
      "source": [
        "orders = [ [\"34587\", \"Learning Python, Mark Lutz\", 4, 40.95],\n",
        "[\"98762\", \"Programming Python, Mark Lutz\", 5, 56.80],\n",
        "[\"77226\", \"Head First Python, Paul Barry\", 3, 32.95],\n",
        "[\"88112\", \"Einfuhrung in Python3, Bernd Klein\", 3, 24.99]]\n",
        "print(orders)"
      ],
      "metadata": {
        "colab": {
          "base_uri": "https://localhost:8080/"
        },
        "id": "DMvtlpb-xesR",
        "outputId": "76efc1c5-c631-42cd-ae56-5db0a681d5a4"
      },
      "execution_count": 19,
      "outputs": [
        {
          "output_type": "stream",
          "name": "stdout",
          "text": [
            "[['34587', 'Learning Python, Mark Lutz', 4, 40.95], ['98762', 'Programming Python, Mark Lutz', 5, 56.8], ['77226', 'Head First Python, Paul Barry', 3, 32.95], ['88112', 'Einfuhrung in Python3, Bernd Klein', 3, 24.99]]\n"
          ]
        }
      ]
    },
    {
      "cell_type": "code",
      "source": [
        "The result should be: 624.62\n",
        "\n"
      ],
      "metadata": {
        "id": "Uwo2Wnw-xiXt"
      },
      "execution_count": null,
      "outputs": []
    }
  ]
}